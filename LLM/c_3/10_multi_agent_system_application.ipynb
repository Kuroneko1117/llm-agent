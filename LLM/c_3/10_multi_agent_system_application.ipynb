{
 "cells": [
  {
   "cell_type": "markdown",
   "id": "a5e52951-1f80-4fdd-9b2e-4a1894315225",
   "metadata": {},
   "source": [
    "# マルチエージェントの活用"
   ]
  },
  {
   "cell_type": "markdown",
   "id": "6c91d1c0-6840-4b36-a2ea-02d632a6c6e5",
   "metadata": {},
   "source": [
    "# 準備"
   ]
  },
  {
   "cell_type": "code",
   "execution_count": 12,
   "id": "8cec8d0b-4fa9-49df-8f93-ca5dc8011388",
   "metadata": {},
   "outputs": [
    {
     "name": "stdin",
     "output_type": "stream",
     "text": [
      "OpenAI API キーを入力してください:  ········\n"
     ]
    }
   ],
   "source": [
    "import getpass\n",
    "import os\n",
    "api_key = getpass.getpass(\"OpenAI API キーを入力してください: \")\n",
    "os.environ[\"OPENAI_API_KEY\"] = api_key"
   ]
  },
  {
   "cell_type": "code",
   "execution_count": 14,
   "id": "9b4b910e-8d98-43ac-96d5-17aa7f064b3e",
   "metadata": {},
   "outputs": [
    {
     "name": "stdout",
     "output_type": "stream",
     "text": [
      "Note: you may need to restart the kernel to use updated packages.\n"
     ]
    }
   ],
   "source": [
    "pip install -q langchain langgraph langchain-openai langchain-community langchain-experimental"
   ]
  },
  {
   "cell_type": "markdown",
   "id": "43ad3826-4b0a-45b7-b43a-66e628723530",
   "metadata": {},
   "source": [
    "# 数学の問題を解かせよう"
   ]
  },
  {
   "cell_type": "code",
   "execution_count": 3,
   "id": "48aa4e35-c757-49b7-a83a-00e87a28557f",
   "metadata": {},
   "outputs": [
    {
     "name": "stdout",
     "output_type": "stream",
     "text": [
      "Note: you may need to restart the kernel to use updated packages.\n"
     ]
    }
   ],
   "source": [
    "pip install -q sympy"
   ]
  },
  {
   "cell_type": "markdown",
   "id": "da8a201b-50ae-43cd-a5ab-30021fcb7082",
   "metadata": {},
   "source": [
    "# Stateの定義"
   ]
  },
  {
   "cell_type": "code",
   "execution_count": 16,
   "id": "b1518526-c955-4000-88e2-c4bbc659d443",
   "metadata": {},
   "outputs": [],
   "source": [
    "from typing_extensions import TypedDict\n",
    "from typing import Annotated\n",
    "from langgraph.graph.message import add_messages\n",
    "\n",
    "class State(TypedDict):\n",
    "    messages: Annotated[list, add_messages]\n",
    "    problem: str\n",
    "    first_flag: bool\n",
    "    end_flag: bool"
   ]
  },
  {
   "cell_type": "markdown",
   "id": "113368d3-7cfb-4cfe-8b50-5145f4703849",
   "metadata": {},
   "source": [
    "# ユーザープロキシエージェントの作成"
   ]
  },
  {
   "cell_type": "code",
   "execution_count": 18,
   "id": "5e810efb-f2fb-4c75-aeb7-4d86fe725bf8",
   "metadata": {},
   "outputs": [],
   "source": [
    "import re\n",
    "from langchain_experimental.utilities import PythonREPL\n",
    "from langchain_core.messages import HumanMessage\n",
    "\n",
    "#1 Python実行用のツール\n",
    "repl = PythonREPL()\n",
    "\n",
    "#2 コード部分を抜き出す関数\n",
    "def extract_code(input_string: str):\n",
    "    pattern = r\"```(.*?)```\"\n",
    "    match = re.findall(pattern, input_string, flags=re.DOTALL)\n",
    "\n",
    "    queries = \"\"\n",
    "    for m in match:\n",
    "        query = m.replace(\"python\", \"\").strip()\n",
    "        queries += query + \"\\n\"\n",
    "    return queries\n",
    "\n",
    "#3 ユーザープロキシエージェントの定義\n",
    "INITIAL_PROMPT = \"\"\"\\\n",
    "Pythonを使って数学の問題を解いてみましょう。\n",
    "\n",
    "クエリ要件：\n",
    "常に出力には'print'関数を使用し、小数ではなく分数や根号形式を使用してください。\n",
    "sympyなどのパッケージを利用しても構いません。\n",
    "以下のフォーマットに従ってコードを書いてください。\n",
    "```python\n",
    "# あなたのコード\n",
    "```\n",
    "\n",
    "まず、問題を解くための主な考え方を述べてください。問題を解くためには以下の3つの方法から選択できます：\n",
    "ケース1：問題が直接Pythonコードで解決できる場合、プログラムを書いて解決してください。必要に応じてすべての可能な配置を列挙しても構いません。\n",
    "ケース2：問題が主に推論で解決できる場合、自分で直接解決してください。\n",
    "ケース3：上記の2つの方法では対処できない場合、次のプロセスに従ってください：\n",
    "1. 問題をステップバイステップで解決する（ステップを過度に細分化しないでください）。\n",
    "2. Pythonを使って問い合わせることができるクエリ（計算や方程式など）を取り出します。\n",
    "3. 結果を私に教えてください。\n",
    "4. 結果が正しいと思う場合は続行してください。結果が無効または予期しない場合は、クエリまたは推論を修正してください。\n",
    "\n",
    "すべてのクエリが実行され、答えを得た後、答えを \\\\boxed{{}} に入れてください。\n",
    "答え以外、例えば変数を\\\\boxed{{}}に入れたり、\\\\boxed{{}}を単体で使用しないで下さい。\n",
    "\\\\boxed{{}}の有無で答えが出たかを管理しています。最終的な答えが出た時以外は、\\\\boxed{{}}を使用しないでください。\n",
    "回答が得られた場合は、シンプルに表示して下さい。追加の出力などはしないでください。\n",
    "\n",
    "問題文：{problem}\n",
    "\"\"\"\n",
    "\n",
    "def user_proxy_agent(state: State):\n",
    "    if state[\"first_flag\"]:\n",
    "        message = INITIAL_PROMPT.format(problem=state[\"problem\"])\n",
    "    else:\n",
    "        last_message = state[\"messages\"][-1].content\n",
    "        code = extract_code(last_message)\n",
    "        if code:\n",
    "            message = repl.run(code)\n",
    "        else:\n",
    "            message = \"続けてください。クエリが必要になるまで問題を解き続けてください。（答えが出た場合は、\\\\boxed{{}} に入れてください。）\",\n",
    "    message = HumanMessage(message)\n",
    "    return {\"messages\": [message], \"first_flag\": False}"
   ]
  },
  {
   "cell_type": "markdown",
   "id": "69d9d104-4ff0-4f22-8a4a-304bb045b50b",
   "metadata": {},
   "source": [
    "# LLMエージェントの作成"
   ]
  },
  {
   "cell_type": "code",
   "execution_count": 26,
   "id": "b1bb786c-9097-499a-b49c-5e8dbc8cccdb",
   "metadata": {},
   "outputs": [],
   "source": [
    "from langchain_openai import ChatOpenAI\n",
    "\n",
    "llm = ChatOpenAI(model=\"gpt-4o-mini\")\n",
    "\n",
    "# 回答を抜き出す関数\n",
    "def extract_boxed(input_string: str):\n",
    "    pattern = r\"\\\\boxed\\{.*?\\}\"\n",
    "    matches = re.findall(pattern, input_string)\n",
    "    return [m.replace(\"\\\\boxed{\", \"\").replace(\"}\", \"\") for m in matches]\n",
    "\n",
    "#  LLMエージェントを定義した関数\n",
    "def llm_agent(state: State):\n",
    "    message = llm.invoke(state[\"messages\"])\n",
    "    content = message.content\n",
    "    boxed = extract_boxed(content)\n",
    "    end_flag = False\n",
    "    if boxed:\n",
    "        end_flag = True\n",
    "    return {\"messages\": [message], \"end_flag\": end_flag}"
   ]
  },
  {
   "cell_type": "markdown",
   "id": "fb5ac0c4-a2f1-4287-ac7b-04b53460c068",
   "metadata": {},
   "source": [
    "# グラフの構築"
   ]
  },
  {
   "cell_type": "code",
   "execution_count": 30,
   "id": "bd3b44ab-80c5-4ee7-b251-5bb95f4cd9fa",
   "metadata": {},
   "outputs": [],
   "source": [
    "from langgraph.graph import StateGraph, START, END\n",
    "\n",
    "graph_builder = StateGraph(State)\n",
    "\n",
    "graph_builder.add_node(\"llm_agent\", llm_agent)\n",
    "graph_builder.add_node(\"user_proxy_agent\", user_proxy_agent)\n",
    "\n",
    "graph_builder.add_edge(START, \"user_proxy_agent\")\n",
    "graph_builder.add_conditional_edges(\n",
    "    \"llm_agent\",\n",
    "    lambda state: state[\"end_flag\"],\n",
    "    {True: END, False: \"user_proxy_agent\"}\n",
    ")\n",
    "graph_builder.add_edge(\"user_proxy_agent\", \"llm_agent\")\n",
    "\n",
    "graph = graph_builder.compile()"
   ]
  },
  {
   "cell_type": "markdown",
   "id": "18400588-54c6-45e6-bcad-d2f1dbf9751d",
   "metadata": {},
   "source": [
    "# グラフの構造"
   ]
  },
  {
   "cell_type": "code",
   "execution_count": 35,
   "id": "a7d3d0d9-c212-4a24-880d-060591ed3bd4",
   "metadata": {},
   "outputs": [
    {
     "data": {
      "image/png": "[encoded data removed]",
      "text/plain": [
       "<IPython.core.display.Image object>"
      ]
     },
     "metadata": {},
     "output_type": "display_data"
    }
   ],
   "source": [
    "from IPython.display import display, Image\n",
    "\n",
    "display(Image(graph.get_graph().draw_mermaid_png()))"
   ]
  },
  {
   "cell_type": "code",
   "execution_count": 37,
   "id": "fc5b2e29-fd0b-438c-840b-e12880f17001",
   "metadata": {},
   "outputs": [
    {
     "name": "stdout",
     "output_type": "stream",
     "text": [
      "================================\u001b[1m Human Message \u001b[0m=================================\n",
      "\n",
      "Pythonを使って数学の問題を解いてみましょう。\n",
      "\n",
      "クエリ要件：\n",
      "常に出力には'print'関数を使用し、小数ではなく分数や根号形式を使用してください。\n",
      "sympyなどのパッケージを利用しても構いません。\n",
      "以下のフォーマットに従ってコードを書いてください。\n",
      "```python\n",
      "# あなたのコード\n",
      "```\n",
      "\n",
      "まず、問題を解くための主な考え方を述べてください。問題を解くためには以下の3つの方法から選択できます：\n",
      "ケース1：問題が直接Pythonコードで解決できる場合、プログラムを書いて解決してください。必要に応じてすべての可能な配置を列挙しても構いません。\n",
      "ケース2：問題が主に推論で解決できる場合、自分で直接解決してください。\n",
      "ケース3：上記の2つの方法では対処できない場合、次のプロセスに従ってください：\n",
      "1. 問題をステップバイステップで解決する（ステップを過度に細分化しないでください）。\n",
      "2. Pythonを使って問い合わせることができるクエリ（計算や方程式など）を取り出します。\n",
      "3. 結果を私に教えてください。\n",
      "4. 結果が正しいと思う場合は続行してください。結果が無効または予期しない場合は、クエリまたは推論を修正してください。\n",
      "\n",
      "すべてのクエリが実行され、答えを得た後、答えを \\boxed{} に入れてください。\n",
      "答え以外、例えば変数を\\boxed{}に入れたり、\\boxed{}を単体で使用しないで下さい。\n",
      "\\boxed{}の有無で答えが出たかを管理しています。最終的な答えが出た時以外は、\\boxed{}を使用しないでください。\n",
      "回答が得られた場合は、シンプルに表示して下さい。追加の出力などはしないでください。\n",
      "\n",
      "問題文：問題: 偽の金塊は、コンクリートの立方体を金色のペイントで覆うことによって作られます。\n",
      "ペイントのコストは立方体の表面積に比例し、コンクリートのコストは体積に比例します。\n",
      "1インチの立方体を作るコストが$1.30であり、2インチの立方体を作るコストが$6.80であるとき、3インチの立方体を作るコストはいくらになりますか？\n",
      "\n",
      "==================================\u001b[1m Ai Message \u001b[0m==================================\n",
      "\n",
      "この問題は、立方体の表面積と体積を用いたコストの計算に関するものです。\n",
      "\n",
      "1. **立方体の表面積と体積の計算**:\n",
      "   - 1インチの立方体:\n",
      "     - 表面積 \\( S_1 = 6 \\times (1^2) = 6 \\) 平方インチ\n",
      "     - 体積 \\( V_1 = 1^3 = 1 \\) 立方インチ \n",
      "   - 2インチの立方体:\n",
      "     - 表面積 \\( S_2 = 6 \\times (2^2) = 24 \\) 平方インチ\n",
      "     - 体積 \\( V_2 = 2^3 = 8 \\) 立方インチ\n",
      "   - 3インチの立方体:\n",
      "     - 表面積 \\( S_3 = 6 \\times (3^2) = 54 \\) 平方インチ\n",
      "     - 体積 \\( V_3 = 3^3 = 27 \\) 立方インチ\n",
      "\n",
      "2. **コストのモデル化**:\n",
      "   - 1インチのコスト: \\( C_1 = 1.30 \\)\n",
      "   - 2インチのコスト: \\( C_2 = 6.80 \\)\n",
      "   - 表面積に対するペイントコストの比率と体積に対するコンクリートコストの比率を考慮します。\n",
      "\n",
      "3. **ペイントとコンクリートのコストの式を立てる**:\n",
      "   - \\( k_s \\) を単位面積あたりのペイントコスト、\\( k_v \\) を単位体積あたりのコンクリートコストとする。\n",
      "   - 1インチのコストに対するモデル:\n",
      "     \\[\n",
      "     k_s \\cdot S_1 + k_v \\cdot V_1 = 1.30\n",
      "     \\]\n",
      "   - 2インチのコストに対するモデル:\n",
      "     \\[\n",
      "     k_s \\cdot S_2 + k_v \\cdot V_2 = 6.80\n",
      "     \\]\n",
      "\n",
      "これらの式に基づいて、3インチの立方体に対するコストを求めましょう。まずは連立方程式を用いて\\( k_s \\)と\\( k_v \\)を求めます。\n",
      "\n",
      "以下にPythonコードを示します。\n",
      "\n",
      "```python\n",
      "from sympy import symbols, Eq, solve\n",
      "\n",
      "# 変数の定義\n",
      "k_s, k_v = symbols('k_s k_v')\n",
      "\n",
      "# 1インチのコストに関する方程式\n",
      "S1 = 6\n",
      "V1 = 1\n",
      "C1 = 1.30\n",
      "eq1 = Eq(k_s * S1 + k_v * V1, C1)\n",
      "\n",
      "# 2インチのコストに関する方程式\n",
      "S2 = 24\n",
      "V2 = 8\n",
      "C2 = 6.80\n",
      "eq2 = Eq(k_s * S2 + k_v * V2, C2)\n",
      "\n",
      "# 連立方程式を解く\n",
      "solution = solve((eq1, eq2), (k_s, k_v))\n",
      "k_s_value = solution[k_s]\n",
      "k_v_value = solution[k_v]\n",
      "\n",
      "# 3インチのコストを計算する\n",
      "S3 = 54\n",
      "V3 = 27\n",
      "C3 = k_s_value * S3 + k_v_value * V3\n",
      "\n",
      "# 結果を表示\n",
      "print(C3)\n",
      "```\n",
      "\n",
      "このコードを実行すると、3インチの立方体を作るコストが得られます。結果が得られ次第、最終的なコストを\\(\\boxed{}\\)で表示します。\n"
     ]
    }
   ],
   "source": [
    "#実行\n",
    "problem = \"\"\"\\\n",
    "問題: 偽の金塊は、コンクリートの立方体を金色のペイントで覆うことによって作られます。\n",
    "ペイントのコストは立方体の表面積に比例し、コンクリートのコストは体積に比例します。\n",
    "1インチの立方体を作るコストが$1.30であり、2インチの立方体を作るコストが$6.80であるとき、3インチの立方体を作るコストはいくらになりますか？\"\"\"\n",
    "\n",
    "\n",
    "for event in graph.stream({\"problem\": problem, \"first_flag\": True}):\n",
    "    for value in event.values():\n",
    "        value[\"messages\"][-1].pretty_print()"
   ]
  },
  {
   "cell_type": "markdown",
   "id": "27020ad9-c3ae-451a-ab1e-8726ee26b6d9",
   "metadata": {},
   "source": [
    "# 議論させてみる"
   ]
  },
  {
   "cell_type": "markdown",
   "id": "3c031a4f-a3b7-4f50-9516-828a7be4ac1e",
   "metadata": {},
   "source": [
    "# Stateの定義"
   ]
  },
  {
   "cell_type": "code",
   "execution_count": 41,
   "id": "687df4af-1465-46b0-8ad6-41b0fcc27d83",
   "metadata": {},
   "outputs": [],
   "source": [
    "from typing_extensions import TypedDict\n",
    "from typing import Annotated\n",
    "from langgraph.graph.message import add_messages\n",
    "\n",
    "class State(TypedDict):\n",
    "    messages: Annotated[list, add_messages]\n",
    "    debate_topic: str\n",
    "    judged: bool\n",
    "    round: int"
   ]
  },
  {
   "cell_type": "markdown",
   "id": "e3bdd65b-20ff-495a-961d-9fcd398d2d99",
   "metadata": {},
   "source": [
    "# CoTエージェント"
   ]
  },
  {
   "cell_type": "code",
   "execution_count": 46,
   "id": "525f4168-ca9c-41a8-afcf-01b757c9bf54",
   "metadata": {},
   "outputs": [],
   "source": [
    "from langchain_core.messages import HumanMessage, SystemMessage\n",
    "from langchain_openai import ChatOpenAI\n",
    "\n",
    "llm = ChatOpenAI(model=\"gpt-4o\")\n",
    "\n",
    "def cot_agent(\n",
    "    state: State,\n",
    "):\n",
    "    system_message = (\n",
    "        \"与えられた議題に対し、ステップバイステップで考えてから回答してください。\"\n",
    "        \"議題：{debate_topic}\"\n",
    "    )\n",
    "    system_message = SystemMessage(\n",
    "        system_message.format(debate_topic=state[\"debate_topic\"])\n",
    "    )\n",
    "    message = HumanMessage(\n",
    "        content=llm.invoke([system_message]).content, name=\"CoT\"\n",
    "    )\n",
    "\n",
    "    return {\"messages\": [message]}\n"
   ]
  },
  {
   "cell_type": "markdown",
   "id": "9e04b7cf-3388-429e-8951-a4ab885f5135",
   "metadata": {},
   "source": [
    "# 討論者エージェントの作成"
   ]
  },
  {
   "cell_type": "code",
   "execution_count": 49,
   "id": "54092bd5-7e1f-430a-92b0-23bd6c8764b9",
   "metadata": {},
   "outputs": [],
   "source": [
    "from langchain_core.messages import HumanMessage, SystemMessage\n",
    "import functools\n",
    "\n",
    "def debater(\n",
    "    state: State,\n",
    "    name: str,\n",
    "    position: str,\n",
    "):\n",
    "    system_message = (\n",
    "        \"あなたはディベーターです。ディベート大会へようこそ。\"\n",
    "        \"私たちの目的は正しい答えを見つけることですので、お互いの視点に完全に同意する必要はありません。\"\n",
    "        \"ディベートのテーマは以下の通りです：{debate_topic}\"\n",
    "        \"\"\n",
    "        \"{position}\"\n",
    "    )\n",
    "\n",
    "    debate_topic = state[\"debate_topic\"]\n",
    "    system_message = SystemMessage(\n",
    "        system_message.format(debate_topic=debate_topic, position=position)\n",
    "    )\n",
    "    message = HumanMessage(\n",
    "        content=llm.invoke([system_message, *state[\"messages\"]]).content,\n",
    "        name=name,\n",
    "    )\n",
    "    return {\"messages\": [message]}\n",
    "\n",
    "\n",
    "affirmative_debator = functools.partial(\n",
    "    debater,\n",
    "    name=\"Affirmative_Debater\",\n",
    "    position=\"あなたは肯定側です。あなたの見解を簡潔に述べてください。否定側の意見が与えられた場合は、それに反対して理由を簡潔に述べてください。\"\n",
    ")\n",
    "negative_debator = functools.partial(\n",
    "    debater,\n",
    "    name=\"Negative_Debater\",\n",
    "    position=\"あなたは否定側です。肯定側の意見に反対し、あなたの理由を簡潔に説明してください。\"\n",
    ")"
   ]
  },
  {
   "cell_type": "markdown",
   "id": "f15c031b-92a3-46c6-87ad-3c9ccbfbd65d",
   "metadata": {},
   "source": [
    "# 判定者エージェントの作成"
   ]
  },
  {
   "cell_type": "code",
   "execution_count": 52,
   "id": "f3048a2b-cdab-48b6-a270-fdcddef37f31",
   "metadata": {},
   "outputs": [],
   "source": [
    "from pydantic import BaseModel, Field\n",
    "from langchain_core.messages import AIMessage\n",
    "\n",
    "\n",
    "class JudgeSchema(BaseModel):\n",
    "    judged: bool = Field(..., description=\"勝者が決まったかどうか\")\n",
    "    answer: str = Field(description=\"議題に対する結論とその理由\")\n",
    "\n",
    "\n",
    "def judger(state: State):\n",
    "    system_message = (\n",
    "        \"あなたは司会者です。\"\n",
    "        \"ディベート大会に2名のディベーターが参加します。\"\n",
    "        \"彼らは{debate_topic}について自分の回答を発表し、それぞれの視点について議論します。\"\n",
    "        \"各ラウンドの終わりに、あなたは両者の回答を評価していき、ディベートの勝者を判断します。\"\n",
    "        \"判定が難しい場合は、次のラウンドで判断してください。\"\n",
    "    )\n",
    "    system_message = SystemMessage(\n",
    "        system_message.format(debate_topic=state[\"debate_topic\"])\n",
    "    )\n",
    "\n",
    "    llm_with_format = llm.with_structured_output(JudgeSchema)\n",
    "    res = llm_with_format.invoke([system_message, *state[\"messages\"]])\n",
    "    messages = []\n",
    "\n",
    "    if res.judged:\n",
    "        message = HumanMessage(res.answer)\n",
    "        messages.append(message)\n",
    "    return {\n",
    "        \"messages\": messages,\n",
    "        \"judged\": res.judged\n",
    "    }\n"
   ]
  },
  {
   "cell_type": "markdown",
   "id": "011547d3-d680-419e-9a6e-444c6ec278ff",
   "metadata": {},
   "source": [
    "# ラウンド管理"
   ]
  },
  {
   "cell_type": "code",
   "execution_count": 55,
   "id": "13f8d5cd-d40d-4a24-9e4b-c17abd7b91aa",
   "metadata": {},
   "outputs": [],
   "source": [
    "def round_monitor(state: State, max_round: int):\n",
    "    round = state[\"round\"] + 1\n",
    "    if state[\"round\"] < max_round:\n",
    "        return {\"round\": round}\n",
    "    else:\n",
    "        return {\n",
    "            \"messages\": [HumanMessage(\n",
    "                \"最終ラウンドなので、勝者を決定し、議題に対する結論とその理由を述べてください。\"\n",
    "            )],\n",
    "            \"round\": round,\n",
    "        }\n",
    "\n",
    "round_monitor = functools.partial(round_monitor, max_round=3)"
   ]
  },
  {
   "cell_type": "markdown",
   "id": "9b2ed91e-d1f8-48ec-9c3f-6af181cfed25",
   "metadata": {},
   "source": [
    "# グラフの構築"
   ]
  },
  {
   "cell_type": "code",
   "execution_count": 58,
   "id": "f9e482d0-4db0-4153-b09c-db2f0f95a6ba",
   "metadata": {},
   "outputs": [],
   "source": [
    "from langgraph.graph import StateGraph, START, END\n",
    "\n",
    "graph_builder = StateGraph(State)\n",
    "\n",
    "graph_builder.add_node(\"cot_agent\", cot_agent)\n",
    "graph_builder.add_node(\"affirmative_debator\", affirmative_debator)\n",
    "graph_builder.add_node(\"negative_debator\", negative_debator)\n",
    "graph_builder.add_node(\"judger\", judger)\n",
    "graph_builder.add_node(\"round_monitor\", round_monitor)\n",
    "\n",
    "graph_builder.add_edge(START, \"cot_agent\")\n",
    "graph_builder.add_edge(\"cot_agent\", \"affirmative_debator\")\n",
    "graph_builder.add_edge(\"affirmative_debator\", \"negative_debator\")\n",
    "graph_builder.add_edge(\"negative_debator\", \"round_monitor\")\n",
    "graph_builder.add_edge(\"round_monitor\", \"judger\")\n",
    "graph_builder.add_conditional_edges(\n",
    "    \"judger\",\n",
    "    lambda state: state[\"judged\"],\n",
    "    {True: END, False: \"affirmative_debator\"}\n",
    ")\n",
    "\n",
    "graph = graph_builder.compile()"
   ]
  },
  {
   "cell_type": "markdown",
   "id": "15e2c868-fe01-4ef5-b260-cc5842a5ebf1",
   "metadata": {},
   "source": [
    "# グラフの構造"
   ]
  },
  {
   "cell_type": "code",
   "execution_count": 61,
   "id": "406c0682-d0a6-4381-a1c9-6b968eecc978",
   "metadata": {},
   "outputs": [
    {
     "data": {
      "image/png": "[encoded data removed]",
      "text/plain": [
       "<IPython.core.display.Image object>"
      ]
     },
     "metadata": {},
     "output_type": "display_data"
    }
   ],
   "source": [
    "from IPython.display import display, Image\n",
    "\n",
    "display(Image(graph.get_graph().draw_mermaid_png()))"
   ]
  },
  {
   "cell_type": "code",
   "execution_count": 63,
   "id": "6e86140e-81ce-46aa-bc98-019edfeacaaf",
   "metadata": {},
   "outputs": [
    {
     "name": "stdout",
     "output_type": "stream",
     "text": [
      "================================\u001b[1m Human Message \u001b[0m=================================\n",
      "Name: CoT\n",
      "\n",
      "戦争が必要かどうかという議題について、ステップバイステップで考えてみましょう。\n",
      "\n",
      "### ステップ1：戦争の定義を明確にする\n",
      "まず、戦争とは何かを理解する必要があります。戦争は通常、国または大規模な集団間で組織的に戦闘が行われ、多くの場合は政治的、経済的、あるいは社会的な目的を持って行われる武力紛争を指します。\n",
      "\n",
      "### ステップ2：歴史的背景を考慮する\n",
      "歴史的に見て、戦争は数多くの国々や文明の形成や崩壊に影響を与えてきました。戦争によって国境が引かれたり、政府が変わったり、新たな技術や文化が伝播したりすることもありました。\n",
      "\n",
      "### ステップ3：戦争のメリットを検討する\n",
      "1. **国家の安全保障**: 時には、他国の攻撃から国を守るために戦争が必要と言われることがあります。\n",
      "2. **領土の拡張**: 歴史的には、国家が領土を拡張するために戦争が用いられることがありました。\n",
      "3. **体制の変革**: 圧政や不正義に対する抵抗として戦争が起こることもあります（例：独立戦争）。\n",
      "\n",
      "### ステップ4：戦争のデメリットを考察する\n",
      "1. **人命の損失**: 戦争は大量の人命を失わせ、無数の命を破壊します。\n",
      "2. **経済的損失**: 大規模な破壊と不安定性は経済に深刻な影響を与えます。\n",
      "3. **社会的影響**: 社会が二分化され、長期的に憎悪や不信が残ることが多い。\n",
      "4. **環境への影響**: 自然環境が破壊され、復旧には長い時間がかかることがあります。\n",
      "\n",
      "### ステップ5：代替手段について考える\n",
      "戦争を避けるための代替手段にはどのようなものがあるかを考えることも重要です。\n",
      "1. **外交交渉**: 対話を通じて和平を追求する。\n",
      "2. **制裁および経済圧力**: 武力ではなく、経済的手段でプレッシャーをかける。\n",
      "3. **国際協力**: 国際機関を通して問題を解決する（例：国際連合）。\n",
      "4. **和平維持活動**: 国際的に和平を監視し、支援する。\n",
      "\n",
      "### ステップ6：現代における戦争の位置付けを評価する\n",
      "現代社会においては、戦争の必要性は大幅に低下しています。核兵器の存在は戦争が世界的な規模での破滅的な結果をもたらす可能性を秘めており、技術の進歩もまた非対称的な戦争の脅威を増しています。\n",
      "\n",
      "### 最後に\n",
      "戦争は避けるべきであり、究極の手段であるべきです。人類が直面する多くの問題、例えば環境問題や貧困、不平等といったものは、戦争によっては解決されません。持続可能な平和を追求するための手段を増やすことが、長期的に考えたときに最良の道であると考えられます。\n",
      "\n",
      "結論として、戦争は必要というよりも、むしろ他の方法で回避すべきものです。平和を追求するための多様な方法を模索し、実行することが最も重要です。\n",
      "================================\u001b[1m Human Message \u001b[0m=================================\n",
      "Name: Affirmative_Debater\n",
      "\n",
      "戦争は人類に多くの悲劇をもたらしますが、残念ながら、歴史を振り返るといくつかの状況では、必要悪として存在せざるを得なかった時もあります。以下に、戦争が必要とされる場合について述べます。\n",
      "\n",
      "### 安全保障と防衛\n",
      "- **抑止力の確立**: 他国からの攻撃を防ぐためには、時に戦争という選択肢を持つことで、相手に対する強力な抑止力となることがあります。特に独裁的な政権や侵略行為をする国に対しては、それが有効です。\n",
      "\n",
      "### 圧政からの解放\n",
      "- **独立や自由のための闘争**: 歴史的に国民が圧政から解放されるための手段として戦争が起こることがありました。例えば、アメリカ独立戦争やフランス革命などは、圧政に対抗するための武力行使として正統性が認められる場合があります。\n",
      "\n",
      "### 革新と進化\n",
      "- **技術と科学の進歩**: 戦時中の必要性から多くの技術革新や科学の進歩が促進されてきたという一面もあり、結果的にその技術が平和時に役立つこともあります。\n",
      "\n",
      "### 経済的プレッシャーの防衛\n",
      "- **国際競争における優位性**: 他の国が経済的に支配しようとする時、戦争を選ぶことで自身の経済と利益を守ることができる場合もあります。\n",
      "\n",
      "### 結論\n",
      "決して戦争が第一の選択肢であってはならないということは、多くの同意を得るところです。しかし、外交努力や他の平和的手段が尽きた時、あるいは緊急性が高く他の方法が非現実的である場合、戦争は避けられない状況となりうることも事実です。すなわち、戦争は人類の歴史において必要であった局面があったことを認識し、平和的解決が可能な選択肢としてある時には常にそれを優先することが望ましいでしょう。\n",
      "================================\u001b[1m Human Message \u001b[0m=================================\n",
      "Name: Negative_Debater\n",
      "\n",
      "あなたの意見には一定の理解があるものの、私は戦争が必要不可欠であるとは考えていません。以下の理由でその立場を支持します。\n",
      "\n",
      "### 戦争の抑止力のリスクと限界\n",
      "- **抑止力の逆効果**: 戦争を抑止力として利用することは、しばしば武力のエスカレーションや軍拡競争を引き起こす可能性があり、安全保障をさらに不安定にするリスクがあります。\n",
      "- **平和的抑止**: 国際法や同盟、外交圧力を通じた平和的な抑止策も同様に強力な結果をもたらすことがあります。現代の国際関係においては、戦争以外の手段が重要です。\n",
      "\n",
      "### 独立や自由獲得の選択肢\n",
      "- **非暴力運動の成果**: 多くの国は非暴力的な運動を通じて独立や自由を勝ち取っています。インドの独立運動や南アフリカのアパルトヘイト撤廃運動など、平和的手段での成功例があります。\n",
      "\n",
      "### 技術革新の神話と現実\n",
      "- **平和時のイノベーション**: 技術革新は戦時中だけでなく、平和時にも盛んに行われています。戦争を通じて生まれた技術の多くは、その開発が戦争に起因していなくても進化した可能性があります。\n",
      "- **道徳的ジレンマ**: 人命を失う代わりに技術革新を受け入れるべきではありません。技術の発展は他の方法で達成すべきです。\n",
      "\n",
      "### 経済の脅威と国際協力\n",
      "- **経済的制裁と国際協力**: 他国の経済的支配を防ぐためには、貿易交渉や経済制裁、国際協力を通じた平和的手段が有効であり、戦争よりも持続的かつ倫理的です。\n",
      "\n",
      "### まとめ\n",
      "戦争は最終的な手段としての役割すら持つべきではありません。現代社会においては、外交、経済的手段、国際協力、そして非暴力的な対話が最優先されるべきです。戦争によるコストとリスクがあまりにも多く、長期的な解決にはつながりにくいため、他の手段を模索することが持続可能な未来への道です。\n",
      "================================\u001b[1m Human Message \u001b[0m=================================\n",
      "Name: Affirmative_Debater\n",
      "\n",
      "あなたの視点には多くの理にかなった点があり、戦争の悲惨さを避けたいという意欲は理解できます。しかし、いくつかの状況では戦争が最も効果的または必要であることも事実です。その理由を以下に述べます。\n",
      "\n",
      "### 抑止力としての戦争\n",
      "- **エスカレーションの管理**: 抑止力としての戦争は、適切な管理と戦略によって軍拡競争を避けることが可能です。歴史的に見ても、軍事力を示すことにより、潜在的脅威を抑えた例も存在します。\n",
      "- **現実的な防衛手段**: 特定の状況では、軍事的な備えと行動が他国の侵略を抑止し、戦争による被害を防ぐ現実的な防衛手段となりうるのです。\n",
      "\n",
      "### 非暴力運動の限界\n",
      "- **直面する危険性**: 非暴力運動は素晴らしい選択肢ですが、全ての圧政や侵略に対して有効ではない場合もあります。武力による解放が唯一の現実的な選択肢となることも、過去にはありました。\n",
      "\n",
      "### 技術革新の別視点\n",
      "- **戦時中の具体的な進展**: 戦争はしばしば、技術と科学の飛躍的進歩を要求します。第二次世界大戦中のレーダー技術やインターネットの起源として知られるARPANETなど、戦争が直接的に促した技術は現代社会の基盤となっています。\n",
      "\n",
      "### 経済的な選択\n",
      "- **絶望的局面での対応**: 経済的制裁と平和的な競争は理想的ですが、緊急かつ深刻な脅威（例えば資源の争奪戦）に直面した際、戦争が残された唯一の選択肢となることもあり得ます。\n",
      "\n",
      "### 結論\n",
      "戦争は決して望ましいものではありませんが、多くの場合、避けられない現実であり、時として必要な手段でありました。もちろん、戦争が選択されるのは全ての平和的手段が尽きた後であるべきですが、人類はこれまでその必要性を無視できない場面に何度も直面してきました。重要なのは、平和を模索しつつも、現実に即した対応を考え続けることです。\n",
      "================================\u001b[1m Human Message \u001b[0m=================================\n",
      "Name: Negative_Debater\n",
      "\n",
      "あなたの主張に敬意を表しますが、以下に私の反駁を示します。\n",
      "\n",
      "### 抑止力の代替手段\n",
      "- **エスカレーションと相互の安全確保**: 戦争による抑止力に頼ると、軍拡競争がさらに悪化するリスクが高まります。そのため、相互の安全保証を確立するための外交手段や多国間条約の締結が、持続的かつ効果的な安全保障につながります。\n",
      "- **地域と国際的な同盟強化**: NATOなどの同盟は、防衛における協力と調整を強化し、軍事力に頼ることなく集団安全保障を促進します。\n",
      "\n",
      "### 非暴力の可能性\n",
      "- **非暴力的抵抗の効果**: ジーン・シャープの研究などによれば、非暴力抵抗の成功率は一定以上高いことが示されています。多くの圧政や侵略に対しても、非暴力的な方法は可能であり、有効です。\n",
      "- **情報とコミュニケーションの力**: 現代の技術を利用した情報の拡散や国際的圧力は、武力による解放を必要としない、効果的な方法を提供します。\n",
      "\n",
      "### 工業と技術革新の平和的推進\n",
      "- **平和時の革新能力**: 平和時は、継続的かつ持続可能な技術革新が可能です。教育や科学研究への投資は、戦争がなくても技術進歩を促します。\n",
      "- **人道的技術の発展**: 技術進歩は人類の発展を目的としたプロジェクトによって進めるべきであり、戦争が引き起こす道徳的ジレンマを伴わない形で推進できます。\n",
      "\n",
      "### 経済的選択肢と国際的協調\n",
      "- **資源の共有と協力**: 経済的な脅威に対しては、国際的な資源管理協定や相互利益に基づく協力体制が有効です。競争ではなく、協力により双方の利益を最大化する方法が追求されるべきです。\n",
      "- **持続可能な開発**: 国際経済の発展は持続可能な方法で行われるべきで、戦争によって引き起こされる破壊から学んだ教訓が活かされるべきです。\n",
      "\n",
      "### まとめ\n",
      "戦争は現代の国際的な課題を解決する方法としては最適ではなく、多くの犠牲を伴います。平和外交、国際協力、そして非暴力的な手段を模索し、戦争を避ける方法に目を向けるべきです。長期的な平和と安定を追求する上で、戦争は必要不可欠ではありません。\n",
      "================================\u001b[1m Human Message \u001b[0m=================================\n",
      "\n",
      "このディベートの結果として、反対論者がより説得力を持っていました。彼は戦争を回避するための代替手段や平和的手段が存在し、むしろそれらが推奨されるべきであることをしっかりと主張しました。また、非暴力の有効性や平和時の技術革新について具体的な例を挙げ、戦争に依存しない未来への展望を示した点が評価されます。したがって、より持続可能で倫理的な視点を強調した反対論者がこのディベートの勝者です。\n"
     ]
    }
   ],
   "source": [
    "#実行\n",
    "inputs = {\n",
    "    \"messages\": [],\n",
    "    \"debate_topic\": \"戦争は必要か？\",\n",
    "    \"judged\": False,\n",
    "    \"round\": 0,\n",
    "}\n",
    "\n",
    "for event in graph.stream(inputs):\n",
    "    for value in event.values():\n",
    "        try:\n",
    "            value[\"messages\"][-1].pretty_print()\n",
    "        except:\n",
    "            pass"
   ]
  },
  {
   "cell_type": "markdown",
   "id": "5d012dfb-c356-494a-a036-cd3eb8eb28f5",
   "metadata": {},
   "source": [
    "# 回答を洗練させる(MoA手法)"
   ]
  },
  {
   "cell_type": "markdown",
   "id": "53736199-e6c3-43ea-8815-871f3596683f",
   "metadata": {},
   "source": [
    "# 準備"
   ]
  },
  {
   "cell_type": "code",
   "execution_count": 67,
   "id": "26589f9b-6ae0-4470-b4db-b9ac63b7aaaa",
   "metadata": {},
   "outputs": [
    {
     "name": "stdout",
     "output_type": "stream",
     "text": [
      "Note: you may need to restart the kernel to use updated packages.\n"
     ]
    },
    {
     "name": "stderr",
     "output_type": "stream",
     "text": [
      "  WARNING: Failed to remove contents in a temporary directory 'C:\\anaconda\\Lib\\site-packages\\~rpc'.\n",
      "  You can safely remove it manually.\n",
      "ERROR: pip's dependency resolver does not currently take into account all the packages that are installed. This behaviour is the source of the following dependency conflicts.\n",
      "tensorflow-intel 2.16.1 requires protobuf!=4.21.0,!=4.21.1,!=4.21.2,!=4.21.3,!=4.21.4,!=4.21.5,<5.0.0dev,>=3.20.3, but you have protobuf 5.29.4 which is incompatible.\n"
     ]
    }
   ],
   "source": [
    "pip install -q langchain-google-genai"
   ]
  },
  {
   "cell_type": "code",
   "execution_count": 69,
   "id": "dc6eba22-6f6f-4ef9-99b7-1f4c5b277059",
   "metadata": {},
   "outputs": [
    {
     "name": "stdout",
     "output_type": "stream",
     "text": [
      "Note: you may need to restart the kernel to use updated packages.\n"
     ]
    }
   ],
   "source": [
    "pip install -q langchain-anthropic"
   ]
  },
  {
   "cell_type": "code",
   "execution_count": 123,
   "id": "4bd7a5a3-660a-488d-b926-af8c4a8ad279",
   "metadata": {},
   "outputs": [
    {
     "name": "stdin",
     "output_type": "stream",
     "text": [
      "GOOGLE API キーを入力してください:  ········\n"
     ]
    }
   ],
   "source": [
    "import getpass\n",
    "import os\n",
    "api_key4 = getpass.getpass(\"GOOGLE API キーを入力してください: \")\n",
    "os.environ[\"GOOGLE_API_KEY\"] = api_key4"
   ]
  },
  {
   "cell_type": "code",
   "execution_count": 120,
   "id": "ddf324eb-75f7-4736-a4d7-cdce418ae4a4",
   "metadata": {},
   "outputs": [
    {
     "name": "stdin",
     "output_type": "stream",
     "text": [
      "ANTHROPIC API キーを入力してください:  ········\n"
     ]
    }
   ],
   "source": [
    "import getpass\n",
    "import os\n",
    "api_key5 = getpass.getpass(\"ANTHROPIC API キーを入力してください: \")\n",
    "os.environ[\"ANTHROPIC_API_KEY\"] = api_key5"
   ]
  },
  {
   "cell_type": "markdown",
   "id": "6c51af6d-aaf6-43c6-bb6c-17b415a7ea4f",
   "metadata": {},
   "source": [
    "# LangChainでの定義"
   ]
  },
  {
   "cell_type": "code",
   "execution_count": 77,
   "id": "d08f399e-e321-45db-8fd3-5666dbcee89a",
   "metadata": {},
   "outputs": [],
   "source": [
    "from langchain_openai import ChatOpenAI\n",
    "from langchain_anthropic import ChatAnthropic\n",
    "from langchain_google_genai import ChatGoogleGenerativeAI\n",
    "\n",
    "llm_openai = ChatOpenAI(model=\"gpt-4o-mini\")\n",
    "llm_anthropic = ChatAnthropic(model=\"claude-3-5-sonnet-20240620\")\n",
    "llm_google = ChatGoogleGenerativeAI(model=\"gemini-1.5-pro\")"
   ]
  },
  {
   "cell_type": "markdown",
   "id": "20d7b712-02d2-4dc5-876e-8050bb5b3f63",
   "metadata": {},
   "source": [
    "# Stateの定義"
   ]
  },
  {
   "cell_type": "code",
   "execution_count": 84,
   "id": "55676017-5fa1-4c6e-af7b-6a0ff5638d48",
   "metadata": {},
   "outputs": [],
   "source": [
    "from typing_extensions import TypedDict\n",
    "from typing import Annotated\n",
    "\n",
    "from langgraph.graph.message import add_messages\n",
    "\n",
    "from langchain_core.messages import HumanMessage, AIMessage, SystemMessage\n",
    "\n",
    "\n",
    "class State(TypedDict):\n",
    "    human_message: HumanMessage\n",
    "    messages: Annotated[list, add_messages]\n",
    "    prev_messages: list[AIMessage]\n",
    "    layer_cnt: int"
   ]
  },
  {
   "cell_type": "markdown",
   "id": "76840326-0441-410c-a7eb-90835676742e",
   "metadata": {},
   "source": [
    "# エージェントの作成"
   ]
  },
  {
   "cell_type": "code",
   "execution_count": 88,
   "id": "c4fe1a9d-cdf0-460b-b826-81b04cdc9a05",
   "metadata": {},
   "outputs": [],
   "source": [
    "from functools import partial\n",
    "from typing import Union\n",
    "\n",
    "\n",
    "aggregater_system_message_template = \"\"\"\\\n",
    "最新のユーザーの質問に対して、さまざまなLLMからの回答が提供されています。あなたの任務は、これらの回答を統合して、単一の高品質な回答を作成することです。\n",
    "提供された回答に含まれる情報を批判的に評価し、一部の情報が偏っていたり誤っていたりする可能性があることを認識することが重要です。\n",
    "回答を単に複製するのではなく、正確で包括的な返答を提供してください。\n",
    "回答が良く構造化され、一貫性があり、最高の精度と信頼性の基準を満たすようにしてください。\n",
    "\n",
    "{prev_messages}\"\"\"\n",
    "\n",
    "def agent(state: State, llm: Union[ChatOpenAI, ChatAnthropic, ChatGoogleGenerativeAI], name: str):\n",
    "    input_messages = []\n",
    "    if len(state[\"prev_messages\"]) > 0:\n",
    "        prev_messages = [f\"{i+1}. {message.content}\" for i, message in enumerate(state[\"prev_messages\"])]\n",
    "        prev_messages = \"\\n\".join(prev_messages)\n",
    "\n",
    "        aggregater_system_message = SystemMessage(\n",
    "            aggregater_system_message_template.format(prev_messages=prev_messages),\n",
    "        )\n",
    "\n",
    "        input_messages.append(aggregater_system_message)\n",
    "\n",
    "    input_messages.append(state[\"human_message\"])\n",
    "\n",
    "    message = llm.invoke(input_messages)\n",
    "    message.name = name\n",
    "\n",
    "    return {\"messages\": [message]}\n",
    "\n",
    "agent_openai = partial(agent, llm=llm_openai, name=\"openai\")\n",
    "agent_anthropic = partial(agent, llm=llm_anthropic, name=\"anthropic\")\n",
    "agent_google = partial(agent, llm=llm_google, name=\"google\")"
   ]
  },
  {
   "cell_type": "markdown",
   "id": "bad81848-91bc-4d19-bde4-a6f8a695fed7",
   "metadata": {},
   "source": [
    "# 補助的な関数の定義"
   ]
  },
  {
   "cell_type": "code",
   "execution_count": 91,
   "id": "0819edd6-182b-4a68-9f3c-071b3a5cb6c2",
   "metadata": {},
   "outputs": [],
   "source": [
    "def update(state: State, num_agents: int):\n",
    "    return {\n",
    "        \"prev_messages\": state[\"messages\"][-num_agents:],\n",
    "        \"layer_cnt\": state[\"layer_cnt\"] + 1\n",
    "    }"
   ]
  },
  {
   "cell_type": "markdown",
   "id": "45df6980-5602-45f8-974f-7846d583c288",
   "metadata": {},
   "source": [
    "# エッジで用いる関数を定義"
   ]
  },
  {
   "cell_type": "code",
   "execution_count": 94,
   "id": "cc61c87e-d786-4470-9879-ca0ae1831c92",
   "metadata": {},
   "outputs": [],
   "source": [
    "def router(\n",
    "    state: State,\n",
    "    num_layers: int,\n",
    "    agent_name_list: list[str]\n",
    "):\n",
    "    if state[\"layer_cnt\"] < num_layers:\n",
    "        return agent_name_list\n",
    "    else:\n",
    "        return \"final_agent\""
   ]
  },
  {
   "cell_type": "markdown",
   "id": "c2250bbe-3f21-4e13-aaa5-fe6377201ee7",
   "metadata": {},
   "source": [
    "# グラフの構築"
   ]
  },
  {
   "cell_type": "code",
   "execution_count": 97,
   "id": "110de644-67bc-4614-bc1c-19c7e7b4e1a2",
   "metadata": {},
   "outputs": [],
   "source": [
    "from langgraph.graph import StateGraph, START, END\n",
    "\n",
    "num_layers = 3\n",
    "\n",
    "graph_builder = StateGraph(State)\n",
    "\n",
    "agent_dict = {\n",
    "    \"openai\": agent_openai,\n",
    "    \"anthropic\": agent_anthropic,\n",
    "    \"google\": agent_google,\n",
    "}\n",
    "\n",
    "graph_builder.add_node(\n",
    "    \"update\",\n",
    "    partial(update, num_agents=len(agent_dict))\n",
    ")\n",
    "graph_builder.add_node(\"final_agent\", agent_dict[\"openai\"])\n",
    "\n",
    "for agent_name, agent in agent_dict.items():\n",
    "    graph_builder.add_node(agent_name, agent)\n",
    "    graph_builder.add_edge(START, agent_name)\n",
    "    graph_builder.add_edge(agent_name, \"update\")\n",
    "\n",
    "agent_name_list = list(agent_dict.keys())\n",
    "graph_builder.add_conditional_edges(\n",
    "    \"update\",\n",
    "    partial(router, num_layers=num_layers, agent_name_list=agent_name_list),\n",
    "    agent_name_list + [\"final_agent\"]\n",
    ")\n",
    "graph_builder.add_edge(\"final_agent\", END)\n",
    "\n",
    "graph = graph_builder.compile()"
   ]
  },
  {
   "cell_type": "markdown",
   "id": "d87e0cf1-0ba0-4110-8baf-d9d53fc85fd2",
   "metadata": {},
   "source": [
    "# グラフの構造"
   ]
  },
  {
   "cell_type": "code",
   "execution_count": 100,
   "id": "739ded42-7935-424a-829d-c9b4452cbdf4",
   "metadata": {},
   "outputs": [
    {
     "data": {
      "image/png": "[encoded data removed]",
      "text/plain": [
       "<IPython.core.display.Image object>"
      ]
     },
     "metadata": {},
     "output_type": "display_data"
    }
   ],
   "source": [
    "from IPython.display import display, Image\n",
    "\n",
    "display(Image(graph.get_graph().draw_mermaid_png()))"
   ]
  },
  {
   "cell_type": "code",
   "execution_count": 126,
   "id": "43e45e09-d251-4902-87e8-bbdf3b22e123",
   "metadata": {},
   "outputs": [
    {
     "name": "stdout",
     "output_type": "stream",
     "text": [
      "#################### Layer 1 ####################\n"
     ]
    },
    {
     "name": "stderr",
     "output_type": "stream",
     "text": [
      "Retrying langchain_google_genai.chat_models._chat_with_retry.<locals>._chat_with_retry in 2.0 seconds as it raised ResourceExhausted: 429 You exceeded your current quota, please check your plan and billing details. For more information on this error, head to: https://ai.google.dev/gemini-api/docs/rate-limits. [violations {\n",
      "  quota_metric: \"generativelanguage.googleapis.com/generate_content_free_tier_requests\"\n",
      "  quota_id: \"GenerateRequestsPerDayPerProjectPerModel-FreeTier\"\n",
      "  quota_dimensions {\n",
      "    key: \"model\"\n",
      "    value: \"gemini-1.5-pro\"\n",
      "  }\n",
      "  quota_dimensions {\n",
      "    key: \"location\"\n",
      "    value: \"global\"\n",
      "  }\n",
      "}\n",
      "violations {\n",
      "  quota_metric: \"generativelanguage.googleapis.com/generate_content_free_tier_requests\"\n",
      "  quota_id: \"GenerateRequestsPerMinutePerProjectPerModel-FreeTier\"\n",
      "  quota_dimensions {\n",
      "    key: \"model\"\n",
      "    value: \"gemini-1.5-pro\"\n",
      "  }\n",
      "  quota_dimensions {\n",
      "    key: \"location\"\n",
      "    value: \"global\"\n",
      "  }\n",
      "}\n",
      "violations {\n",
      "  quota_metric: \"generativelanguage.googleapis.com/generate_content_free_tier_input_token_count\"\n",
      "  quota_id: \"GenerateContentInputTokensPerModelPerMinute-FreeTier\"\n",
      "  quota_dimensions {\n",
      "    key: \"model\"\n",
      "    value: \"gemini-1.5-pro\"\n",
      "  }\n",
      "  quota_dimensions {\n",
      "    key: \"location\"\n",
      "    value: \"global\"\n",
      "  }\n",
      "}\n",
      ", links {\n",
      "  description: \"Learn more about Gemini API quotas\"\n",
      "  url: \"https://ai.google.dev/gemini-api/docs/rate-limits\"\n",
      "}\n",
      ", retry_delay {\n",
      "  seconds: 44\n",
      "}\n",
      "].\n"
     ]
    },
    {
     "ename": "AuthenticationError",
     "evalue": "Error code: 401 - {'type': 'error', 'error': {'type': 'authentication_error', 'message': 'invalid x-api-key'}}",
     "output_type": "error",
     "traceback": [
      "\u001b[1;31m---------------------------------------------------------------------------\u001b[0m",
      "\u001b[1;31mAuthenticationError\u001b[0m                       Traceback (most recent call last)",
      "Cell \u001b[1;32mIn[126], line 12\u001b[0m\n\u001b[0;32m      4\u001b[0m state \u001b[38;5;241m=\u001b[39m {\n\u001b[0;32m      5\u001b[0m     \u001b[38;5;124m\"\u001b[39m\u001b[38;5;124mhuman_message\u001b[39m\u001b[38;5;124m\"\u001b[39m: human_message,\n\u001b[0;32m      6\u001b[0m     \u001b[38;5;124m\"\u001b[39m\u001b[38;5;124mmessages\u001b[39m\u001b[38;5;124m\"\u001b[39m: [],\n\u001b[0;32m      7\u001b[0m     \u001b[38;5;124m\"\u001b[39m\u001b[38;5;124mprev_messages\u001b[39m\u001b[38;5;124m\"\u001b[39m: [],\n\u001b[0;32m      8\u001b[0m     \u001b[38;5;124m\"\u001b[39m\u001b[38;5;124mlayer_cnt\u001b[39m\u001b[38;5;124m\"\u001b[39m: \u001b[38;5;241m1\u001b[39m\n\u001b[0;32m      9\u001b[0m }\n\u001b[0;32m     11\u001b[0m \u001b[38;5;28mprint\u001b[39m(\u001b[38;5;124m\"\u001b[39m\u001b[38;5;124m#################### Layer 1 ####################\u001b[39m\u001b[38;5;124m\"\u001b[39m)\n\u001b[1;32m---> 12\u001b[0m \u001b[38;5;28;01mfor\u001b[39;00m event \u001b[38;5;129;01min\u001b[39;00m graph\u001b[38;5;241m.\u001b[39mstream(state):\n\u001b[0;32m     13\u001b[0m     \u001b[38;5;28;01mfor\u001b[39;00m value \u001b[38;5;129;01min\u001b[39;00m event\u001b[38;5;241m.\u001b[39mvalues():\n\u001b[0;32m     14\u001b[0m         \u001b[38;5;28;01mif\u001b[39;00m \u001b[38;5;124m\"\u001b[39m\u001b[38;5;124mmessages\u001b[39m\u001b[38;5;124m\"\u001b[39m \u001b[38;5;129;01min\u001b[39;00m value:\n",
      "File \u001b[1;32mC:\\anaconda\\Lib\\site-packages\\langgraph\\pregel\\__init__.py:2461\u001b[0m, in \u001b[0;36mPregel.stream\u001b[1;34m(self, input, config, stream_mode, output_keys, interrupt_before, interrupt_after, checkpoint_during, debug, subgraphs)\u001b[0m\n\u001b[0;32m   2455\u001b[0m     \u001b[38;5;66;03m# Similarly to Bulk Synchronous Parallel / Pregel model\u001b[39;00m\n\u001b[0;32m   2456\u001b[0m     \u001b[38;5;66;03m# computation proceeds in steps, while there are channel updates.\u001b[39;00m\n\u001b[0;32m   2457\u001b[0m     \u001b[38;5;66;03m# Channel updates from step N are only visible in step N+1\u001b[39;00m\n\u001b[0;32m   2458\u001b[0m     \u001b[38;5;66;03m# channels are guaranteed to be immutable for the duration of the step,\u001b[39;00m\n\u001b[0;32m   2459\u001b[0m     \u001b[38;5;66;03m# with channel updates applied only at the transition between steps.\u001b[39;00m\n\u001b[0;32m   2460\u001b[0m     \u001b[38;5;28;01mwhile\u001b[39;00m loop\u001b[38;5;241m.\u001b[39mtick(input_keys\u001b[38;5;241m=\u001b[39m\u001b[38;5;28mself\u001b[39m\u001b[38;5;241m.\u001b[39minput_channels):\n\u001b[1;32m-> 2461\u001b[0m         \u001b[38;5;28;01mfor\u001b[39;00m _ \u001b[38;5;129;01min\u001b[39;00m runner\u001b[38;5;241m.\u001b[39mtick(\n\u001b[0;32m   2462\u001b[0m             loop\u001b[38;5;241m.\u001b[39mtasks\u001b[38;5;241m.\u001b[39mvalues(),\n\u001b[0;32m   2463\u001b[0m             timeout\u001b[38;5;241m=\u001b[39m\u001b[38;5;28mself\u001b[39m\u001b[38;5;241m.\u001b[39mstep_timeout,\n\u001b[0;32m   2464\u001b[0m             retry_policy\u001b[38;5;241m=\u001b[39m\u001b[38;5;28mself\u001b[39m\u001b[38;5;241m.\u001b[39mretry_policy,\n\u001b[0;32m   2465\u001b[0m             get_waiter\u001b[38;5;241m=\u001b[39mget_waiter,\n\u001b[0;32m   2466\u001b[0m         ):\n\u001b[0;32m   2467\u001b[0m             \u001b[38;5;66;03m# emit output\u001b[39;00m\n\u001b[0;32m   2468\u001b[0m             \u001b[38;5;28;01myield from\u001b[39;00m output()\n\u001b[0;32m   2469\u001b[0m \u001b[38;5;66;03m# emit output\u001b[39;00m\n",
      "File \u001b[1;32mC:\\anaconda\\Lib\\site-packages\\langgraph\\pregel\\runner.py:247\u001b[0m, in \u001b[0;36mPregelRunner.tick\u001b[1;34m(self, tasks, reraise, timeout, retry_policy, get_waiter)\u001b[0m\n\u001b[0;32m    245\u001b[0m \u001b[38;5;66;03m# panic on failure or timeout\u001b[39;00m\n\u001b[0;32m    246\u001b[0m \u001b[38;5;28;01mtry\u001b[39;00m:\n\u001b[1;32m--> 247\u001b[0m     _panic_or_proceed(\n\u001b[0;32m    248\u001b[0m         futures\u001b[38;5;241m.\u001b[39mdone\u001b[38;5;241m.\u001b[39munion(f \u001b[38;5;28;01mfor\u001b[39;00m f, t \u001b[38;5;129;01min\u001b[39;00m futures\u001b[38;5;241m.\u001b[39mitems() \u001b[38;5;28;01mif\u001b[39;00m t \u001b[38;5;129;01mis\u001b[39;00m \u001b[38;5;129;01mnot\u001b[39;00m \u001b[38;5;28;01mNone\u001b[39;00m),\n\u001b[0;32m    249\u001b[0m         panic\u001b[38;5;241m=\u001b[39mreraise,\n\u001b[0;32m    250\u001b[0m     )\n\u001b[0;32m    251\u001b[0m \u001b[38;5;28;01mexcept\u001b[39;00m \u001b[38;5;167;01mException\u001b[39;00m \u001b[38;5;28;01mas\u001b[39;00m exc:\n\u001b[0;32m    252\u001b[0m     \u001b[38;5;28;01mif\u001b[39;00m tb \u001b[38;5;241m:=\u001b[39m exc\u001b[38;5;241m.\u001b[39m__traceback__:\n",
      "File \u001b[1;32mC:\\anaconda\\Lib\\site-packages\\langgraph\\pregel\\runner.py:499\u001b[0m, in \u001b[0;36m_panic_or_proceed\u001b[1;34m(futs, timeout_exc_cls, panic)\u001b[0m\n\u001b[0;32m    497\u001b[0m                 interrupts\u001b[38;5;241m.\u001b[39mappend(exc)\n\u001b[0;32m    498\u001b[0m             \u001b[38;5;28;01melse\u001b[39;00m:\n\u001b[1;32m--> 499\u001b[0m                 \u001b[38;5;28;01mraise\u001b[39;00m exc\n\u001b[0;32m    500\u001b[0m \u001b[38;5;66;03m# raise combined interrupts\u001b[39;00m\n\u001b[0;32m    501\u001b[0m \u001b[38;5;28;01mif\u001b[39;00m interrupts:\n",
      "File \u001b[1;32mC:\\anaconda\\Lib\\site-packages\\langgraph\\pregel\\executor.py:80\u001b[0m, in \u001b[0;36mBackgroundExecutor.done\u001b[1;34m(self, task)\u001b[0m\n\u001b[0;32m     78\u001b[0m \u001b[38;5;250m\u001b[39m\u001b[38;5;124;03m\"\"\"Remove the task from the tasks dict when it's done.\"\"\"\u001b[39;00m\n\u001b[0;32m     79\u001b[0m \u001b[38;5;28;01mtry\u001b[39;00m:\n\u001b[1;32m---> 80\u001b[0m     task\u001b[38;5;241m.\u001b[39mresult()\n\u001b[0;32m     81\u001b[0m \u001b[38;5;28;01mexcept\u001b[39;00m GraphBubbleUp:\n\u001b[0;32m     82\u001b[0m     \u001b[38;5;66;03m# This exception is an interruption signal, not an error\u001b[39;00m\n\u001b[0;32m     83\u001b[0m     \u001b[38;5;66;03m# so we don't want to re-raise it on exit\u001b[39;00m\n\u001b[0;32m     84\u001b[0m     \u001b[38;5;28mself\u001b[39m\u001b[38;5;241m.\u001b[39mtasks\u001b[38;5;241m.\u001b[39mpop(task)\n",
      "File \u001b[1;32mC:\\anaconda\\Lib\\concurrent\\futures\\_base.py:449\u001b[0m, in \u001b[0;36mFuture.result\u001b[1;34m(self, timeout)\u001b[0m\n\u001b[0;32m    447\u001b[0m     \u001b[38;5;28;01mraise\u001b[39;00m CancelledError()\n\u001b[0;32m    448\u001b[0m \u001b[38;5;28;01melif\u001b[39;00m \u001b[38;5;28mself\u001b[39m\u001b[38;5;241m.\u001b[39m_state \u001b[38;5;241m==\u001b[39m FINISHED:\n\u001b[1;32m--> 449\u001b[0m     \u001b[38;5;28;01mreturn\u001b[39;00m \u001b[38;5;28mself\u001b[39m\u001b[38;5;241m.\u001b[39m__get_result()\n\u001b[0;32m    451\u001b[0m \u001b[38;5;28mself\u001b[39m\u001b[38;5;241m.\u001b[39m_condition\u001b[38;5;241m.\u001b[39mwait(timeout)\n\u001b[0;32m    453\u001b[0m \u001b[38;5;28;01mif\u001b[39;00m \u001b[38;5;28mself\u001b[39m\u001b[38;5;241m.\u001b[39m_state \u001b[38;5;129;01min\u001b[39;00m [CANCELLED, CANCELLED_AND_NOTIFIED]:\n",
      "File \u001b[1;32mC:\\anaconda\\Lib\\concurrent\\futures\\_base.py:401\u001b[0m, in \u001b[0;36mFuture.__get_result\u001b[1;34m(self)\u001b[0m\n\u001b[0;32m    399\u001b[0m \u001b[38;5;28;01mif\u001b[39;00m \u001b[38;5;28mself\u001b[39m\u001b[38;5;241m.\u001b[39m_exception:\n\u001b[0;32m    400\u001b[0m     \u001b[38;5;28;01mtry\u001b[39;00m:\n\u001b[1;32m--> 401\u001b[0m         \u001b[38;5;28;01mraise\u001b[39;00m \u001b[38;5;28mself\u001b[39m\u001b[38;5;241m.\u001b[39m_exception\n\u001b[0;32m    402\u001b[0m     \u001b[38;5;28;01mfinally\u001b[39;00m:\n\u001b[0;32m    403\u001b[0m         \u001b[38;5;66;03m# Break a reference cycle with the exception in self._exception\u001b[39;00m\n\u001b[0;32m    404\u001b[0m         \u001b[38;5;28mself\u001b[39m \u001b[38;5;241m=\u001b[39m \u001b[38;5;28;01mNone\u001b[39;00m\n",
      "File \u001b[1;32mC:\\anaconda\\Lib\\concurrent\\futures\\thread.py:58\u001b[0m, in \u001b[0;36m_WorkItem.run\u001b[1;34m(self)\u001b[0m\n\u001b[0;32m     55\u001b[0m     \u001b[38;5;28;01mreturn\u001b[39;00m\n\u001b[0;32m     57\u001b[0m \u001b[38;5;28;01mtry\u001b[39;00m:\n\u001b[1;32m---> 58\u001b[0m     result \u001b[38;5;241m=\u001b[39m \u001b[38;5;28mself\u001b[39m\u001b[38;5;241m.\u001b[39mfn(\u001b[38;5;241m*\u001b[39m\u001b[38;5;28mself\u001b[39m\u001b[38;5;241m.\u001b[39margs, \u001b[38;5;241m*\u001b[39m\u001b[38;5;241m*\u001b[39m\u001b[38;5;28mself\u001b[39m\u001b[38;5;241m.\u001b[39mkwargs)\n\u001b[0;32m     59\u001b[0m \u001b[38;5;28;01mexcept\u001b[39;00m \u001b[38;5;167;01mBaseException\u001b[39;00m \u001b[38;5;28;01mas\u001b[39;00m exc:\n\u001b[0;32m     60\u001b[0m     \u001b[38;5;28mself\u001b[39m\u001b[38;5;241m.\u001b[39mfuture\u001b[38;5;241m.\u001b[39mset_exception(exc)\n",
      "File \u001b[1;32mC:\\anaconda\\Lib\\site-packages\\langgraph\\pregel\\retry.py:40\u001b[0m, in \u001b[0;36mrun_with_retry\u001b[1;34m(task, retry_policy, configurable)\u001b[0m\n\u001b[0;32m     38\u001b[0m     task\u001b[38;5;241m.\u001b[39mwrites\u001b[38;5;241m.\u001b[39mclear()\n\u001b[0;32m     39\u001b[0m     \u001b[38;5;66;03m# run the task\u001b[39;00m\n\u001b[1;32m---> 40\u001b[0m     \u001b[38;5;28;01mreturn\u001b[39;00m task\u001b[38;5;241m.\u001b[39mproc\u001b[38;5;241m.\u001b[39minvoke(task\u001b[38;5;241m.\u001b[39minput, config)\n\u001b[0;32m     41\u001b[0m \u001b[38;5;28;01mexcept\u001b[39;00m ParentCommand \u001b[38;5;28;01mas\u001b[39;00m exc:\n\u001b[0;32m     42\u001b[0m     ns: \u001b[38;5;28mstr\u001b[39m \u001b[38;5;241m=\u001b[39m config[CONF][CONFIG_KEY_CHECKPOINT_NS]\n",
      "File \u001b[1;32mC:\\anaconda\\Lib\\site-packages\\langgraph\\utils\\runnable.py:623\u001b[0m, in \u001b[0;36mRunnableSeq.invoke\u001b[1;34m(self, input, config, **kwargs)\u001b[0m\n\u001b[0;32m    621\u001b[0m     \u001b[38;5;66;03m# run in context\u001b[39;00m\n\u001b[0;32m    622\u001b[0m     \u001b[38;5;28;01mwith\u001b[39;00m set_config_context(config, run) \u001b[38;5;28;01mas\u001b[39;00m context:\n\u001b[1;32m--> 623\u001b[0m         \u001b[38;5;28minput\u001b[39m \u001b[38;5;241m=\u001b[39m context\u001b[38;5;241m.\u001b[39mrun(step\u001b[38;5;241m.\u001b[39minvoke, \u001b[38;5;28minput\u001b[39m, config, \u001b[38;5;241m*\u001b[39m\u001b[38;5;241m*\u001b[39mkwargs)\n\u001b[0;32m    624\u001b[0m \u001b[38;5;28;01melse\u001b[39;00m:\n\u001b[0;32m    625\u001b[0m     \u001b[38;5;28minput\u001b[39m \u001b[38;5;241m=\u001b[39m step\u001b[38;5;241m.\u001b[39minvoke(\u001b[38;5;28minput\u001b[39m, config)\n",
      "File \u001b[1;32mC:\\anaconda\\Lib\\site-packages\\langgraph\\utils\\runnable.py:377\u001b[0m, in \u001b[0;36mRunnableCallable.invoke\u001b[1;34m(self, input, config, **kwargs)\u001b[0m\n\u001b[0;32m    375\u001b[0m         run_manager\u001b[38;5;241m.\u001b[39mon_chain_end(ret)\n\u001b[0;32m    376\u001b[0m \u001b[38;5;28;01melse\u001b[39;00m:\n\u001b[1;32m--> 377\u001b[0m     ret \u001b[38;5;241m=\u001b[39m \u001b[38;5;28mself\u001b[39m\u001b[38;5;241m.\u001b[39mfunc(\u001b[38;5;241m*\u001b[39margs, \u001b[38;5;241m*\u001b[39m\u001b[38;5;241m*\u001b[39mkwargs)\n\u001b[0;32m    378\u001b[0m \u001b[38;5;28;01mif\u001b[39;00m \u001b[38;5;28mself\u001b[39m\u001b[38;5;241m.\u001b[39mrecurse \u001b[38;5;129;01mand\u001b[39;00m \u001b[38;5;28misinstance\u001b[39m(ret, Runnable):\n\u001b[0;32m    379\u001b[0m     \u001b[38;5;28;01mreturn\u001b[39;00m ret\u001b[38;5;241m.\u001b[39minvoke(\u001b[38;5;28minput\u001b[39m, config)\n",
      "Cell \u001b[1;32mIn[88], line 27\u001b[0m, in \u001b[0;36magent\u001b[1;34m(state, llm, name)\u001b[0m\n\u001b[0;32m     23\u001b[0m     input_messages\u001b[38;5;241m.\u001b[39mappend(aggregater_system_message)\n\u001b[0;32m     25\u001b[0m input_messages\u001b[38;5;241m.\u001b[39mappend(state[\u001b[38;5;124m\"\u001b[39m\u001b[38;5;124mhuman_message\u001b[39m\u001b[38;5;124m\"\u001b[39m])\n\u001b[1;32m---> 27\u001b[0m message \u001b[38;5;241m=\u001b[39m llm\u001b[38;5;241m.\u001b[39minvoke(input_messages)\n\u001b[0;32m     28\u001b[0m message\u001b[38;5;241m.\u001b[39mname \u001b[38;5;241m=\u001b[39m name\n\u001b[0;32m     30\u001b[0m \u001b[38;5;28;01mreturn\u001b[39;00m {\u001b[38;5;124m\"\u001b[39m\u001b[38;5;124mmessages\u001b[39m\u001b[38;5;124m\"\u001b[39m: [message]}\n",
      "File \u001b[1;32mC:\\anaconda\\Lib\\site-packages\\langchain_core\\language_models\\chat_models.py:370\u001b[0m, in \u001b[0;36mBaseChatModel.invoke\u001b[1;34m(self, input, config, stop, **kwargs)\u001b[0m\n\u001b[0;32m    358\u001b[0m \u001b[38;5;129m@override\u001b[39m\n\u001b[0;32m    359\u001b[0m \u001b[38;5;28;01mdef\u001b[39;00m \u001b[38;5;21minvoke\u001b[39m(\n\u001b[0;32m    360\u001b[0m     \u001b[38;5;28mself\u001b[39m,\n\u001b[1;32m   (...)\u001b[0m\n\u001b[0;32m    365\u001b[0m     \u001b[38;5;241m*\u001b[39m\u001b[38;5;241m*\u001b[39mkwargs: Any,\n\u001b[0;32m    366\u001b[0m ) \u001b[38;5;241m-\u001b[39m\u001b[38;5;241m>\u001b[39m BaseMessage:\n\u001b[0;32m    367\u001b[0m     config \u001b[38;5;241m=\u001b[39m ensure_config(config)\n\u001b[0;32m    368\u001b[0m     \u001b[38;5;28;01mreturn\u001b[39;00m cast(\n\u001b[0;32m    369\u001b[0m         \u001b[38;5;124m\"\u001b[39m\u001b[38;5;124mChatGeneration\u001b[39m\u001b[38;5;124m\"\u001b[39m,\n\u001b[1;32m--> 370\u001b[0m         \u001b[38;5;28mself\u001b[39m\u001b[38;5;241m.\u001b[39mgenerate_prompt(\n\u001b[0;32m    371\u001b[0m             [\u001b[38;5;28mself\u001b[39m\u001b[38;5;241m.\u001b[39m_convert_input(\u001b[38;5;28minput\u001b[39m)],\n\u001b[0;32m    372\u001b[0m             stop\u001b[38;5;241m=\u001b[39mstop,\n\u001b[0;32m    373\u001b[0m             callbacks\u001b[38;5;241m=\u001b[39mconfig\u001b[38;5;241m.\u001b[39mget(\u001b[38;5;124m\"\u001b[39m\u001b[38;5;124mcallbacks\u001b[39m\u001b[38;5;124m\"\u001b[39m),\n\u001b[0;32m    374\u001b[0m             tags\u001b[38;5;241m=\u001b[39mconfig\u001b[38;5;241m.\u001b[39mget(\u001b[38;5;124m\"\u001b[39m\u001b[38;5;124mtags\u001b[39m\u001b[38;5;124m\"\u001b[39m),\n\u001b[0;32m    375\u001b[0m             metadata\u001b[38;5;241m=\u001b[39mconfig\u001b[38;5;241m.\u001b[39mget(\u001b[38;5;124m\"\u001b[39m\u001b[38;5;124mmetadata\u001b[39m\u001b[38;5;124m\"\u001b[39m),\n\u001b[0;32m    376\u001b[0m             run_name\u001b[38;5;241m=\u001b[39mconfig\u001b[38;5;241m.\u001b[39mget(\u001b[38;5;124m\"\u001b[39m\u001b[38;5;124mrun_name\u001b[39m\u001b[38;5;124m\"\u001b[39m),\n\u001b[0;32m    377\u001b[0m             run_id\u001b[38;5;241m=\u001b[39mconfig\u001b[38;5;241m.\u001b[39mpop(\u001b[38;5;124m\"\u001b[39m\u001b[38;5;124mrun_id\u001b[39m\u001b[38;5;124m\"\u001b[39m, \u001b[38;5;28;01mNone\u001b[39;00m),\n\u001b[0;32m    378\u001b[0m             \u001b[38;5;241m*\u001b[39m\u001b[38;5;241m*\u001b[39mkwargs,\n\u001b[0;32m    379\u001b[0m         )\u001b[38;5;241m.\u001b[39mgenerations[\u001b[38;5;241m0\u001b[39m][\u001b[38;5;241m0\u001b[39m],\n\u001b[0;32m    380\u001b[0m     )\u001b[38;5;241m.\u001b[39mmessage\n",
      "File \u001b[1;32mC:\\anaconda\\Lib\\site-packages\\langchain_core\\language_models\\chat_models.py:947\u001b[0m, in \u001b[0;36mBaseChatModel.generate_prompt\u001b[1;34m(self, prompts, stop, callbacks, **kwargs)\u001b[0m\n\u001b[0;32m    938\u001b[0m \u001b[38;5;129m@override\u001b[39m\n\u001b[0;32m    939\u001b[0m \u001b[38;5;28;01mdef\u001b[39;00m \u001b[38;5;21mgenerate_prompt\u001b[39m(\n\u001b[0;32m    940\u001b[0m     \u001b[38;5;28mself\u001b[39m,\n\u001b[1;32m   (...)\u001b[0m\n\u001b[0;32m    944\u001b[0m     \u001b[38;5;241m*\u001b[39m\u001b[38;5;241m*\u001b[39mkwargs: Any,\n\u001b[0;32m    945\u001b[0m ) \u001b[38;5;241m-\u001b[39m\u001b[38;5;241m>\u001b[39m LLMResult:\n\u001b[0;32m    946\u001b[0m     prompt_messages \u001b[38;5;241m=\u001b[39m [p\u001b[38;5;241m.\u001b[39mto_messages() \u001b[38;5;28;01mfor\u001b[39;00m p \u001b[38;5;129;01min\u001b[39;00m prompts]\n\u001b[1;32m--> 947\u001b[0m     \u001b[38;5;28;01mreturn\u001b[39;00m \u001b[38;5;28mself\u001b[39m\u001b[38;5;241m.\u001b[39mgenerate(prompt_messages, stop\u001b[38;5;241m=\u001b[39mstop, callbacks\u001b[38;5;241m=\u001b[39mcallbacks, \u001b[38;5;241m*\u001b[39m\u001b[38;5;241m*\u001b[39mkwargs)\n",
      "File \u001b[1;32mC:\\anaconda\\Lib\\site-packages\\langchain_core\\language_models\\chat_models.py:766\u001b[0m, in \u001b[0;36mBaseChatModel.generate\u001b[1;34m(self, messages, stop, callbacks, tags, metadata, run_name, run_id, **kwargs)\u001b[0m\n\u001b[0;32m    763\u001b[0m \u001b[38;5;28;01mfor\u001b[39;00m i, m \u001b[38;5;129;01min\u001b[39;00m \u001b[38;5;28menumerate\u001b[39m(input_messages):\n\u001b[0;32m    764\u001b[0m     \u001b[38;5;28;01mtry\u001b[39;00m:\n\u001b[0;32m    765\u001b[0m         results\u001b[38;5;241m.\u001b[39mappend(\n\u001b[1;32m--> 766\u001b[0m             \u001b[38;5;28mself\u001b[39m\u001b[38;5;241m.\u001b[39m_generate_with_cache(\n\u001b[0;32m    767\u001b[0m                 m,\n\u001b[0;32m    768\u001b[0m                 stop\u001b[38;5;241m=\u001b[39mstop,\n\u001b[0;32m    769\u001b[0m                 run_manager\u001b[38;5;241m=\u001b[39mrun_managers[i] \u001b[38;5;28;01mif\u001b[39;00m run_managers \u001b[38;5;28;01melse\u001b[39;00m \u001b[38;5;28;01mNone\u001b[39;00m,\n\u001b[0;32m    770\u001b[0m                 \u001b[38;5;241m*\u001b[39m\u001b[38;5;241m*\u001b[39mkwargs,\n\u001b[0;32m    771\u001b[0m             )\n\u001b[0;32m    772\u001b[0m         )\n\u001b[0;32m    773\u001b[0m     \u001b[38;5;28;01mexcept\u001b[39;00m \u001b[38;5;167;01mBaseException\u001b[39;00m \u001b[38;5;28;01mas\u001b[39;00m e:\n\u001b[0;32m    774\u001b[0m         \u001b[38;5;28;01mif\u001b[39;00m run_managers:\n",
      "File \u001b[1;32mC:\\anaconda\\Lib\\site-packages\\langchain_core\\language_models\\chat_models.py:1012\u001b[0m, in \u001b[0;36mBaseChatModel._generate_with_cache\u001b[1;34m(self, messages, stop, run_manager, **kwargs)\u001b[0m\n\u001b[0;32m   1010\u001b[0m     result \u001b[38;5;241m=\u001b[39m generate_from_stream(\u001b[38;5;28miter\u001b[39m(chunks))\n\u001b[0;32m   1011\u001b[0m \u001b[38;5;28;01melif\u001b[39;00m inspect\u001b[38;5;241m.\u001b[39msignature(\u001b[38;5;28mself\u001b[39m\u001b[38;5;241m.\u001b[39m_generate)\u001b[38;5;241m.\u001b[39mparameters\u001b[38;5;241m.\u001b[39mget(\u001b[38;5;124m\"\u001b[39m\u001b[38;5;124mrun_manager\u001b[39m\u001b[38;5;124m\"\u001b[39m):\n\u001b[1;32m-> 1012\u001b[0m     result \u001b[38;5;241m=\u001b[39m \u001b[38;5;28mself\u001b[39m\u001b[38;5;241m.\u001b[39m_generate(\n\u001b[0;32m   1013\u001b[0m         messages, stop\u001b[38;5;241m=\u001b[39mstop, run_manager\u001b[38;5;241m=\u001b[39mrun_manager, \u001b[38;5;241m*\u001b[39m\u001b[38;5;241m*\u001b[39mkwargs\n\u001b[0;32m   1014\u001b[0m     )\n\u001b[0;32m   1015\u001b[0m \u001b[38;5;28;01melse\u001b[39;00m:\n\u001b[0;32m   1016\u001b[0m     result \u001b[38;5;241m=\u001b[39m \u001b[38;5;28mself\u001b[39m\u001b[38;5;241m.\u001b[39m_generate(messages, stop\u001b[38;5;241m=\u001b[39mstop, \u001b[38;5;241m*\u001b[39m\u001b[38;5;241m*\u001b[39mkwargs)\n",
      "File \u001b[1;32mC:\\anaconda\\Lib\\site-packages\\langchain_anthropic\\chat_models.py:1169\u001b[0m, in \u001b[0;36mChatAnthropic._generate\u001b[1;34m(self, messages, stop, run_manager, **kwargs)\u001b[0m\n\u001b[0;32m   1167\u001b[0m     \u001b[38;5;28;01mreturn\u001b[39;00m generate_from_stream(stream_iter)\n\u001b[0;32m   1168\u001b[0m payload \u001b[38;5;241m=\u001b[39m \u001b[38;5;28mself\u001b[39m\u001b[38;5;241m.\u001b[39m_get_request_payload(messages, stop\u001b[38;5;241m=\u001b[39mstop, \u001b[38;5;241m*\u001b[39m\u001b[38;5;241m*\u001b[39mkwargs)\n\u001b[1;32m-> 1169\u001b[0m data \u001b[38;5;241m=\u001b[39m \u001b[38;5;28mself\u001b[39m\u001b[38;5;241m.\u001b[39m_client\u001b[38;5;241m.\u001b[39mmessages\u001b[38;5;241m.\u001b[39mcreate(\u001b[38;5;241m*\u001b[39m\u001b[38;5;241m*\u001b[39mpayload)\n\u001b[0;32m   1170\u001b[0m \u001b[38;5;28;01mreturn\u001b[39;00m \u001b[38;5;28mself\u001b[39m\u001b[38;5;241m.\u001b[39m_format_output(data, \u001b[38;5;241m*\u001b[39m\u001b[38;5;241m*\u001b[39mkwargs)\n",
      "File \u001b[1;32mC:\\anaconda\\Lib\\site-packages\\anthropic\\_utils\\_utils.py:283\u001b[0m, in \u001b[0;36mrequired_args.<locals>.inner.<locals>.wrapper\u001b[1;34m(*args, **kwargs)\u001b[0m\n\u001b[0;32m    281\u001b[0m             msg \u001b[38;5;241m=\u001b[39m \u001b[38;5;124mf\u001b[39m\u001b[38;5;124m\"\u001b[39m\u001b[38;5;124mMissing required argument: \u001b[39m\u001b[38;5;132;01m{\u001b[39;00mquote(missing[\u001b[38;5;241m0\u001b[39m])\u001b[38;5;132;01m}\u001b[39;00m\u001b[38;5;124m\"\u001b[39m\n\u001b[0;32m    282\u001b[0m     \u001b[38;5;28;01mraise\u001b[39;00m \u001b[38;5;167;01mTypeError\u001b[39;00m(msg)\n\u001b[1;32m--> 283\u001b[0m \u001b[38;5;28;01mreturn\u001b[39;00m func(\u001b[38;5;241m*\u001b[39margs, \u001b[38;5;241m*\u001b[39m\u001b[38;5;241m*\u001b[39mkwargs)\n",
      "File \u001b[1;32mC:\\anaconda\\Lib\\site-packages\\anthropic\\resources\\messages\\messages.py:948\u001b[0m, in \u001b[0;36mMessages.create\u001b[1;34m(self, max_tokens, messages, model, metadata, stop_sequences, stream, system, temperature, thinking, tool_choice, tools, top_k, top_p, extra_headers, extra_query, extra_body, timeout)\u001b[0m\n\u001b[0;32m    941\u001b[0m \u001b[38;5;28;01mif\u001b[39;00m model \u001b[38;5;129;01min\u001b[39;00m DEPRECATED_MODELS:\n\u001b[0;32m    942\u001b[0m     warnings\u001b[38;5;241m.\u001b[39mwarn(\n\u001b[0;32m    943\u001b[0m         \u001b[38;5;124mf\u001b[39m\u001b[38;5;124m\"\u001b[39m\u001b[38;5;124mThe model \u001b[39m\u001b[38;5;124m'\u001b[39m\u001b[38;5;132;01m{\u001b[39;00mmodel\u001b[38;5;132;01m}\u001b[39;00m\u001b[38;5;124m'\u001b[39m\u001b[38;5;124m is deprecated and will reach end-of-life on \u001b[39m\u001b[38;5;132;01m{\u001b[39;00mDEPRECATED_MODELS[model]\u001b[38;5;132;01m}\u001b[39;00m\u001b[38;5;124m.\u001b[39m\u001b[38;5;130;01m\\n\u001b[39;00m\u001b[38;5;124mPlease migrate to a newer model. Visit https://docs.anthropic.com/en/docs/resources/model-deprecations for more information.\u001b[39m\u001b[38;5;124m\"\u001b[39m,\n\u001b[0;32m    944\u001b[0m         \u001b[38;5;167;01mDeprecationWarning\u001b[39;00m,\n\u001b[0;32m    945\u001b[0m         stacklevel\u001b[38;5;241m=\u001b[39m\u001b[38;5;241m3\u001b[39m,\n\u001b[0;32m    946\u001b[0m     )\n\u001b[1;32m--> 948\u001b[0m \u001b[38;5;28;01mreturn\u001b[39;00m \u001b[38;5;28mself\u001b[39m\u001b[38;5;241m.\u001b[39m_post(\n\u001b[0;32m    949\u001b[0m     \u001b[38;5;124m\"\u001b[39m\u001b[38;5;124m/v1/messages\u001b[39m\u001b[38;5;124m\"\u001b[39m,\n\u001b[0;32m    950\u001b[0m     body\u001b[38;5;241m=\u001b[39mmaybe_transform(\n\u001b[0;32m    951\u001b[0m         {\n\u001b[0;32m    952\u001b[0m             \u001b[38;5;124m\"\u001b[39m\u001b[38;5;124mmax_tokens\u001b[39m\u001b[38;5;124m\"\u001b[39m: max_tokens,\n\u001b[0;32m    953\u001b[0m             \u001b[38;5;124m\"\u001b[39m\u001b[38;5;124mmessages\u001b[39m\u001b[38;5;124m\"\u001b[39m: messages,\n\u001b[0;32m    954\u001b[0m             \u001b[38;5;124m\"\u001b[39m\u001b[38;5;124mmodel\u001b[39m\u001b[38;5;124m\"\u001b[39m: model,\n\u001b[0;32m    955\u001b[0m             \u001b[38;5;124m\"\u001b[39m\u001b[38;5;124mmetadata\u001b[39m\u001b[38;5;124m\"\u001b[39m: metadata,\n\u001b[0;32m    956\u001b[0m             \u001b[38;5;124m\"\u001b[39m\u001b[38;5;124mstop_sequences\u001b[39m\u001b[38;5;124m\"\u001b[39m: stop_sequences,\n\u001b[0;32m    957\u001b[0m             \u001b[38;5;124m\"\u001b[39m\u001b[38;5;124mstream\u001b[39m\u001b[38;5;124m\"\u001b[39m: stream,\n\u001b[0;32m    958\u001b[0m             \u001b[38;5;124m\"\u001b[39m\u001b[38;5;124msystem\u001b[39m\u001b[38;5;124m\"\u001b[39m: system,\n\u001b[0;32m    959\u001b[0m             \u001b[38;5;124m\"\u001b[39m\u001b[38;5;124mtemperature\u001b[39m\u001b[38;5;124m\"\u001b[39m: temperature,\n\u001b[0;32m    960\u001b[0m             \u001b[38;5;124m\"\u001b[39m\u001b[38;5;124mthinking\u001b[39m\u001b[38;5;124m\"\u001b[39m: thinking,\n\u001b[0;32m    961\u001b[0m             \u001b[38;5;124m\"\u001b[39m\u001b[38;5;124mtool_choice\u001b[39m\u001b[38;5;124m\"\u001b[39m: tool_choice,\n\u001b[0;32m    962\u001b[0m             \u001b[38;5;124m\"\u001b[39m\u001b[38;5;124mtools\u001b[39m\u001b[38;5;124m\"\u001b[39m: tools,\n\u001b[0;32m    963\u001b[0m             \u001b[38;5;124m\"\u001b[39m\u001b[38;5;124mtop_k\u001b[39m\u001b[38;5;124m\"\u001b[39m: top_k,\n\u001b[0;32m    964\u001b[0m             \u001b[38;5;124m\"\u001b[39m\u001b[38;5;124mtop_p\u001b[39m\u001b[38;5;124m\"\u001b[39m: top_p,\n\u001b[0;32m    965\u001b[0m         },\n\u001b[0;32m    966\u001b[0m         message_create_params\u001b[38;5;241m.\u001b[39mMessageCreateParamsStreaming\n\u001b[0;32m    967\u001b[0m         \u001b[38;5;28;01mif\u001b[39;00m stream\n\u001b[0;32m    968\u001b[0m         \u001b[38;5;28;01melse\u001b[39;00m message_create_params\u001b[38;5;241m.\u001b[39mMessageCreateParamsNonStreaming,\n\u001b[0;32m    969\u001b[0m     ),\n\u001b[0;32m    970\u001b[0m     options\u001b[38;5;241m=\u001b[39mmake_request_options(\n\u001b[0;32m    971\u001b[0m         extra_headers\u001b[38;5;241m=\u001b[39mextra_headers, extra_query\u001b[38;5;241m=\u001b[39mextra_query, extra_body\u001b[38;5;241m=\u001b[39mextra_body, timeout\u001b[38;5;241m=\u001b[39mtimeout\n\u001b[0;32m    972\u001b[0m     ),\n\u001b[0;32m    973\u001b[0m     cast_to\u001b[38;5;241m=\u001b[39mMessage,\n\u001b[0;32m    974\u001b[0m     stream\u001b[38;5;241m=\u001b[39mstream \u001b[38;5;129;01mor\u001b[39;00m \u001b[38;5;28;01mFalse\u001b[39;00m,\n\u001b[0;32m    975\u001b[0m     stream_cls\u001b[38;5;241m=\u001b[39mStream[RawMessageStreamEvent],\n\u001b[0;32m    976\u001b[0m )\n",
      "File \u001b[1;32mC:\\anaconda\\Lib\\site-packages\\anthropic\\_base_client.py:1279\u001b[0m, in \u001b[0;36mSyncAPIClient.post\u001b[1;34m(self, path, cast_to, body, options, files, stream, stream_cls)\u001b[0m\n\u001b[0;32m   1265\u001b[0m \u001b[38;5;28;01mdef\u001b[39;00m \u001b[38;5;21mpost\u001b[39m(\n\u001b[0;32m   1266\u001b[0m     \u001b[38;5;28mself\u001b[39m,\n\u001b[0;32m   1267\u001b[0m     path: \u001b[38;5;28mstr\u001b[39m,\n\u001b[1;32m   (...)\u001b[0m\n\u001b[0;32m   1274\u001b[0m     stream_cls: \u001b[38;5;28mtype\u001b[39m[_StreamT] \u001b[38;5;241m|\u001b[39m \u001b[38;5;28;01mNone\u001b[39;00m \u001b[38;5;241m=\u001b[39m \u001b[38;5;28;01mNone\u001b[39;00m,\n\u001b[0;32m   1275\u001b[0m ) \u001b[38;5;241m-\u001b[39m\u001b[38;5;241m>\u001b[39m ResponseT \u001b[38;5;241m|\u001b[39m _StreamT:\n\u001b[0;32m   1276\u001b[0m     opts \u001b[38;5;241m=\u001b[39m FinalRequestOptions\u001b[38;5;241m.\u001b[39mconstruct(\n\u001b[0;32m   1277\u001b[0m         method\u001b[38;5;241m=\u001b[39m\u001b[38;5;124m\"\u001b[39m\u001b[38;5;124mpost\u001b[39m\u001b[38;5;124m\"\u001b[39m, url\u001b[38;5;241m=\u001b[39mpath, json_data\u001b[38;5;241m=\u001b[39mbody, files\u001b[38;5;241m=\u001b[39mto_httpx_files(files), \u001b[38;5;241m*\u001b[39m\u001b[38;5;241m*\u001b[39moptions\n\u001b[0;32m   1278\u001b[0m     )\n\u001b[1;32m-> 1279\u001b[0m     \u001b[38;5;28;01mreturn\u001b[39;00m cast(ResponseT, \u001b[38;5;28mself\u001b[39m\u001b[38;5;241m.\u001b[39mrequest(cast_to, opts, stream\u001b[38;5;241m=\u001b[39mstream, stream_cls\u001b[38;5;241m=\u001b[39mstream_cls))\n",
      "File \u001b[1;32mC:\\anaconda\\Lib\\site-packages\\anthropic\\_base_client.py:1074\u001b[0m, in \u001b[0;36mSyncAPIClient.request\u001b[1;34m(self, cast_to, options, stream, stream_cls)\u001b[0m\n\u001b[0;32m   1071\u001b[0m             err\u001b[38;5;241m.\u001b[39mresponse\u001b[38;5;241m.\u001b[39mread()\n\u001b[0;32m   1073\u001b[0m         log\u001b[38;5;241m.\u001b[39mdebug(\u001b[38;5;124m\"\u001b[39m\u001b[38;5;124mRe-raising status error\u001b[39m\u001b[38;5;124m\"\u001b[39m)\n\u001b[1;32m-> 1074\u001b[0m         \u001b[38;5;28;01mraise\u001b[39;00m \u001b[38;5;28mself\u001b[39m\u001b[38;5;241m.\u001b[39m_make_status_error_from_response(err\u001b[38;5;241m.\u001b[39mresponse) \u001b[38;5;28;01mfrom\u001b[39;00m \u001b[38;5;28;01mNone\u001b[39;00m\n\u001b[0;32m   1076\u001b[0m     \u001b[38;5;28;01mbreak\u001b[39;00m\n\u001b[0;32m   1078\u001b[0m \u001b[38;5;28;01massert\u001b[39;00m response \u001b[38;5;129;01mis\u001b[39;00m \u001b[38;5;129;01mnot\u001b[39;00m \u001b[38;5;28;01mNone\u001b[39;00m, \u001b[38;5;124m\"\u001b[39m\u001b[38;5;124mcould not resolve response (should never happen)\u001b[39m\u001b[38;5;124m\"\u001b[39m\n",
      "\u001b[1;31mAuthenticationError\u001b[0m: Error code: 401 - {'type': 'error', 'error': {'type': 'authentication_error', 'message': 'invalid x-api-key'}}",
      "\u001b[0mDuring task with name 'anthropic' and id 'd726ec22-d7ee-7418-4b5a-0c7c562e929a'"
     ]
    }
   ],
   "source": [
    "#実行\n",
    "human_message = HumanMessage(\"マルチエージェントについて教えて\")\n",
    "\n",
    "state = {\n",
    "    \"human_message\": human_message,\n",
    "    \"messages\": [],\n",
    "    \"prev_messages\": [],\n",
    "    \"layer_cnt\": 1\n",
    "}\n",
    "\n",
    "print(\"#################### Layer 1 ####################\")\n",
    "for event in graph.stream(state):\n",
    "    for value in event.values():\n",
    "        if \"messages\" in value:\n",
    "            value[\"messages\"][-1].pretty_print()\n",
    "        if \"layer_cnt\" in value:\n",
    "            print(f\"\\n\\n#################### Layer {value['layer_cnt']} ####################\")"
   ]
  },
  {
   "cell_type": "code",
   "execution_count": null,
   "id": "9fe991a0-d17f-47bd-abe0-4402d530590e",
   "metadata": {},
   "outputs": [],
   "source": []
  }
 ],
 "metadata": {
  "kernelspec": {
   "display_name": "Python 3 (ipykernel)",
   "language": "python",
   "name": "python3"
  },
  "language_info": {
   "codemirror_mode": {
    "name": "ipython",
    "version": 3
   },
   "file_extension": ".py",
   "mimetype": "text/x-python",
   "name": "python",
   "nbconvert_exporter": "python",
   "pygments_lexer": "ipython3",
   "version": "3.11.7"
  }
 },
 "nbformat": 4,
 "nbformat_minor": 5
}
