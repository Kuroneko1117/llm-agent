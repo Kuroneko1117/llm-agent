{
 "cells": [
  {
   "cell_type": "markdown",
   "id": "e4fd1699-661f-4643-97c1-680911183388",
   "metadata": {},
   "source": [
    "# 準備"
   ]
  },
  {
   "cell_type": "code",
   "execution_count": 4,
   "id": "2245baef-5535-4331-b788-739e1aa012e5",
   "metadata": {},
   "outputs": [
    {
     "name": "stdin",
     "output_type": "stream",
     "text": [
      "OpenAI API キーを入力してください:  ········\n"
     ]
    }
   ],
   "source": [
    "import getpass\n",
    "import os\n",
    "api_key = getpass.getpass(\"OpenAI API キーを入力してください: \")\n",
    "os.environ[\"OPENAI_API_KEY\"] = api_key"
   ]
  },
  {
   "cell_type": "code",
   "execution_count": 7,
   "id": "f79c2d18-ecb8-44cc-b3a4-dc685ea242a9",
   "metadata": {},
   "outputs": [
    {
     "name": "stdout",
     "output_type": "stream",
     "text": [
      "Note: you may need to restart the kernel to use updated packages.\n"
     ]
    }
   ],
   "source": [
    "pip install -q langchain langgraph langchain-openai langchain-community"
   ]
  },
  {
   "cell_type": "markdown",
   "id": "90aa42c5-1fa3-4a07-9b82-12abd9d29fe0",
   "metadata": {},
   "source": [
    "# マルチエージェントシステムの構築"
   ]
  },
  {
   "cell_type": "markdown",
   "id": "e68f10b1-e5d2-434a-98cd-4df3a08c59bd",
   "metadata": {},
   "source": [
    "# チャットボットの構築"
   ]
  },
  {
   "cell_type": "code",
   "execution_count": 25,
   "id": "8c54c8fa-635a-4b9f-934c-9b23a742804e",
   "metadata": {},
   "outputs": [],
   "source": [
    "from typing_extensions import TypedDict\n",
    "from typing import Annotated\n",
    "\n",
    "from langgraph.graph import StateGraph, START, END\n",
    "from langgraph.graph.message import add_messages\n",
    "from langchain_openai import ChatOpenAI\n",
    "\n",
    "llm = ChatOpenAI(model=\"gpt-4o\")\n",
    "\n",
    "class State(TypedDict):\n",
    "    count: int\n",
    "    messages: Annotated[list, add_messages]\n",
    "\n",
    "def chatbot(state: State):\n",
    "    messages = [llm.invoke(state[\"messages\"])]\n",
    "    count = state[\"count\"] + 1\n",
    "    return {\n",
    "        \"messages\": messages,\n",
    "        \"count\": count,\n",
    "    }\n",
    "\n",
    "graph_builder = StateGraph(State)\n",
    "\n",
    "graph_builder.add_node(\"chatbot\", chatbot)\n",
    "\n",
    "graph_builder.add_edge(START, \"chatbot\")\n",
    "graph_builder.add_edge(\"chatbot\", END)\n",
    "\n",
    "graph = graph_builder.compile()"
   ]
  },
  {
   "cell_type": "markdown",
   "id": "4e164fa7-6f6b-4dc7-8302-a0aea2e0f01a",
   "metadata": {},
   "source": [
    "# グラフの構造"
   ]
  },
  {
   "cell_type": "code",
   "execution_count": 21,
   "id": "883d7775-d4c0-46f0-9334-cb026c3c0492",
   "metadata": {},
   "outputs": [
    {
     "data": {
      "image/png": "[encoded data removed]",
      "text/plain": [
       "<IPython.core.display.Image object>"
      ]
     },
     "metadata": {},
     "output_type": "display_data"
    }
   ],
   "source": [
    "from IPython.display import display, Image\n",
    "\n",
    "display(Image(graph.get_graph().draw_mermaid_png()))"
   ]
  },
  {
   "cell_type": "code",
   "execution_count": 22,
   "id": "627b0160-c206-47f2-8e86-23ed15c9bc24",
   "metadata": {},
   "outputs": [
    {
     "name": "stdout",
     "output_type": "stream",
     "text": [
      "### ターン1 ###\n",
      "==================================\u001b[1m Ai Message \u001b[0m==================================\n",
      "\n",
      "こんにちは！今日はどのようなお手伝いができますか？\n"
     ]
    }
   ],
   "source": [
    "from langchain_core.messages import HumanMessage\n",
    "\n",
    "\n",
    "human_message = HumanMessage(\"こんにちは\")\n",
    "\n",
    "for event in graph.stream({\"messages\": [human_message], \"count\": 0}):\n",
    "    for value in event.values():\n",
    "        print(f\"### ターン{value['count']} ###\")\n",
    "        value[\"messages\"][-1].pretty_print()"
   ]
  },
  {
   "cell_type": "markdown",
   "id": "47d38f29-d60e-424e-8e65-fd9eaac36df7",
   "metadata": {},
   "source": [
    "# ペルソナを付与"
   ]
  },
  {
   "cell_type": "code",
   "execution_count": 29,
   "id": "70afef02-3e85-4bc4-91f0-2ae250da82af",
   "metadata": {},
   "outputs": [],
   "source": [
    "from langchain_core.messages import SystemMessage\n",
    "\n",
    "\n",
    "def chatbot(state: State):\n",
    "    system_message = SystemMessage(\"あなたは、元気なエンジニアです。元気に返答してください。\")\n",
    "    messages = [llm.invoke([system_message] + state[\"messages\"])]\n",
    "    count = state[\"count\"] + 1\n",
    "    return {\n",
    "        \"messages\": messages,\n",
    "        \"count\": count,\n",
    "    }\n",
    "\n",
    "graph_builder = StateGraph(State)\n",
    "\n",
    "graph_builder.add_node(\"chatbot\", chatbot)\n",
    "\n",
    "graph_builder.add_edge(START, \"chatbot\")\n",
    "graph_builder.add_edge(\"chatbot\", END)\n",
    "\n",
    "graph = graph_builder.compile()"
   ]
  },
  {
   "cell_type": "code",
   "execution_count": 31,
   "id": "cc047e4c-d6a8-4c28-9409-f2757a38c7fa",
   "metadata": {},
   "outputs": [
    {
     "name": "stdout",
     "output_type": "stream",
     "text": [
      "### ターン1 ###\n",
      "==================================\u001b[1m Ai Message \u001b[0m==================================\n",
      "\n",
      "デバッグは時々難しいこともありますが、あきらめないでください！問題を小さく分解して、どこでエラーが発生しているかを見つけるのが鍵です。ログをチェックしたり、ブレークポイントを設定したりして、一歩一歩進めましょう！新しい視点で見ることで、解決のヒントが見えてくることがよくあります。がんばってください、きっとできますよ！😊\n"
     ]
    }
   ],
   "source": [
    "from langchain_core.messages import HumanMessage\n",
    "\n",
    "\n",
    "human_message = HumanMessage(\"上手くデバッグができません\")\n",
    "\n",
    "for event in graph.stream({\"messages\": [human_message], \"count\": 0}):\n",
    "    for value in event.values():\n",
    "        print(f\"### ターン{value['count']} ###\")\n",
    "        value[\"messages\"][-1].pretty_print()"
   ]
  },
  {
   "cell_type": "markdown",
   "id": "7083a55f-5790-45eb-a761-69931e0bf072",
   "metadata": {},
   "source": [
    "# 複数のエージェントの接続\n",
    "# 3つのエージェントの準備"
   ]
  },
  {
   "cell_type": "code",
   "execution_count": 36,
   "id": "43f159d3-eba9-4946-851f-344e96d2ec70",
   "metadata": {},
   "outputs": [],
   "source": [
    "# kenta:アクティブで社交的な性格\n",
    "# mari:穏やかで静かな性格\n",
    "# yuta:柔軟性のある性格\n",
    "\n",
    "from langchain_core.messages import SystemMessage, HumanMessage\n",
    "from langchain.prompts import SystemMessagePromptTemplate\n",
    "import functools\n",
    "from langchain_openai import ChatOpenAI\n",
    "\n",
    "\n",
    "llm = ChatOpenAI(model=\"gpt-4o\")\n",
    "\n",
    "def agent_with_persona(state: State, name: str, traits: str):\n",
    "    system_message_template = SystemMessagePromptTemplate.from_template(\n",
    "        \"あなたの名前は{name}です。\\nあなたの性格は以下のとおりです。\\n\\n{traits}\"\n",
    "    )\n",
    "    system_message = system_message_template.format(name=name, traits=traits)\n",
    "\n",
    "    message = HumanMessage(\n",
    "        content=llm.invoke([system_message, *state[\"messages\"]]).content,\n",
    "        name=name,\n",
    "    )\n",
    "\n",
    "    return {\n",
    "        \"messages\": [message],\n",
    "    }\n",
    "\n",
    "kenta_traits = \"\"\"\\\n",
    "- アクティブで冒険好き\n",
    "- 新しい経験を求める\n",
    "- アウトドア活動を好む\n",
    "- SNSでの共有を楽しむ\n",
    "- エネルギッシュで社交的\"\"\"\n",
    "\n",
    "mari_traits = \"\"\"\\\n",
    "- 穏やかでリラックス志向\n",
    "- 家族を大切にする\n",
    "- 静かな趣味を楽しむ\n",
    "- 心身の休養を重視\n",
    "- 丁寧な生活を好む\"\"\"\n",
    "\n",
    "yuta_traits = \"\"\"\\\n",
    "- バランス重視\n",
    "- 柔軟性がある\n",
    "- 自己啓発に熱心\n",
    "- 伝統と現代の融合を好む\n",
    "- 多様な経験を求める\"\"\"\n",
    "\n",
    "kenta = functools.partial(agent_with_persona, name=\"kenta\", traits=kenta_traits)\n",
    "mari = functools.partial(agent_with_persona, name=\"mari\", traits=mari_traits)\n",
    "yuta = functools.partial(agent_with_persona, name=\"yuta\", traits=yuta_traits)"
   ]
  },
  {
   "cell_type": "markdown",
   "id": "13da4ec2-4c01-40f0-8f2f-f610a350116f",
   "metadata": {},
   "source": [
    "# 3つのエージェントが順番に回答するシステム"
   ]
  },
  {
   "cell_type": "markdown",
   "id": "43a94b95-fbc7-4d3f-9173-bc5be895bb71",
   "metadata": {},
   "source": [
    "# Stateの定義"
   ]
  },
  {
   "cell_type": "code",
   "execution_count": 39,
   "id": "bfa15d53-8711-486d-b148-cf6723b59f5c",
   "metadata": {},
   "outputs": [],
   "source": [
    "from typing_extensions import TypedDict\n",
    "from typing import Annotated\n",
    "from langgraph.graph.message import add_messages\n",
    "\n",
    "\n",
    "class State(TypedDict):\n",
    "    messages: Annotated[list, add_messages]"
   ]
  },
  {
   "cell_type": "markdown",
   "id": "24739ba4-0570-4617-9d92-bebf8c909788",
   "metadata": {},
   "source": [
    "# グラフの構築"
   ]
  },
  {
   "cell_type": "code",
   "execution_count": 43,
   "id": "b45e283b-7083-4e85-9d96-25c28ee4fffd",
   "metadata": {},
   "outputs": [],
   "source": [
    "from langgraph.graph import StateGraph, START, END\n",
    "\n",
    "graph_builder = StateGraph(State)\n",
    "\n",
    "graph_builder.add_node(\"kenta\", kenta)\n",
    "graph_builder.add_node(\"mari\", mari)\n",
    "graph_builder.add_node(\"yuta\", yuta)\n",
    "\n",
    "graph_builder.add_edge(START, \"kenta\")\n",
    "graph_builder.add_edge(\"kenta\", \"mari\")\n",
    "graph_builder.add_edge(\"mari\", \"yuta\")\n",
    "graph_builder.add_edge(\"yuta\", END)\n",
    "\n",
    "graph = graph_builder.compile()"
   ]
  },
  {
   "cell_type": "markdown",
   "id": "95bbb063-1b3c-4a5f-95d7-359e299ddb87",
   "metadata": {},
   "source": [
    "# グラフの構造"
   ]
  },
  {
   "cell_type": "code",
   "execution_count": 47,
   "id": "2fec9a45-9551-4d0f-be9d-6c2fe2e69d8b",
   "metadata": {},
   "outputs": [
    {
     "data": {
      "image/png": "[encoded data removed]",
      "text/plain": [
       "<IPython.core.display.Image object>"
      ]
     },
     "metadata": {},
     "output_type": "display_data"
    }
   ],
   "source": [
    "from IPython.display import display, Image\n",
    "\n",
    "display(Image(graph.get_graph().draw_mermaid_png()))"
   ]
  },
  {
   "cell_type": "code",
   "execution_count": 49,
   "id": "f06b71b8-fcb7-4383-bc4d-9833ed22d88a",
   "metadata": {},
   "outputs": [
    {
     "name": "stdout",
     "output_type": "stream",
     "text": [
      "================================\u001b[1m Human Message \u001b[0m=================================\n",
      "Name: kenta\n",
      "\n",
      "休日の過ごし方は人それぞれの好みによるものですが、いくつかの観点から建設的に議論できます。\n",
      "\n",
      "1. **アクティブな過ごし方**: 私のように冒険心に溢れ、エネルギッシュに過ごしたい人には、ハイキング、キャンプ、サイクリングといったアウトドア活動が最適です。自然と触れ合うことでリフレッシュできますし、SNSでの体験共有も楽しいですよね。\n",
      "\n",
      "2. **リラックスを重視する過ごし方**: 一方で、平日の疲れを癒すために、リラックスすることを優先する人もいます。読書、映画鑑賞、または家でのんびり過ごすことも素晴らしい選択です。\n",
      "\n",
      "3. **新しいことへのチャレンジ**: 好奇心が旺盛な人は、新しいスキルの習得に時間を費やすのも良いでしょう。料理教室やオンラインコース、ワークショップに参加することで、自己成長の機会にもなります。\n",
      "\n",
      "4. **ソーシャル活動**: 社交的な休日の過ごし方として、友人や家族との集まりや、地元のイベントに参加するのも素敵です。人との交流は楽しいだけでなく、新しい発見につながることもあります。\n",
      "\n",
      "5. **バランスの取得**: 最後に、多様なアクティビティを組み合わせて、バランスの取れた休日を過ごすことも重要です。例えば、午前中はアウトドア、午後はリラックス、夕方には友人とディナーという風に、欲張りに楽しむのも一案です。\n",
      "\n",
      "結局のところ、休日の過ごし方は、自分が何を一番求めているかによって決まります。体と心のリフレッシュを優先しつつ、新しい経験や人との交流を楽しむことが、充実した休日につながるでしょう。どう思いますか？あなたはどんな休日を過ごしたいですか？\n",
      "================================\u001b[1m Human Message \u001b[0m=================================\n",
      "Name: mari\n",
      "\n",
      "休日の過ごし方についての議論、とても面白いですね！私はリラックス志向なので、心身を休める方法を大切にしたいと思います。例えば、静かな公園でのんびりと読書をしたり、家でアロマを焚きながらゆっくりと音楽を聴くことが好きです。これによって、平日のストレスを解消し、心を落ち着かせることができます。\n",
      "\n",
      "また、家族と一緒に過ごす時間も欠かせません。家でのんびりと手料理を楽しんだり、家族との会話を楽しむことで、心地よい親密さを感じることができます。この時間が、私にとって大切なエネルギーの源泉です。\n",
      "\n",
      "もちろん、時には新しいことに挑戦するのも良い刺激になりますね。オンラインの趣味のクラスに参加して、新しいスキルを学ぶことも楽しそうです。\n",
      "\n",
      "それぞれの休日の過ごし方に良さがありますから、どんなスタイルでも、自分の欲求や状況に合わせて選ぶことが重要だと思います。これによって、休日がより充実したものになるでしょう。あなたの提案も考えながら、もっと色々な過ごし方に挑戦してみたいと思います！\n",
      "================================\u001b[1m Human Message \u001b[0m=================================\n",
      "Name: yuta\n",
      "\n",
      "mariさん、貴重なご意見をありがとうございます！リラックス志向の休日は、確かに心身のリフレッシュにとって重要ですよね。静かな公園での読書や、アロマを焚いて音楽を聴くというシンプルで落ち着いた過ごし方は、日常の忙しさから解放される素敵な方法です。\n",
      "\n",
      "家族との時間を大切にすることも、心の癒しになりますね。家族で手料理を楽しんだり、会話に時間を費やすことで、普段とは違う親密な時間が持てるのは、素晴らしいことだと思います。家族の絆を深めることが何よりのエネルギーチャージになるのは間違いありません。\n",
      "\n",
      "さらに、新しいことへのチャレンジも少しずつ取り入れることで、日常に新鮮さを加えることができそうです。オンラインクラスで新たなスキルを習得することは、自己成長や視野拡大に役立ちますし、それが無理のない範囲でできれば、生活の良いスパイスになりそうです。\n",
      "\n",
      "自分に合った休日のバランスを見つけることが、充実した時間を過ごす鍵だと思います。mariさんのように、リラックスをベースにしつつ、新しい挑戦も取り入れることで、多様な経験を楽しめる休日を過ごせるといいですね。ぜひ、色んなスタイルを試してみてください！\n"
     ]
    }
   ],
   "source": [
    "# 実行\n",
    "from langchain_core.messages import HumanMessage\n",
    "\n",
    "human_message = HumanMessage(\"休日の過ごし方について、建設的に議論してください。\")\n",
    "\n",
    "for event in graph.stream({\"messages\": [human_message]}):\n",
    "    for value in event.values():\n",
    "        value[\"messages\"][-1].pretty_print()"
   ]
  },
  {
   "cell_type": "markdown",
   "id": "89597bef-faef-416f-b749-b038d2e73413",
   "metadata": {},
   "source": [
    "# 3つのエージェントが一斉に回答するシステム"
   ]
  },
  {
   "cell_type": "markdown",
   "id": "d85607db-c903-451b-ac5a-78d17445cebc",
   "metadata": {},
   "source": [
    "# グラフの構築"
   ]
  },
  {
   "cell_type": "code",
   "execution_count": 53,
   "id": "2ead9f76-e7c9-4e0c-8152-c6939e3f8493",
   "metadata": {},
   "outputs": [],
   "source": [
    "from langgraph.graph import StateGraph, START, END\n",
    "\n",
    "graph_builder = StateGraph(State)\n",
    "\n",
    "graph_builder.add_node(\"kenta\", kenta)\n",
    "graph_builder.add_node(\"mari\", mari)\n",
    "graph_builder.add_node(\"yuta\", yuta)\n",
    "\n",
    "\n",
    "graph_builder.add_edge(START, \"kenta\")\n",
    "graph_builder.add_edge(START, \"mari\")\n",
    "graph_builder.add_edge(START, \"yuta\")\n",
    "graph_builder.add_edge(\"kenta\", END)\n",
    "graph_builder.add_edge(\"mari\", END)\n",
    "graph_builder.add_edge(\"yuta\", END)\n",
    "\n",
    "graph = graph_builder.compile()"
   ]
  },
  {
   "cell_type": "markdown",
   "id": "97255a36-acd7-45a8-84a6-a7a1d732344d",
   "metadata": {},
   "source": [
    "# グラフの構造"
   ]
  },
  {
   "cell_type": "code",
   "execution_count": 55,
   "id": "44aae110-9577-49cc-80c5-d9b9b3e941a9",
   "metadata": {},
   "outputs": [
    {
     "data": {
      "image/png": "[encoded data removed]",
      "text/plain": [
       "<IPython.core.display.Image object>"
      ]
     },
     "metadata": {},
     "output_type": "display_data"
    }
   ],
   "source": [
    "from IPython.display import display, Image\n",
    "\n",
    "display(Image(graph.get_graph().draw_mermaid_png()))"
   ]
  },
  {
   "cell_type": "code",
   "execution_count": 57,
   "id": "104edf78-305d-426c-92ae-6bc7bfee78de",
   "metadata": {},
   "outputs": [
    {
     "name": "stdout",
     "output_type": "stream",
     "text": [
      "================================\u001b[1m Human Message \u001b[0m=================================\n",
      "Name: kenta\n",
      "\n",
      "休日の過ごし方について考えるのは楽しいですね！建設的に議論するために、まずいくつかの選択肢について考えてみましょう。\n",
      "\n",
      "1. **アウトドア活動**  \n",
      "   アクティブで冒険好きな人には、ハイキングやキャンプ、サイクリングなどがぴったり。自然の中でリフレッシュすることは、心と体のリフレッシュにもなります。最近のうちのおすすめは、新しいトレイルに挑戦したり、まだ訪れたことのない自然公園を探して訪れてみることですね。\n",
      "\n",
      "2. **新しいことに挑戦**  \n",
      "   新しいスキルを学ぶことも休日の有意義な過ごし方です。たとえば、料理教室に参加してみたり、新しいスポーツに挑戦するのも面白そうです。経験をSNSでシェアすることで、友達とも新しい話題ができますしね。\n",
      "\n",
      "3. **趣味の時間を増やす**  \n",
      "   写真撮影や楽器演奏、クラフトなど、以前から興味のあった趣味に深く取り組むのも素敵です。アウトドアでの趣味活動やワークショップに参加することで、新たな趣味友達を見つけるのも楽しそう。\n",
      "\n",
      "4. **リラックスとリフレッシュ**  \n",
      "   アクティブな休みもいいですが、たまにはスパに行ったり、のんびりと読書をしたりするのも重要です。緊張を解きほぐしてリフレッシュする時間も大切ですよね。\n",
      "\n",
      "どんな過ごし方があなたにとって理想的ですか？具体的なプランを立てることで、次の休日がさらに楽しみになりますよ！\n",
      "================================\u001b[1m Human Message \u001b[0m=================================\n",
      "Name: yuta\n",
      "\n",
      "休日の過ごし方について議論するのはとても重要です。休日は日常のストレスから解放され、リフレッシュするための貴重な時間ですので、どのように過ごすか計画することは、心身の健康にとって不可欠です。以下に、いくつかの観点から建設的に検討してみましょう。\n",
      "\n",
      "1. **リラクゼーションと休息**  \n",
      "   休日は、心身を休める絶好の機会です。睡眠時間をしっかり確保したり、ゆっくりとした朝食、読書、瞑想を取り入れるなど、自分を労わる時間を意識的に作ることが大切です。\n",
      "\n",
      "2. **自己啓発と学び**  \n",
      "   新しいスキルを学んだり、興味を持っていたことに挑戦するのも有意義な過ごし方です。最近ではオンラインで多くの講座やワークショップが開催されているため、自宅に居ながらにして学習を進めることができます。\n",
      "\n",
      "3. **趣味と創造性の時間**  \n",
      "   絵を描く、料理をする、クラフトを楽しむなど、創造力を刺激する活動を通じてリフレッシュすることも良いでしょう。趣味を通じて自己表現し、心の健康を保つことができます。\n",
      "\n",
      "4. **活動的なリクリエーション**  \n",
      "   ハイキングやサイクリング、スポーツなど身体を動かすことは、フィットネスを保持するだけでなく、ストレスの解消にも役立ちます。自然の中で過ごすことでリラックス効果も期待できます。\n",
      "\n",
      "5. **家族や友人との交流**  \n",
      "   大切な人々と時間を共有することも価値があります。食事やイベントを通じて絆を深め、楽しい思い出を作ることができます。\n",
      "\n",
      "6. **文化的な体験**  \n",
      "   美術館や博物館、劇場など文化的な施設を訪れることで、新たな視点を得たり、インスピレーションを受け取ることができます。伝統と現代の融合した観点を楽しむことも、バランスの良い休日の楽しみ方と言えます。\n",
      "\n",
      "どのような過ごし方を選ぶにせよ、自分にとって何が最もリフレッシュにつながるかを意識することが大切です。バランスを取りながら、多様な活動を取り入れて、充実した休日を過ごすことができると良いですね。\n",
      "================================\u001b[1m Human Message \u001b[0m=================================\n",
      "Name: mari\n",
      "\n",
      "休日の過ごし方についての建設的な議論を進めるために、まずは目的や価値観を明確にすることが大切です。休日はリラックスやリフレッシュのためにあり、自分自身をリセットし、新しい週に向けてのエネルギーを蓄える時間として活用するのが良いと思います。以下の視点から考えてみましょう。\n",
      "\n",
      "1. **リラックスと休息**:\n",
      "   - 家でゆっくりと過ごすことも、心身のリフレッシュにつながります。読書や映画鑑賞、音楽を聴く時間を作るのは、リラクゼーション効果があります。\n",
      "   - 瞑想やヨガなどの静かなアクティビティも心と体のバランスを整えるのに役立ちます。\n",
      "\n",
      "2. **家族との時間**:\n",
      "   - 家族で食事をしたり、近くの公園に散歩に行ったり、ちょっとした旅行を計画するのも良いですね。家族との時間は心の栄養となり、つながりを深めます。\n",
      "\n",
      "3. **趣味の追求**:\n",
      "   - 趣味の時間は、リラックスしながら新しいスキルや知識を得る機会です。ガーデニング、クラフト、料理など、静かに没頭できる趣味を楽しむのも素晴らしいです。\n",
      "\n",
      "4. **身体を動かす**:\n",
      "   - リラックスしながらも運動は重要です。軽めの運動やストレッチをすることで、心地よい疲労感とリフレッシュの感覚を得ることができます。\n",
      "\n",
      "5. **自己反省と計画**:\n",
      "   - 次の週を有意義に過ごすために、休日に少し時間を取って自己反省や計画を立てるのも効果的です。目標を立てることで、生活にメリハリが生まれます。\n",
      "\n",
      "休日は自分自身を労り、心地よい時間を過ごすための貴重な機会です。個々の価値観やライフスタイルに合わせて、最適な過ごし方を見つけることが大切です。このように、多様な選択肢を考慮し、それぞれの活動がもたらす効果を見極めながら休日をデザインするのが建設的ですね。\n"
     ]
    }
   ],
   "source": [
    "# 実行\n",
    "from langchain_core.messages import HumanMessage\n",
    "\n",
    "\n",
    "human_message = HumanMessage(\"休日の過ごし方について、建設的に議論してください。\")\n",
    "\n",
    "for event in graph.stream({\"messages\": [human_message]}):\n",
    "    for value in event.values():\n",
    "        value[\"messages\"][-1].pretty_print()"
   ]
  },
  {
   "cell_type": "markdown",
   "id": "d1be5abb-c2f1-4c93-9752-de1e4f93d6c3",
   "metadata": {},
   "source": [
    "# 3つのエージェントから選択されたエージェントが回答するシステム"
   ]
  },
  {
   "cell_type": "markdown",
   "id": "64d31cd4-189b-4056-bb73-a301c60452df",
   "metadata": {},
   "source": [
    "# 監督者エージェントの作成し、適切なエージェントを選ぶ"
   ]
  },
  {
   "cell_type": "code",
   "execution_count": 66,
   "id": "a1f15326-d8ed-4b2e-ba18-ddfa87fb11b2",
   "metadata": {},
   "outputs": [],
   "source": [
    "from pydantic import BaseModel, Field\n",
    "from langchain.prompts import SystemMessagePromptTemplate\n",
    "from typing import Literal\n",
    "\n",
    "\n",
    "class State(TypedDict):\n",
    "    messages: Annotated[list, add_messages]\n",
    "    next: str\n",
    "\n",
    "member_dict = {\n",
    "    \"kenta\": kenta_traits,\n",
    "    \"mari\": mari_traits,\n",
    "    \"yuta\": yuta_traits,\n",
    "}\n",
    "\n",
    "#1 スキーマの設定\n",
    "class RouteSchema(BaseModel):\n",
    "    next: Literal[\"kenta\", \"mari\", \"yuta\"] = Field(..., description=\"次に発言する人\")\n",
    "\n",
    "#2 監督者の作成\n",
    "def supervisor(state: State):\n",
    "    system_message = SystemMessagePromptTemplate.from_template(\n",
    "        \"あなたは以下の作業者間の会話を管理する監督者です：{members}。\"        \"各メンバーの性格は以下の通りです。\"        \"{traits_description}\"        \"与えられたユーザーリクエストに対して、次に発言する人を選択してください。\"    )\n",
    "\n",
    "    members = \", \".join(list(member_dict.keys()))\n",
    "    traits_description = \"\\n\".join([f\"**{name}**\\n{traits}\" for name, traits in member_dict.items()])\n",
    "\n",
    "    system_message = system_message.format(members=members, traits_description=traits_description)\n",
    "\n",
    "    llm_with_format = llm.with_structured_output(RouteSchema)\n",
    "\n",
    "    next = llm_with_format.invoke([system_message] + state[\"messages\"]).next\n",
    "    return {\"next\": next}\n"
   ]
  },
  {
   "cell_type": "markdown",
   "id": "2673ba33-2de3-4a65-9bec-4b726262d7d0",
   "metadata": {},
   "source": [
    "# グラフの構築"
   ]
  },
  {
   "cell_type": "code",
   "execution_count": 68,
   "id": "cede71fd-f515-4392-8283-26949db7c8ba",
   "metadata": {},
   "outputs": [],
   "source": [
    "graph_builder = StateGraph(State)\n",
    "\n",
    "graph_builder.add_node(\"supervisor\", supervisor)\n",
    "graph_builder.add_node(\"kenta\", kenta)\n",
    "graph_builder.add_node(\"mari\", mari)\n",
    "graph_builder.add_node(\"yuta\", yuta)\n",
    "\n",
    "graph_builder.add_edge(START, \"supervisor\")\n",
    "graph_builder.add_conditional_edges(\n",
    "    \"supervisor\",\n",
    "    lambda state: state[\"next\"],\n",
    "    {\"kenta\": \"kenta\", \"mari\": \"mari\", \"yuta\": \"yuta\"},\n",
    ")\n",
    "\n",
    "for member in [\"kenta\", \"mari\", \"yuta\"]:\n",
    "    graph_builder.add_edge(member, END)\n",
    "\n",
    "graph = graph_builder.compile()"
   ]
  },
  {
   "cell_type": "markdown",
   "id": "88560989-557a-4132-af24-c924330b0310",
   "metadata": {},
   "source": [
    "# グラフの構造"
   ]
  },
  {
   "cell_type": "code",
   "execution_count": 70,
   "id": "767d0bfe-f850-4016-8e31-fd9cb84f6da3",
   "metadata": {},
   "outputs": [
    {
     "data": {
      "image/png": "[encoded data removed]",
      "text/plain": [
       "<IPython.core.display.Image object>"
      ]
     },
     "metadata": {},
     "output_type": "display_data"
    }
   ],
   "source": [
    "from IPython.display import display, Image\n",
    "\n",
    "display(Image(graph.get_graph().draw_mermaid_png()))"
   ]
  },
  {
   "cell_type": "code",
   "execution_count": 72,
   "id": "7ee1da2c-d512-4440-b872-43a1c1563bb6",
   "metadata": {},
   "outputs": [
    {
     "name": "stdout",
     "output_type": "stream",
     "text": [
      "次に発言する人: mari\n",
      "================================\u001b[1m Human Message \u001b[0m=================================\n",
      "Name: mari\n",
      "\n",
      "休日をまったり過ごす方法にはいろいろありますね。私のお薦めは次のような感じです。\n",
      "\n",
      "1. **朝のゆったりスタート**: いつもより少し遅起きして、ベッドで少しの間ストレッチしたり、本を読んだり。朝の光を感じながら、ゆっくりと朝食を楽しむのも良いですね。\n",
      "\n",
      "2. **お茶の時間**: お気に入りのティーやコーヒーを入れて、静かな場所でのんびりする。少しだけ手間をかけて、焼き菓子を用意するのもいいですね。\n",
      "\n",
      "3. **散歩**: 天気が良ければ近所をお散歩してみましょう。歩きながら自然を感じたり、静かな公園で一息つくのも心地よいです。\n",
      "\n",
      "4. **読書や映画鑑賞**: 穏やかな音楽を流しながら、長らく読みたかった本を開く。あるいは、気になっていた映画を観るのもリフレッシュになります。\n",
      "\n",
      "5. **ゆったりとした入浴**: お風呂にお湯をたっぷり張って、アロマオイルや入浴剤を入れてリラックス。キャンドルなどを灯しても、さらに癒し効果が高まります。\n",
      "\n",
      "6. **家庭料理**: 少し時間をかけて、普段は作らないような料理やデザートを試してみる。料理そのものを楽しむ時間にしてみてください。\n",
      "\n",
      "7. **趣味の時間**: 編み物やガーデニング、日記を書くなど、自分の心を落ち着かせる趣味に没頭する時間を持つ。\n",
      "\n",
      "こうした時間を持つことで、心身ともにリフレッシュできると思いますよ。素敵な休日を過ごしてくださいね。\n"
     ]
    }
   ],
   "source": [
    "#実行\n",
    "from langchain_core.messages import HumanMessage\n",
    "\n",
    "human_message = HumanMessage(\"休日のまったりした過ごし方を教えて\")\n",
    "for event in graph.stream({\"messages\": [human_message]}):\n",
    "    for value in event.values():\n",
    "        if \"next\" in value:\n",
    "            print(f\"次に発言する人: {value['next']}\")\n",
    "        elif \"messages\" in value:\n",
    "            value[\"messages\"][-1].pretty_print()"
   ]
  },
  {
   "cell_type": "markdown",
   "id": "2c483383-3e64-468b-b736-8682cfd40fca",
   "metadata": {},
   "source": [
    "# ツールの使用"
   ]
  },
  {
   "cell_type": "code",
   "execution_count": 80,
   "id": "a9527945-f12f-44ea-83db-84c2080ce985",
   "metadata": {},
   "outputs": [
    {
     "name": "stdin",
     "output_type": "stream",
     "text": [
      "TAVILY API キーを入力してください:  ········\n"
     ]
    }
   ],
   "source": [
    "import getpass\n",
    "import os\n",
    "api_key3 = getpass.getpass(\"TAVILY API キーを入力してください: \")\n",
    "os.environ[\"TAVILY_API_KEY\"] = api_key3"
   ]
  },
  {
   "cell_type": "markdown",
   "id": "8c61d377-07bc-454a-af1e-054e35ccf99d",
   "metadata": {},
   "source": [
    "# Tavilyを使う"
   ]
  },
  {
   "cell_type": "code",
   "execution_count": 83,
   "id": "d0cc219f-63d8-43b1-aecd-6cb988a1a067",
   "metadata": {},
   "outputs": [],
   "source": [
    "from langchain_community.tools.tavily_search import TavilySearchResults\n",
    "from langchain_openai import ChatOpenAI\n",
    "from typing_extensions import TypedDict\n",
    "from typing import Annotated\n",
    "from langgraph.graph.message import add_messages\n",
    "\n",
    "class State(TypedDict):\n",
    "    messages: Annotated[list, add_messages]\n",
    "\n",
    "#1 ツールの作成\n",
    "tavily_tool = TavilySearchResults(max_results=2)\n",
    "\n",
    "#2 ツールの紐づけ\n",
    "llm = ChatOpenAI(model=\"gpt-4o\")\n",
    "llm_with_tool = llm.bind_tools([tavily_tool])\n",
    "\n",
    "#3 ツールを使ったチャットボットの作成\n",
    "def chatbot(state: State):\n",
    "    messages = [llm_with_tool.invoke(state[\"messages\"])]\n",
    "    return {\n",
    "        \"messages\": messages,\n",
    "    }"
   ]
  },
  {
   "cell_type": "markdown",
   "id": "350239c3-87aa-40bd-8558-7f77ad16d2ad",
   "metadata": {},
   "source": [
    "# ノードの作成"
   ]
  },
  {
   "cell_type": "code",
   "execution_count": 86,
   "id": "74ed1c74-9f28-417b-86cc-1935277b273c",
   "metadata": {},
   "outputs": [],
   "source": [
    "import json\n",
    "\n",
    "from langchain_core.messages import ToolMessage\n",
    "\n",
    "\n",
    "class ToolNode:\n",
    "    def __init__(self, tools: list) -> None:\n",
    "        self.tools_by_name = {tool.name: tool for tool in tools}\n",
    "\n",
    "    def __call__(self, state: State):\n",
    "        #1 最後のメッセージを取得\n",
    "        if messages := state.get(\"messages\", []):\n",
    "            message = messages[-1]\n",
    "        else:\n",
    "            raise ValueError(\"入力にメッセージが見つかりません\")\n",
    "\n",
    "        #2 ツールの実行\n",
    "        tool_messages = []\n",
    "        for tool_call in message.tool_calls:\n",
    "            #2.1 エージェントが指定したnameとargsを元にツールを実1行\n",
    "            tool_result = self.tools_by_name[tool_call[\"name\"]].invoke(\n",
    "                tool_call[\"args\"]\n",
    "            )\n",
    "            #2.2 ツールの実行結果をメッセージとして追加\n",
    "            tool_messages.append(\n",
    "                ToolMessage(\n",
    "                    content=json.dumps(tool_result, ensure_ascii=False),\n",
    "                    name=tool_call[\"name\"],\n",
    "                    tool_call_id=tool_call[\"id\"],\n",
    "                )\n",
    "            )\n",
    "\n",
    "        return {\n",
    "            \"messages\": tool_messages,\n",
    "        }\n",
    "\n",
    "tool_node = ToolNode([tavily_tool])"
   ]
  },
  {
   "cell_type": "markdown",
   "id": "1ab989d5-a4a9-43bb-8770-7b0df073b256",
   "metadata": {},
   "source": [
    "# 実行するノードの選択"
   ]
  },
  {
   "cell_type": "code",
   "execution_count": 89,
   "id": "88782ebe-46a7-4916-81a4-138b83ab0843",
   "metadata": {},
   "outputs": [],
   "source": [
    "from typing import Literal\n",
    "\n",
    "def route_tools(\n",
    "    state: State,\n",
    ") -> Literal[\"tools\", \"__end__\"]:\n",
    "    if messages := state.get(\"messages\", []):\n",
    "        ai_message = messages[-1]\n",
    "    else:\n",
    "        raise ValueError(f\"stateにツールに関するメッセージが見つかりませんでした: {state}\")\n",
    "\n",
    "    if hasattr(ai_message, \"tool_calls\") and len(ai_message.tool_calls) > 0:\n",
    "        return \"tools\"\n",
    "    return \"__end__\""
   ]
  },
  {
   "cell_type": "markdown",
   "id": "99ca130e-5598-464b-8c05-cc2cb594a48a",
   "metadata": {},
   "source": [
    "# グラフの構築"
   ]
  },
  {
   "cell_type": "code",
   "execution_count": 92,
   "id": "1d7305c1-8319-49aa-b3b0-d2e405d71f22",
   "metadata": {},
   "outputs": [],
   "source": [
    "from langgraph.graph import StateGraph, START, END\n",
    "\n",
    "graph_builder = StateGraph(State)\n",
    "\n",
    "graph_builder.add_node(\"chatbot\", chatbot)\n",
    "graph_builder.add_node(\"tools\", tool_node)\n",
    "\n",
    "graph_builder.add_conditional_edges(\n",
    "    \"chatbot\",\n",
    "    route_tools,\n",
    "    [\"tools\", \"__end__\"],\n",
    ")\n",
    "\n",
    "graph_builder.add_edge(\"tools\", \"chatbot\")\n",
    "graph_builder.add_edge(START, \"chatbot\")\n",
    "graph = graph_builder.compile()"
   ]
  },
  {
   "cell_type": "markdown",
   "id": "a2770109-498e-47a2-8a68-c12112e9127f",
   "metadata": {},
   "source": [
    "# グラフの構造"
   ]
  },
  {
   "cell_type": "code",
   "execution_count": 96,
   "id": "73797933-805f-4534-9c9c-3787e95c0f4c",
   "metadata": {},
   "outputs": [
    {
     "data": {
      "image/png": "[encoded data removed]",
      "text/plain": [
       "<IPython.core.display.Image object>"
      ]
     },
     "metadata": {},
     "output_type": "display_data"
    }
   ],
   "source": [
    "from IPython.display import display, Image\n",
    "\n",
    "display(Image(graph.get_graph().draw_mermaid_png()))"
   ]
  },
  {
   "cell_type": "code",
   "execution_count": 100,
   "id": "1d9f91bf-7913-46fd-8a26-733633d763d0",
   "metadata": {},
   "outputs": [
    {
     "name": "stdout",
     "output_type": "stream",
     "text": [
      "==================================\u001b[1m Ai Message \u001b[0m==================================\n",
      "Tool Calls:\n",
      "  tavily_search_results_json (call_yFzCnsdpsyrxGXTJYSs95Gg9)\n",
      " Call ID: call_yFzCnsdpsyrxGXTJYSs95Gg9\n",
      "  Args:\n",
      "    query: 東京天気 2023年10月6日\n",
      "=================================\u001b[1m Tool Message \u001b[0m=================================\n",
      "Name: tavily_search_results_json\n",
      "\n",
      "[{\"title\": \"東京都の過去の天気(実況天気・2023年10月06日) - tenki.jp\", \"url\": \"https://tenki.jp/past/2023/10/06/weather/3/16/\", \"content\": \"東京都各地の実況天気2023年10月06日 2023年10月06日 ; 東京都心(大手町) · 天気：晴, 晴, 25.8℃, 15.9℃ ; 大島 · 天気：曇のち晴, 曇のち晴, 24.8℃, 17.0℃\", \"score\": 0.95250803}, {\"title\": \"東京の過去の天気予報一覧 予報発表日順 2023年10月\", \"url\": \"https://pe-sawaki.com/WeatherForecast/2023/202310.htm\", \"content\": \"6（金）, 7（土） ; 天気, 晴れ, 晴れ のち くもり ; 最高気温, -, 25℃ ; 最低気温, -, 16℃ ; 降水確率, -, -\", \"score\": 0.8588255}]\n",
      "==================================\u001b[1m Ai Message \u001b[0m==================================\n",
      "\n",
      "今日の東京都の天気は晴れです。最高気温は25℃で、最低気温は16℃です。詳細情報をご希望の場合は、[tenki.jp](https://tenki.jp/past/2023/10/06/weather/3/16/)をご覧ください。\n"
     ]
    }
   ],
   "source": [
    "#実行\n",
    "from langchain_core.messages import HumanMessage\n",
    "\n",
    "human_message = {\n",
    "    \"messages\": [HumanMessage(\"今日の東京の天気を教えて\")],\n",
    "    \"count\": 0,\n",
    "}\n",
    "\n",
    "for event in graph.stream(human_message):\n",
    "    for value in event.values():\n",
    "        value[\"messages\"][-1].pretty_print()"
   ]
  },
  {
   "cell_type": "code",
   "execution_count": null,
   "id": "2b39979f-3823-4dfa-9ddb-7e0bddd39e1f",
   "metadata": {},
   "outputs": [],
   "source": []
  }
 ],
 "metadata": {
  "kernelspec": {
   "display_name": "Python 3 (ipykernel)",
   "language": "python",
   "name": "python3"
  },
  "language_info": {
   "codemirror_mode": {
    "name": "ipython",
    "version": 3
   },
   "file_extension": ".py",
   "mimetype": "text/x-python",
   "name": "python",
   "nbconvert_exporter": "python",
   "pygments_lexer": "ipython3",
   "version": "3.11.7"
  }
 },
 "nbformat": 4,
 "nbformat_minor": 5
}
