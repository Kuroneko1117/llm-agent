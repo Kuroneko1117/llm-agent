{
 "cells": [
  {
   "cell_type": "markdown",
   "id": "aa80d976-ef3c-42b9-9b16-7ea1b8ae4812",
   "metadata": {},
   "source": [
    "# LLM にツールを与える"
   ]
  },
  {
   "cell_type": "code",
   "execution_count": 12,
   "id": "06ec9714-8622-4c1e-8072-61d6117abf53",
   "metadata": {},
   "outputs": [
    {
     "name": "stdin",
     "output_type": "stream",
     "text": [
      "OpenAI API キーを入力してください:  ········\n"
     ]
    }
   ],
   "source": [
    "import getpass\n",
    "import os\n",
    "\n",
    "api_key = getpass.getpass(\"OpenAI API キーを入力してください: \")\n",
    "os.environ[\"OPENAI_API_KEY\"] = api_key"
   ]
  },
  {
   "cell_type": "code",
   "execution_count": 31,
   "id": "f47c1197-fd17-43bf-bc14-834169aeb2b8",
   "metadata": {},
   "outputs": [
    {
     "name": "stdin",
     "output_type": "stream",
     "text": [
      "OpenAI API キーを入力してください:  ········\n"
     ]
    }
   ],
   "source": [
    "import getpass\n",
    "import os\n",
    "\n",
    "api_key1 = getpass.getpass(\"OpenAI API キーを入力してください: \")\n",
    "os.environ[\"SERPAPI_API_KEY\"] = api_key1"
   ]
  },
  {
   "cell_type": "markdown",
   "id": "a5b7c25b-1c1d-4559-b8db-38c3b24f3596",
   "metadata": {},
   "source": [
    "# 検索ツール"
   ]
  },
  {
   "cell_type": "code",
   "execution_count": 14,
   "id": "1b02e1e2-e5c8-456c-acee-6b1617b70f9f",
   "metadata": {},
   "outputs": [
    {
     "name": "stdout",
     "output_type": "stream",
     "text": [
      "申し訳ありませんが、具体的な企業の住所などの最新情報を提供することはできません。株式会社Elithの公式ウェブサイトや公的なビジネスディレクトリを参照することで、正確な情報を得ることができます。公式情報を確認することをお勧めします。\n"
     ]
    }
   ],
   "source": [
    "from langchain_openai import ChatOpenAI\n",
    "from langchain.schema import HumanMessage\n",
    "\n",
    "question = \"株式会社Elithの住所を教えてください。最新の公式情報として\\\n",
    "公開されているものを教えてください。\"\n",
    "\n",
    "model = ChatOpenAI(model=\"gpt-4o-mini\")\n",
    "result = model.invoke([HumanMessage(content=question)])\n",
    "\n",
    "print(result.content)"
   ]
  },
  {
   "cell_type": "code",
   "execution_count": 16,
   "id": "c153f673-9f8c-411f-b8c1-6ef53fceb8f2",
   "metadata": {},
   "outputs": [
    {
     "name": "stdout",
     "output_type": "stream",
     "text": [
      "Collecting serpapi\n",
      "  Downloading serpapi-0.1.5-py2.py3-none-any.whl.metadata (10 kB)\n",
      "Requirement already satisfied: requests in c:\\anaconda\\lib\\site-packages (from serpapi) (2.31.0)\n",
      "Requirement already satisfied: charset-normalizer<4,>=2 in c:\\anaconda\\lib\\site-packages (from requests->serpapi) (2.0.4)\n",
      "Requirement already satisfied: idna<4,>=2.5 in c:\\anaconda\\lib\\site-packages (from requests->serpapi) (2.10)\n",
      "Requirement already satisfied: urllib3<3,>=1.21.1 in c:\\anaconda\\lib\\site-packages (from requests->serpapi) (2.0.7)\n",
      "Requirement already satisfied: certifi>=2017.4.17 in c:\\anaconda\\lib\\site-packages (from requests->serpapi) (2024.2.2)\n",
      "Downloading serpapi-0.1.5-py2.py3-none-any.whl (10 kB)\n",
      "Installing collected packages: serpapi\n",
      "Successfully installed serpapi-0.1.5\n",
      "Note: you may need to restart the kernel to use updated packages.\n"
     ]
    }
   ],
   "source": [
    "pip install serpapi"
   ]
  },
  {
   "cell_type": "code",
   "execution_count": 18,
   "id": "c4adbd7e-1430-4405-bbe8-09a732dac87b",
   "metadata": {},
   "outputs": [
    {
     "name": "stdout",
     "output_type": "stream",
     "text": [
      "Collecting google-search-results\n",
      "  Downloading google_search_results-2.4.2.tar.gz (18 kB)\n",
      "  Preparing metadata (setup.py): started\n",
      "  Preparing metadata (setup.py): finished with status 'done'\n",
      "Requirement already satisfied: requests in c:\\anaconda\\lib\\site-packages (from google-search-results) (2.31.0)\n",
      "Requirement already satisfied: charset-normalizer<4,>=2 in c:\\anaconda\\lib\\site-packages (from requests->google-search-results) (2.0.4)\n",
      "Requirement already satisfied: idna<4,>=2.5 in c:\\anaconda\\lib\\site-packages (from requests->google-search-results) (2.10)\n",
      "Requirement already satisfied: urllib3<3,>=1.21.1 in c:\\anaconda\\lib\\site-packages (from requests->google-search-results) (2.0.7)\n",
      "Requirement already satisfied: certifi>=2017.4.17 in c:\\anaconda\\lib\\site-packages (from requests->google-search-results) (2024.2.2)\n",
      "Building wheels for collected packages: google-search-results\n",
      "  Building wheel for google-search-results (setup.py): started\n",
      "  Building wheel for google-search-results (setup.py): finished with status 'done'\n",
      "  Created wheel for google-search-results: filename=google_search_results-2.4.2-py3-none-any.whl size=32077 sha256=247eb4840d86f4e4fe7d4e2404408e3faa3a84fc9a0a723a996a8624e23298be\n",
      "  Stored in directory: c:\\users\\ds221k10136\\appdata\\local\\pip\\cache\\wheels\\6e\\42\\3e\\aeb691b02cb7175ec70e2da04b5658d4739d2b41e5f73cd06f\n",
      "Successfully built google-search-results\n",
      "Installing collected packages: google-search-results\n",
      "Successfully installed google-search-results-2.4.2\n",
      "Note: you may need to restart the kernel to use updated packages.\n"
     ]
    }
   ],
   "source": [
    "pip install google-search-results"
   ]
  },
  {
   "cell_type": "code",
   "execution_count": 22,
   "id": "0a0e99c7-d3f6-45fd-877b-d2ade2c71ec8",
   "metadata": {},
   "outputs": [
    {
     "name": "stdout",
     "output_type": "stream",
     "text": [
      "Collecting langchain_communityNote: you may need to restart the kernel to use updated packages.\n",
      "\n",
      "  Downloading langchain_community-0.3.23-py3-none-any.whl.metadata (2.5 kB)\n",
      "Requirement already satisfied: langchain-core<1.0.0,>=0.3.56 in c:\\anaconda\\lib\\site-packages (from langchain_community) (0.3.58)\n",
      "Requirement already satisfied: langchain<1.0.0,>=0.3.24 in c:\\anaconda\\lib\\site-packages (from langchain_community) (0.3.25)\n",
      "Requirement already satisfied: SQLAlchemy<3,>=1.4 in c:\\anaconda\\lib\\site-packages (from langchain_community) (2.0.25)\n",
      "Requirement already satisfied: requests<3,>=2 in c:\\anaconda\\lib\\site-packages (from langchain_community) (2.31.0)\n",
      "Requirement already satisfied: PyYAML>=5.3 in c:\\anaconda\\lib\\site-packages (from langchain_community) (6.0.1)\n",
      "Requirement already satisfied: aiohttp<4.0.0,>=3.8.3 in c:\\anaconda\\lib\\site-packages (from langchain_community) (3.9.3)\n",
      "Requirement already satisfied: tenacity!=8.4.0,<10,>=8.1.0 in c:\\anaconda\\lib\\site-packages (from langchain_community) (9.1.2)\n",
      "Collecting dataclasses-json<0.7,>=0.5.7 (from langchain_community)\n",
      "  Downloading dataclasses_json-0.6.7-py3-none-any.whl.metadata (25 kB)\n",
      "Collecting pydantic-settings<3.0.0,>=2.4.0 (from langchain_community)\n",
      "  Downloading pydantic_settings-2.9.1-py3-none-any.whl.metadata (3.8 kB)\n",
      "Requirement already satisfied: langsmith<0.4,>=0.1.125 in c:\\anaconda\\lib\\site-packages (from langchain_community) (0.3.42)\n",
      "Collecting httpx-sse<1.0.0,>=0.4.0 (from langchain_community)\n",
      "  Downloading httpx_sse-0.4.0-py3-none-any.whl.metadata (9.0 kB)\n",
      "Requirement already satisfied: numpy>=1.26.2 in c:\\anaconda\\lib\\site-packages (from langchain_community) (1.26.4)\n",
      "Requirement already satisfied: aiosignal>=1.1.2 in c:\\anaconda\\lib\\site-packages (from aiohttp<4.0.0,>=3.8.3->langchain_community) (1.2.0)\n",
      "Requirement already satisfied: attrs>=17.3.0 in c:\\anaconda\\lib\\site-packages (from aiohttp<4.0.0,>=3.8.3->langchain_community) (23.1.0)\n",
      "Requirement already satisfied: frozenlist>=1.1.1 in c:\\anaconda\\lib\\site-packages (from aiohttp<4.0.0,>=3.8.3->langchain_community) (1.4.0)\n",
      "Requirement already satisfied: multidict<7.0,>=4.5 in c:\\anaconda\\lib\\site-packages (from aiohttp<4.0.0,>=3.8.3->langchain_community) (6.0.4)\n",
      "Requirement already satisfied: yarl<2.0,>=1.0 in c:\\anaconda\\lib\\site-packages (from aiohttp<4.0.0,>=3.8.3->langchain_community) (1.9.3)\n",
      "Collecting marshmallow<4.0.0,>=3.18.0 (from dataclasses-json<0.7,>=0.5.7->langchain_community)\n",
      "  Downloading marshmallow-3.26.1-py3-none-any.whl.metadata (7.3 kB)\n",
      "Collecting typing-inspect<1,>=0.4.0 (from dataclasses-json<0.7,>=0.5.7->langchain_community)\n",
      "  Downloading typing_inspect-0.9.0-py3-none-any.whl.metadata (1.5 kB)\n",
      "Requirement already satisfied: langchain-text-splitters<1.0.0,>=0.3.8 in c:\\anaconda\\lib\\site-packages (from langchain<1.0.0,>=0.3.24->langchain_community) (0.3.8)\n",
      "Requirement already satisfied: pydantic<3.0.0,>=2.7.4 in c:\\anaconda\\lib\\site-packages (from langchain<1.0.0,>=0.3.24->langchain_community) (2.10.3)\n",
      "Requirement already satisfied: jsonpatch<2.0,>=1.33 in c:\\anaconda\\lib\\site-packages (from langchain-core<1.0.0,>=0.3.56->langchain_community) (1.33)\n",
      "Requirement already satisfied: packaging<25,>=23.2 in c:\\anaconda\\lib\\site-packages (from langchain-core<1.0.0,>=0.3.56->langchain_community) (23.2)\n",
      "Requirement already satisfied: typing-extensions>=4.7 in c:\\anaconda\\lib\\site-packages (from langchain-core<1.0.0,>=0.3.56->langchain_community) (4.12.2)\n",
      "Requirement already satisfied: httpx<1,>=0.23.0 in c:\\anaconda\\lib\\site-packages (from langsmith<0.4,>=0.1.125->langchain_community) (0.28.1)\n",
      "Requirement already satisfied: orjson<4.0.0,>=3.9.14 in c:\\anaconda\\lib\\site-packages (from langsmith<0.4,>=0.1.125->langchain_community) (3.10.18)\n",
      "Requirement already satisfied: requests-toolbelt<2.0.0,>=1.0.0 in c:\\anaconda\\lib\\site-packages (from langsmith<0.4,>=0.1.125->langchain_community) (1.0.0)\n",
      "Requirement already satisfied: zstandard<0.24.0,>=0.23.0 in c:\\anaconda\\lib\\site-packages (from langsmith<0.4,>=0.1.125->langchain_community) (0.23.0)\n",
      "Requirement already satisfied: python-dotenv>=0.21.0 in c:\\anaconda\\lib\\site-packages (from pydantic-settings<3.0.0,>=2.4.0->langchain_community) (0.21.0)\n",
      "Collecting typing-inspection>=0.4.0 (from pydantic-settings<3.0.0,>=2.4.0->langchain_community)\n",
      "  Downloading typing_inspection-0.4.0-py3-none-any.whl.metadata (2.6 kB)\n",
      "Requirement already satisfied: charset-normalizer<4,>=2 in c:\\anaconda\\lib\\site-packages (from requests<3,>=2->langchain_community) (2.0.4)\n",
      "Requirement already satisfied: idna<4,>=2.5 in c:\\anaconda\\lib\\site-packages (from requests<3,>=2->langchain_community) (2.10)\n",
      "Requirement already satisfied: urllib3<3,>=1.21.1 in c:\\anaconda\\lib\\site-packages (from requests<3,>=2->langchain_community) (2.0.7)\n",
      "Requirement already satisfied: certifi>=2017.4.17 in c:\\anaconda\\lib\\site-packages (from requests<3,>=2->langchain_community) (2024.2.2)\n",
      "Requirement already satisfied: greenlet!=0.4.17 in c:\\anaconda\\lib\\site-packages (from SQLAlchemy<3,>=1.4->langchain_community) (3.0.1)\n",
      "Requirement already satisfied: anyio in c:\\anaconda\\lib\\site-packages (from httpx<1,>=0.23.0->langsmith<0.4,>=0.1.125->langchain_community) (4.2.0)\n",
      "Requirement already satisfied: httpcore==1.* in c:\\anaconda\\lib\\site-packages (from httpx<1,>=0.23.0->langsmith<0.4,>=0.1.125->langchain_community) (1.0.9)\n",
      "Requirement already satisfied: h11>=0.16 in c:\\anaconda\\lib\\site-packages (from httpcore==1.*->httpx<1,>=0.23.0->langsmith<0.4,>=0.1.125->langchain_community) (0.16.0)\n",
      "Requirement already satisfied: jsonpointer>=1.9 in c:\\anaconda\\lib\\site-packages (from jsonpatch<2.0,>=1.33->langchain-core<1.0.0,>=0.3.56->langchain_community) (2.1)\n",
      "Requirement already satisfied: annotated-types>=0.6.0 in c:\\anaconda\\lib\\site-packages (from pydantic<3.0.0,>=2.7.4->langchain<1.0.0,>=0.3.24->langchain_community) (0.7.0)\n",
      "Requirement already satisfied: pydantic-core==2.27.1 in c:\\anaconda\\lib\\site-packages (from pydantic<3.0.0,>=2.7.4->langchain<1.0.0,>=0.3.24->langchain_community) (2.27.1)\n",
      "Requirement already satisfied: mypy-extensions>=0.3.0 in c:\\anaconda\\lib\\site-packages (from typing-inspect<1,>=0.4.0->dataclasses-json<0.7,>=0.5.7->langchain_community) (1.0.0)\n",
      "Requirement already satisfied: sniffio>=1.1 in c:\\anaconda\\lib\\site-packages (from anyio->httpx<1,>=0.23.0->langsmith<0.4,>=0.1.125->langchain_community) (1.3.0)\n",
      "Downloading langchain_community-0.3.23-py3-none-any.whl (2.5 MB)\n",
      "   ---------------------------------------- 0.0/2.5 MB ? eta -:--:--\n",
      "   ------ --------------------------------- 0.4/2.5 MB 9.2 MB/s eta 0:00:01\n",
      "   ---------------- ----------------------- 1.0/2.5 MB 10.8 MB/s eta 0:00:01\n",
      "   -------------------------- ------------- 1.7/2.5 MB 11.8 MB/s eta 0:00:01\n",
      "   ----------------------------------- ---- 2.2/2.5 MB 12.9 MB/s eta 0:00:01\n",
      "   ---------------------------------------- 2.5/2.5 MB 10.7 MB/s eta 0:00:00\n",
      "Downloading dataclasses_json-0.6.7-py3-none-any.whl (28 kB)\n",
      "Downloading httpx_sse-0.4.0-py3-none-any.whl (7.8 kB)\n",
      "Downloading pydantic_settings-2.9.1-py3-none-any.whl (44 kB)\n",
      "   ---------------------------------------- 0.0/44.4 kB ? eta -:--:--\n",
      "   ---------------------------------------- 44.4/44.4 kB 2.1 MB/s eta 0:00:00\n",
      "Downloading marshmallow-3.26.1-py3-none-any.whl (50 kB)\n",
      "   ---------------------------------------- 0.0/50.9 kB ? eta -:--:--\n",
      "   ---------------------------------------- 50.9/50.9 kB ? eta 0:00:00\n",
      "Downloading typing_inspect-0.9.0-py3-none-any.whl (8.8 kB)\n",
      "Downloading typing_inspection-0.4.0-py3-none-any.whl (14 kB)\n",
      "Installing collected packages: typing-inspection, typing-inspect, marshmallow, httpx-sse, dataclasses-json, pydantic-settings, langchain_community\n",
      "Successfully installed dataclasses-json-0.6.7 httpx-sse-0.4.0 langchain_community-0.3.23 marshmallow-3.26.1 pydantic-settings-2.9.1 typing-inspect-0.9.0 typing-inspection-0.4.0\n"
     ]
    }
   ],
   "source": [
    "pip install langchain_community"
   ]
  },
  {
   "cell_type": "markdown",
   "id": "745c5157-294a-4df2-b86d-c8361036f310",
   "metadata": {},
   "source": [
    "# 検索ツールserpapiの利用"
   ]
  },
  {
   "cell_type": "code",
   "execution_count": 33,
   "id": "82f88372-cb6a-498e-ad61-ae03efe4da6c",
   "metadata": {},
   "outputs": [
    {
     "name": "stdout",
     "output_type": "stream",
     "text": [
      "ContentString: \n",
      "ToolCalls: [{'name': 'Search', 'args': {'__arg1': '株式会社Elith 住所'}, 'id': 'call_Wf0f08ffykgZzkIvDkH3pPZt', 'type': 'tool_call'}]\n"
     ]
    }
   ],
   "source": [
    "from langchain.agents import load_tools\n",
    "\n",
    "model = ChatOpenAI(model=\"gpt-4o-mini\")\n",
    "\n",
    "#1 ツールをロード\n",
    "tools = load_tools([\"serpapi\"], llm=model)\n",
    "\n",
    "#2 LLMにツールを紐付け\n",
    "model_with_tools = model.bind_tools(tools)\n",
    "\n",
    "question = \"株式会社Elithの住所を教えてください。最新の公式情報として\\\n",
    "公開されているものを教えてください。\"\n",
    "\n",
    "response = model_with_tools.invoke([HumanMessage(content=\\\n",
    "question)])\n",
    "\n",
    "print(f\"ContentString: {response.content}\")\n",
    "print(f\"ToolCalls: {response.tool_calls}\")"
   ]
  },
  {
   "cell_type": "code",
   "execution_count": 36,
   "id": "35e33b73-20f8-412e-8b34-2ae8318d122b",
   "metadata": {},
   "outputs": [
    {
     "data": {
      "text/plain": [
       "\"['株式会社 Elith type: Computer consultant in Bunkyō, Japan.', '株式会社 Elith entity_type: local_nav.', '株式会社 Elith kgmid: /g/11x7yhkxfd.', '株式会社 Elith place_id: ChIJlSbgVo73Fg0RhBVMyBn_maA.', '株式会社 Elith address: Japan, 〒113-0033 Tokyo, Bunkyo City, Hongō, 3-chōme−30−10 K&Kビル 1F.', '株式会社 Elith phone: +81 80-9759-8070.', '株式会社 Elith raw_hours: Closed ⋅ Opens 9 AM WedGolden Week (Observed)/Greenery Day (Observed) might affect these hours.', '事業内容：AI（人工知能）に関する研究、開発、設計、企画、教育、販売、保守、コンサルティング業務所在地：東京都渋谷区恵比寿西2-3-13-601\\\\u200b', '会社概要株式会社Elithは、東大松尾研発スタートアップ(R)として、最先端のAI ... 住所. 日本113-0033東京都文京区本郷3-30-10本郷 K&Kビル1F. この出展社を見ている ...', '企業概要 ; 企業名: 株式会社Elith ; 英語名: Elith Inc. ; 代表者名: 若林 怜帆人 ; 住所: 東京都文京区本郷3-30-10 本郷K&Kビル 1F ; URL: https://elith.co.jp/.', '住所, 東京都文京区本郷3丁目30番10号本郷K&Kビル1F. 会社HP, https://elith.co.jp ... 東大 松尾研発スタートアップ(R)の株式会社Elithとai6株式会社が業務提携を締結.', '株式会社エリスの公式HPです。 Elithは、最先端のAI技術をビジネス実装し価値を生み出す松尾研発スタートアップです.', '株式会社ElithはオートクチュールなAI開発を通じてAI ... 住所. 日本113-0033東京都文京区本郷3-30-10本郷 K&Kビル1F. この出展社を見ている ...', '株式会社Elith ; エリス · 株式会社 · 6011001151296 · 011001151296 · 〒1130033 東京都文京区本郷3丁目30番10号本郷K＆Kビル1F. Googleマップで見る ...', 'elith.co.jp/ contact@elith.co.jp. COMPANY ADDRESS. 日本113-0033東京都文京区本郷3-30-10本郷 K&Kビル1F. STAND(S) SHARED WITH. Main standholder. 株式会社アウト ...', '株式会社Elithの概要. 住所, 〒 〒113-0033 東京都文京区本郷3-30-10本郷 K&Kビル1F. 分野, 映像認識・画像解析（視覚的）, 音声・音による入力（聴覚的）. 業界, 医療 ...', '株式会社Elith 法人 ... 本店所在地: 東京都文京区本郷3丁目30番10号本郷K＆Kビル1F. 法人基本情報 ...']\""
      ]
     },
     "execution_count": 36,
     "metadata": {},
     "output_type": "execute_result"
    }
   ],
   "source": [
    "tools = load_tools([\"serpapi\"], llm=model)\n",
    "search_tool = tools[0]\n",
    "search_tool.invoke(response.tool_calls[0][\"args\"])"
   ]
  },
  {
   "cell_type": "markdown",
   "id": "6bf01223-82bb-4d9c-a6f5-252e22fab869",
   "metadata": {},
   "source": [
    "# プログラム実行ツール"
   ]
  },
  {
   "cell_type": "code",
   "execution_count": 39,
   "id": "a6571f3a-4d9e-4f28-893c-ff5949ef1098",
   "metadata": {},
   "outputs": [
    {
     "name": "stdout",
     "output_type": "stream",
     "text": [
      "Pythonで `print(1873648 + 9285928 + 3759182 + 2398597)` を実行した場合、合計を計算して出力します。\n",
      "\n",
      "計算を行うと、\n",
      "\n",
      "```\n",
      "1873648 + 9285928 + 3759182 + 2398597 = 17313355\n",
      "```\n",
      "\n",
      "したがって、出力結果は `17313355` です。\n"
     ]
    }
   ],
   "source": [
    "question = \"以下をPythonで実行した場合の結果を教えてください。print\\\n",
    "(1873648+9285928+3759182+2398597)\"\n",
    "\n",
    "model = ChatOpenAI(model=\"gpt-4o-mini\")\n",
    "result = model.invoke([HumanMessage(content=question)])\n",
    "\n",
    "print(result.content)"
   ]
  },
  {
   "cell_type": "markdown",
   "id": "a4814603-891b-4794-b135-b6cb82069067",
   "metadata": {},
   "source": [
    "#　Pythonで同じ計算"
   ]
  },
  {
   "cell_type": "code",
   "execution_count": 45,
   "id": "494659bb-e753-4873-8324-65f7663825ff",
   "metadata": {},
   "outputs": [
    {
     "name": "stdout",
     "output_type": "stream",
     "text": [
      "17317355\n"
     ]
    }
   ],
   "source": [
    "print(1873648+9285928+3759182+2398597)"
   ]
  },
  {
   "cell_type": "code",
   "execution_count": 47,
   "id": "01ada23a-a13a-4177-92e8-828fc716ab7d",
   "metadata": {},
   "outputs": [
    {
     "name": "stdout",
     "output_type": "stream",
     "text": [
      "Collecting langchain_experimentalNote: you may need to restart the kernel to use updated packages.\n",
      "\n",
      "  Downloading langchain_experimental-0.3.4-py3-none-any.whl.metadata (1.7 kB)\n",
      "Requirement already satisfied: langchain-community<0.4.0,>=0.3.0 in c:\\anaconda\\lib\\site-packages (from langchain_experimental) (0.3.23)\n",
      "Requirement already satisfied: langchain-core<0.4.0,>=0.3.28 in c:\\anaconda\\lib\\site-packages (from langchain_experimental) (0.3.58)\n",
      "Requirement already satisfied: langchain<1.0.0,>=0.3.24 in c:\\anaconda\\lib\\site-packages (from langchain-community<0.4.0,>=0.3.0->langchain_experimental) (0.3.25)\n",
      "Requirement already satisfied: SQLAlchemy<3,>=1.4 in c:\\anaconda\\lib\\site-packages (from langchain-community<0.4.0,>=0.3.0->langchain_experimental) (2.0.25)\n",
      "Requirement already satisfied: requests<3,>=2 in c:\\anaconda\\lib\\site-packages (from langchain-community<0.4.0,>=0.3.0->langchain_experimental) (2.31.0)\n",
      "Requirement already satisfied: PyYAML>=5.3 in c:\\anaconda\\lib\\site-packages (from langchain-community<0.4.0,>=0.3.0->langchain_experimental) (6.0.1)\n",
      "Requirement already satisfied: aiohttp<4.0.0,>=3.8.3 in c:\\anaconda\\lib\\site-packages (from langchain-community<0.4.0,>=0.3.0->langchain_experimental) (3.9.3)\n",
      "Requirement already satisfied: tenacity!=8.4.0,<10,>=8.1.0 in c:\\anaconda\\lib\\site-packages (from langchain-community<0.4.0,>=0.3.0->langchain_experimental) (9.1.2)\n",
      "Requirement already satisfied: dataclasses-json<0.7,>=0.5.7 in c:\\anaconda\\lib\\site-packages (from langchain-community<0.4.0,>=0.3.0->langchain_experimental) (0.6.7)\n",
      "Requirement already satisfied: pydantic-settings<3.0.0,>=2.4.0 in c:\\anaconda\\lib\\site-packages (from langchain-community<0.4.0,>=0.3.0->langchain_experimental) (2.9.1)\n",
      "Requirement already satisfied: langsmith<0.4,>=0.1.125 in c:\\anaconda\\lib\\site-packages (from langchain-community<0.4.0,>=0.3.0->langchain_experimental) (0.3.42)\n",
      "Requirement already satisfied: httpx-sse<1.0.0,>=0.4.0 in c:\\anaconda\\lib\\site-packages (from langchain-community<0.4.0,>=0.3.0->langchain_experimental) (0.4.0)\n",
      "Requirement already satisfied: numpy>=1.26.2 in c:\\anaconda\\lib\\site-packages (from langchain-community<0.4.0,>=0.3.0->langchain_experimental) (1.26.4)\n",
      "Requirement already satisfied: jsonpatch<2.0,>=1.33 in c:\\anaconda\\lib\\site-packages (from langchain-core<0.4.0,>=0.3.28->langchain_experimental) (1.33)\n",
      "Requirement already satisfied: packaging<25,>=23.2 in c:\\anaconda\\lib\\site-packages (from langchain-core<0.4.0,>=0.3.28->langchain_experimental) (23.2)\n",
      "Requirement already satisfied: typing-extensions>=4.7 in c:\\anaconda\\lib\\site-packages (from langchain-core<0.4.0,>=0.3.28->langchain_experimental) (4.12.2)\n",
      "Requirement already satisfied: pydantic<3.0.0,>=2.5.2 in c:\\anaconda\\lib\\site-packages (from langchain-core<0.4.0,>=0.3.28->langchain_experimental) (2.10.3)\n",
      "Requirement already satisfied: aiosignal>=1.1.2 in c:\\anaconda\\lib\\site-packages (from aiohttp<4.0.0,>=3.8.3->langchain-community<0.4.0,>=0.3.0->langchain_experimental) (1.2.0)\n",
      "Requirement already satisfied: attrs>=17.3.0 in c:\\anaconda\\lib\\site-packages (from aiohttp<4.0.0,>=3.8.3->langchain-community<0.4.0,>=0.3.0->langchain_experimental) (23.1.0)\n",
      "Requirement already satisfied: frozenlist>=1.1.1 in c:\\anaconda\\lib\\site-packages (from aiohttp<4.0.0,>=3.8.3->langchain-community<0.4.0,>=0.3.0->langchain_experimental) (1.4.0)\n",
      "Requirement already satisfied: multidict<7.0,>=4.5 in c:\\anaconda\\lib\\site-packages (from aiohttp<4.0.0,>=3.8.3->langchain-community<0.4.0,>=0.3.0->langchain_experimental) (6.0.4)\n",
      "Requirement already satisfied: yarl<2.0,>=1.0 in c:\\anaconda\\lib\\site-packages (from aiohttp<4.0.0,>=3.8.3->langchain-community<0.4.0,>=0.3.0->langchain_experimental) (1.9.3)\n",
      "Requirement already satisfied: marshmallow<4.0.0,>=3.18.0 in c:\\anaconda\\lib\\site-packages (from dataclasses-json<0.7,>=0.5.7->langchain-community<0.4.0,>=0.3.0->langchain_experimental) (3.26.1)\n",
      "Requirement already satisfied: typing-inspect<1,>=0.4.0 in c:\\anaconda\\lib\\site-packages (from dataclasses-json<0.7,>=0.5.7->langchain-community<0.4.0,>=0.3.0->langchain_experimental) (0.9.0)\n",
      "Requirement already satisfied: jsonpointer>=1.9 in c:\\anaconda\\lib\\site-packages (from jsonpatch<2.0,>=1.33->langchain-core<0.4.0,>=0.3.28->langchain_experimental) (2.1)\n",
      "Requirement already satisfied: langchain-text-splitters<1.0.0,>=0.3.8 in c:\\anaconda\\lib\\site-packages (from langchain<1.0.0,>=0.3.24->langchain-community<0.4.0,>=0.3.0->langchain_experimental) (0.3.8)\n",
      "Requirement already satisfied: httpx<1,>=0.23.0 in c:\\anaconda\\lib\\site-packages (from langsmith<0.4,>=0.1.125->langchain-community<0.4.0,>=0.3.0->langchain_experimental) (0.28.1)\n",
      "Requirement already satisfied: orjson<4.0.0,>=3.9.14 in c:\\anaconda\\lib\\site-packages (from langsmith<0.4,>=0.1.125->langchain-community<0.4.0,>=0.3.0->langchain_experimental) (3.10.18)\n",
      "Requirement already satisfied: requests-toolbelt<2.0.0,>=1.0.0 in c:\\anaconda\\lib\\site-packages (from langsmith<0.4,>=0.1.125->langchain-community<0.4.0,>=0.3.0->langchain_experimental) (1.0.0)\n",
      "Requirement already satisfied: zstandard<0.24.0,>=0.23.0 in c:\\anaconda\\lib\\site-packages (from langsmith<0.4,>=0.1.125->langchain-community<0.4.0,>=0.3.0->langchain_experimental) (0.23.0)\n",
      "Requirement already satisfied: annotated-types>=0.6.0 in c:\\anaconda\\lib\\site-packages (from pydantic<3.0.0,>=2.5.2->langchain-core<0.4.0,>=0.3.28->langchain_experimental) (0.7.0)\n",
      "Requirement already satisfied: pydantic-core==2.27.1 in c:\\anaconda\\lib\\site-packages (from pydantic<3.0.0,>=2.5.2->langchain-core<0.4.0,>=0.3.28->langchain_experimental) (2.27.1)\n",
      "Requirement already satisfied: python-dotenv>=0.21.0 in c:\\anaconda\\lib\\site-packages (from pydantic-settings<3.0.0,>=2.4.0->langchain-community<0.4.0,>=0.3.0->langchain_experimental) (0.21.0)\n",
      "Requirement already satisfied: typing-inspection>=0.4.0 in c:\\anaconda\\lib\\site-packages (from pydantic-settings<3.0.0,>=2.4.0->langchain-community<0.4.0,>=0.3.0->langchain_experimental) (0.4.0)\n",
      "Requirement already satisfied: charset-normalizer<4,>=2 in c:\\anaconda\\lib\\site-packages (from requests<3,>=2->langchain-community<0.4.0,>=0.3.0->langchain_experimental) (2.0.4)\n",
      "Requirement already satisfied: idna<4,>=2.5 in c:\\anaconda\\lib\\site-packages (from requests<3,>=2->langchain-community<0.4.0,>=0.3.0->langchain_experimental) (2.10)\n",
      "Requirement already satisfied: urllib3<3,>=1.21.1 in c:\\anaconda\\lib\\site-packages (from requests<3,>=2->langchain-community<0.4.0,>=0.3.0->langchain_experimental) (2.0.7)\n",
      "Requirement already satisfied: certifi>=2017.4.17 in c:\\anaconda\\lib\\site-packages (from requests<3,>=2->langchain-community<0.4.0,>=0.3.0->langchain_experimental) (2024.2.2)\n",
      "Requirement already satisfied: greenlet!=0.4.17 in c:\\anaconda\\lib\\site-packages (from SQLAlchemy<3,>=1.4->langchain-community<0.4.0,>=0.3.0->langchain_experimental) (3.0.1)\n",
      "Requirement already satisfied: anyio in c:\\anaconda\\lib\\site-packages (from httpx<1,>=0.23.0->langsmith<0.4,>=0.1.125->langchain-community<0.4.0,>=0.3.0->langchain_experimental) (4.2.0)\n",
      "Requirement already satisfied: httpcore==1.* in c:\\anaconda\\lib\\site-packages (from httpx<1,>=0.23.0->langsmith<0.4,>=0.1.125->langchain-community<0.4.0,>=0.3.0->langchain_experimental) (1.0.9)\n",
      "Requirement already satisfied: h11>=0.16 in c:\\anaconda\\lib\\site-packages (from httpcore==1.*->httpx<1,>=0.23.0->langsmith<0.4,>=0.1.125->langchain-community<0.4.0,>=0.3.0->langchain_experimental) (0.16.0)\n",
      "Requirement already satisfied: mypy-extensions>=0.3.0 in c:\\anaconda\\lib\\site-packages (from typing-inspect<1,>=0.4.0->dataclasses-json<0.7,>=0.5.7->langchain-community<0.4.0,>=0.3.0->langchain_experimental) (1.0.0)\n",
      "Requirement already satisfied: sniffio>=1.1 in c:\\anaconda\\lib\\site-packages (from anyio->httpx<1,>=0.23.0->langsmith<0.4,>=0.1.125->langchain-community<0.4.0,>=0.3.0->langchain_experimental) (1.3.0)\n",
      "Downloading langchain_experimental-0.3.4-py3-none-any.whl (209 kB)\n",
      "   ---------------------------------------- 0.0/209.2 kB ? eta -:--:--\n",
      "   - -------------------------------------- 10.2/209.2 kB ? eta -:--:--\n",
      "   --- ----------------------------------- 20.5/209.2 kB 165.2 kB/s eta 0:00:02\n",
      "   ----------- --------------------------- 61.4/209.2 kB 469.7 kB/s eta 0:00:01\n",
      "   ---------------------------------------- 209.2/209.2 kB 1.3 MB/s eta 0:00:00\n",
      "Installing collected packages: langchain_experimental\n",
      "Successfully installed langchain_experimental-0.3.4\n"
     ]
    }
   ],
   "source": [
    "pip install langchain_experimental"
   ]
  },
  {
   "cell_type": "markdown",
   "id": "5845b190-837c-4739-ad66-170a221ca864",
   "metadata": {},
   "source": [
    "# PythonREPLToolの利用"
   ]
  },
  {
   "cell_type": "code",
   "execution_count": 50,
   "id": "d779470b-9992-4c8a-9272-7a737c24121a",
   "metadata": {},
   "outputs": [
    {
     "name": "stdout",
     "output_type": "stream",
     "text": [
      "ContentString: \n",
      "ToolCalls: [{'name': 'Python_REPL', 'args': {'query': 'print(1873648+9285928+3759182+2398597)'}, 'id': 'call_VtdwrYvq6mT2jmdXUSiva5r4', 'type': 'tool_call'}]\n"
     ]
    }
   ],
   "source": [
    "from langchain_experimental.tools.python.tool import\\\n",
    "PythonREPLTool\n",
    "\n",
    "model = ChatOpenAI(model=\"gpt-4o-mini\")\n",
    "tools = [PythonREPLTool()]\n",
    "model_with_tools = model.bind_tools(tools)\n",
    "\n",
    "question = \"以下をPythonで実行した場合の結果を教えてください。print\\\n",
    "(1873648+9285928+3759182+2398597)\"\n",
    "\n",
    "response = model_with_tools.invoke([HumanMessage(content=\\\n",
    "question)])\n",
    "\n",
    "print(f\"ContentString: {response.content}\")\n",
    "print(f\"ToolCalls: {response.tool_calls}\")"
   ]
  },
  {
   "cell_type": "code",
   "execution_count": 52,
   "id": "381de06d-c4f8-42d0-a471-c70064305547",
   "metadata": {},
   "outputs": [
    {
     "name": "stderr",
     "output_type": "stream",
     "text": [
      "Python REPL can execute arbitrary code. Use with caution.\n"
     ]
    },
    {
     "data": {
      "text/plain": [
       "'17317355\\n'"
      ]
     },
     "execution_count": 52,
     "metadata": {},
     "output_type": "execute_result"
    }
   ],
   "source": [
    "#実行\n",
    "pythonrepltool = PythonREPLTool()\n",
    "pythonrepltool.invoke(response.tool_calls[0][\"args\"])"
   ]
  },
  {
   "cell_type": "markdown",
   "id": "3d5596dd-8af0-43d6-a859-e098fbea9d7d",
   "metadata": {},
   "source": [
    "# ツールを自作する\n",
    "## おみくじ関数\n"
   ]
  },
  {
   "cell_type": "code",
   "execution_count": 56,
   "id": "786aa7a3-28ed-4d4d-851d-1937811d5248",
   "metadata": {},
   "outputs": [
    {
     "data": {
      "text/plain": [
       "'10月22日の運勢は【中吉】です。'"
      ]
     },
     "execution_count": 56,
     "metadata": {},
     "output_type": "execute_result"
    }
   ],
   "source": [
    "import random\n",
    "from datetime import datetime\n",
    "\n",
    "def get_fortune(date_string):\n",
    "    # 日付文字列を解析\n",
    "    try:\n",
    "        date = datetime.strptime(date_string, \"%m月%d日\")\n",
    "    except ValueError:\n",
    "        return \"無効な日付形式です。'X月X日'の形式で入力してくださ\\\n",
    "い。\"\n",
    "\n",
    "    # 運勢のリスト\n",
    "    fortunes = [\n",
    "        \"大吉\", \"中吉\", \"小吉\", \"吉\", \"末吉\", \"凶\", \"大凶\"\n",
    "    ]\n",
    "\n",
    "    # 運勢の重み付け（大吉と大凶の確率を低くする）\n",
    "    weights = [1, 3, 3, 4, 3, 2, 1]\n",
    "\n",
    "    # 日付に基づいてシードを設定（同じ日付なら同じ運勢を返す）\n",
    "    random.seed(date.month * 100 + date.day)\n",
    "\n",
    "    # 運勢をランダムに選択\n",
    "    fortune = random.choices(fortunes, weights=weights)[0]\n",
    "\n",
    "    return f\"{date_string}の運勢は【{fortune}】です。\"\n",
    "\n",
    "# 出力例\n",
    "get_fortune(\"10月22日\")"
   ]
  },
  {
   "cell_type": "markdown",
   "id": "46ffd2cc-dd6c-4075-8c09-8cef5e8e6881",
   "metadata": {},
   "source": [
    "# ツールを作成するプログラム"
   ]
  },
  {
   "cell_type": "code",
   "execution_count": 59,
   "id": "263bc303-f13c-45c8-b4c9-515e3450e69d",
   "metadata": {},
   "outputs": [],
   "source": [
    "from langchain.tools import BaseTool\n",
    "\n",
    "#1 ツールの定義\n",
    "class Get_fortune(BaseTool):\n",
    "    name: str = 'Get_fortune'\n",
    "    description: str = (\n",
    "        \"特定の日付の運勢を占う。インプットは  'date_string'です。\\\n",
    "'date_string' は、占いを行う日付で、mm月dd日 という形式です。「1月1日」\\\n",
    "のように入力し、「'1月1日'」のように余計な文字列を付けてはいけません。\"\n",
    "    )\n",
    "\n",
    "    def _run(self, date_string) -> str:\n",
    "        return get_fortune(date_string)\n",
    "\n",
    "\n",
    "    async def _arun(self, query: str) -> str:\n",
    "        raise NotImplementedError(\"does not support async\")"
   ]
  },
  {
   "cell_type": "markdown",
   "id": "243e0489-8421-4f8a-ac18-6338441f4228",
   "metadata": {},
   "source": [
    "# ツールの利用"
   ]
  },
  {
   "cell_type": "code",
   "execution_count": 62,
   "id": "7746bc4b-4a78-4792-a21c-ee075bdadab8",
   "metadata": {},
   "outputs": [
    {
     "name": "stdout",
     "output_type": "stream",
     "text": [
      "ContentString: \n",
      "ToolCalls: [{'name': 'Get_fortune', 'args': {'date_string': '10月22日'}, 'id': 'call_kq7Vm0yOe0aQLSneZxcjT1RT', 'type': 'tool_call'}]\n"
     ]
    }
   ],
   "source": [
    "tools = [Get_fortune()]\n",
    "\n",
    "model = ChatOpenAI(model=\"gpt-4o-mini\")\n",
    "model_with_tools = model.bind_tools(tools)\n",
    "\n",
    "question = \"10月22日の運勢を教えてください。\"\n",
    "\n",
    "response = model_with_tools.invoke([HumanMessage(content=\\\n",
    "question)])\n",
    "\n",
    "print(f\"ContentString: {response.content}\")\n",
    "print(f\"ToolCalls: {response.tool_calls}\")"
   ]
  },
  {
   "cell_type": "code",
   "execution_count": 64,
   "id": "39fe634b-7153-4bb3-9751-af323353c27d",
   "metadata": {},
   "outputs": [
    {
     "data": {
      "text/plain": [
       "ToolMessage(content='10月22日の運勢は【中吉】です。', name='Get_fortune', tool_call_id='call_kq7Vm0yOe0aQLSneZxcjT1RT')"
      ]
     },
     "execution_count": 64,
     "metadata": {},
     "output_type": "execute_result"
    }
   ],
   "source": [
    "#実行\n",
    "tool = Get_fortune()\n",
    "tool.invoke(response.tool_calls[0])"
   ]
  },
  {
   "cell_type": "markdown",
   "id": "64419b1a-aeaf-4443-92b1-51d3b0248148",
   "metadata": {},
   "source": [
    "# 質問を変更"
   ]
  },
  {
   "cell_type": "code",
   "execution_count": 67,
   "id": "3435cb61-9766-45c5-af46-7f820e623872",
   "metadata": {},
   "outputs": [
    {
     "name": "stdout",
     "output_type": "stream",
     "text": [
      "ContentString: \n",
      "ToolCalls: [{'name': 'Get_fortune', 'args': {'date_string': '10月31日'}, 'id': 'call_NphMhPx2DziyxE5Iy4TvHPeM', 'type': 'tool_call'}]\n"
     ]
    }
   ],
   "source": [
    "tools = [Get_fortune()]\n",
    "\n",
    "model = ChatOpenAI(model=\"gpt-4o-mini\")\n",
    "model_with_tools = model.bind_tools(tools)\n",
    "\n",
    "question = \"今日の運勢を教えてください。\"\n",
    "\n",
    "response = model_with_tools.invoke([HumanMessage(content=\\\n",
    "question)])\n",
    "\n",
    "print(f\"ContentString: {response.content}\")\n",
    "print(f\"ToolCalls: {response.tool_calls}\")"
   ]
  },
  {
   "cell_type": "markdown",
   "id": "9174b231-5a93-448e-9cea-f775d3c72dd0",
   "metadata": {},
   "source": [
    "# 今日の日付を取得するツールの定期"
   ]
  },
  {
   "cell_type": "code",
   "execution_count": 70,
   "id": "b063b4c4-f8fe-4157-aecd-e37aea0f4462",
   "metadata": {},
   "outputs": [
    {
     "name": "stdout",
     "output_type": "stream",
     "text": [
      "05月06日\n"
     ]
    }
   ],
   "source": [
    "from datetime import timedelta\n",
    "from zoneinfo import ZoneInfo\n",
    "\n",
    "# 日付取得関数\n",
    "\n",
    "def get_date(date):\n",
    "    date_now = datetime.now(ZoneInfo(\"Asia/Tokyo\"))\n",
    "    if (\"今日\" in date):\n",
    "        date_delta = 0\n",
    "    elif (\"明日\" in date):\n",
    "        date_delta = 1\n",
    "    elif (\"明後日\" in date):\n",
    "        date_delta = 2\n",
    "    else:\n",
    "        return \"サポートしていません\"\n",
    "    return (date_now + timedelta(days=date_delta)).strftime\\\n",
    "('%m月%d日')\n",
    "\n",
    "# 出力例\n",
    "print(get_date(\"今日\"))"
   ]
  },
  {
   "cell_type": "markdown",
   "id": "379437d8-f1db-4188-9509-baa924a0fb3f",
   "metadata": {},
   "source": [
    "# BaseToolを継承"
   ]
  },
  {
   "cell_type": "code",
   "execution_count": 73,
   "id": "0f8643f3-9d11-4553-9913-cf73831b9bb2",
   "metadata": {},
   "outputs": [],
   "source": [
    "class Get_date(BaseTool):\n",
    "    name: str = 'Get_date'\n",
    "    description: str = (\n",
    "        \"今日の日付を取得する。インプットは 'date'です。'date' は、日\\\n",
    "付を取得する対象の日で、'今日', '明日', '明後日' という3種類の文字列\\\n",
    "から指定します。「今日」のように入力し、「'今日'」のように余計な文字列を付\\\n",
    "けてはいけません。\"\n",
    "    )\n",
    "\n",
    "    def _run(self, date) -> str:\n",
    "        return get_date(date)\n",
    "\n",
    "    async def _arun(self, query: str) -> str:\n",
    "        raise NotImplementedError(\"does not support async\")"
   ]
  },
  {
   "cell_type": "markdown",
   "id": "8178adda-9d90-4b8b-846c-74326174d66f",
   "metadata": {},
   "source": [
    "# 作成したツールの利用"
   ]
  },
  {
   "cell_type": "code",
   "execution_count": 76,
   "id": "ad5b1dac-7f9d-49d0-89f6-93cc9c634e74",
   "metadata": {},
   "outputs": [
    {
     "name": "stdout",
     "output_type": "stream",
     "text": [
      "ContentString: \n",
      "ToolCalls: [{'name': 'Get_date', 'args': {'date': '今日'}, 'id': 'call_1M8nwbl2uFiSijWb0bc45pKx', 'type': 'tool_call'}]\n"
     ]
    }
   ],
   "source": [
    "tools = [Get_date()]\n",
    "\n",
    "model = ChatOpenAI(model=\"gpt-4o-mini\")\n",
    "model_with_tools = model.bind_tools(tools)\n",
    "\n",
    "question = \"今日の日付を教えてください。。\"\n",
    "\n",
    "response = model_with_tools.invoke([HumanMessage(content=\\\n",
    "question)])\n",
    "\n",
    "print(f\"ContentString: {response.content}\")\n",
    "print(f\"ToolCalls: {response.tool_calls}\")"
   ]
  },
  {
   "cell_type": "code",
   "execution_count": 78,
   "id": "a4cfb058-ddca-4fa9-b369-181d1ca73c13",
   "metadata": {},
   "outputs": [
    {
     "data": {
      "text/plain": [
       "ToolMessage(content='05月07日', name='Get_date', tool_call_id='call_1M8nwbl2uFiSijWb0bc45pKx')"
      ]
     },
     "execution_count": 78,
     "metadata": {},
     "output_type": "execute_result"
    }
   ],
   "source": [
    "#実行\n",
    "tool = Get_date()\n",
    "tool.invoke(response.tool_calls[0])"
   ]
  },
  {
   "cell_type": "code",
   "execution_count": 80,
   "id": "288e416e-2d1a-4b60-a30e-e6a9ccfebe66",
   "metadata": {},
   "outputs": [
    {
     "name": "stdout",
     "output_type": "stream",
     "text": [
      "ContentString: \n",
      "ToolCalls: [{'name': 'Get_date', 'args': {'date': '今日'}, 'id': 'call_OvKqWdyaby2fRJdw43Hqraoy', 'type': 'tool_call'}]\n"
     ]
    }
   ],
   "source": [
    "tools = [Get_fortune(), Get_date()]\n",
    "\n",
    "model = ChatOpenAI(model=\"gpt-4o-mini\")\n",
    "model_with_tools = model.bind_tools(tools)\n",
    "\n",
    "question = \"今日の運勢を教えてください。。\"\n",
    "\n",
    "response = model_with_tools.invoke([HumanMessage(content=question)])\n",
    "\n",
    "print(f\"ContentString: {response.content}\")\n",
    "print(f\"ToolCalls: {response.tool_calls}\")"
   ]
  },
  {
   "cell_type": "code",
   "execution_count": null,
   "id": "af3ecc48-e290-49bf-8d20-83e9cfb16f95",
   "metadata": {},
   "outputs": [],
   "source": []
  }
 ],
 "metadata": {
  "kernelspec": {
   "display_name": "Python 3 (ipykernel)",
   "language": "python",
   "name": "python3"
  },
  "language_info": {
   "codemirror_mode": {
    "name": "ipython",
    "version": 3
   },
   "file_extension": ".py",
   "mimetype": "text/x-python",
   "name": "python",
   "nbconvert_exporter": "python",
   "pygments_lexer": "ipython3",
   "version": "3.11.7"
  }
 },
 "nbformat": 4,
 "nbformat_minor": 5
}
