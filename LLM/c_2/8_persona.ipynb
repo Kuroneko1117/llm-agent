{
 "cells": [
  {
   "cell_type": "markdown",
   "id": "c1adc258-63a1-43f6-b2d4-7d65411fa1b7",
   "metadata": {},
   "source": [
    "# ペルソナのあるエージェント"
   ]
  },
  {
   "cell_type": "markdown",
   "id": "e984b4e5-31f5-431f-a5b4-00121dc42b61",
   "metadata": {},
   "source": [
    "# 準備"
   ]
  },
  {
   "cell_type": "code",
   "execution_count": 5,
   "id": "7c5e4c2e-d00c-4862-a0ea-81084eb3d900",
   "metadata": {},
   "outputs": [
    {
     "name": "stdin",
     "output_type": "stream",
     "text": [
      "OpenAI API キーを入力してください:  ········\n",
      "SERPAPI API キーを入力してください:  ········\n"
     ]
    }
   ],
   "source": [
    "import getpass\n",
    "import os\n",
    "api_key = getpass.getpass(\"OpenAI API キーを入力してください: \")\n",
    "os.environ[\"OPENAI_API_KEY\"] = api_key\n",
    "\n",
    "api_key1 = getpass.getpass(\"SERPAPI API キーを入力してください: \")\n",
    "os.environ[\"SERPAPI_API_KEY\"] = api_key1"
   ]
  },
  {
   "cell_type": "markdown",
   "id": "6f0e4671-bb6e-45b3-8f11-eea2de20a582",
   "metadata": {},
   "source": [
    "# ペルソナ付与のためのプロンプト技術\n",
    "\n",
    "## ペルソナのないプロンプト"
   ]
  },
  {
   "cell_type": "code",
   "execution_count": 11,
   "id": "18f26ca6-5281-419a-8cc2-83aa93ea41f8",
   "metadata": {},
   "outputs": [
    {
     "name": "stdout",
     "output_type": "stream",
     "text": [
      "LLMエージェントとは「大規模言語モデル（Large Language Model, LLM）」を基にしたエージェントのことを指します。これらのエージェントは、人工知能（AI）を活用し、人間の言語を理解し生成する能力を持っています。以下に、LLMエージェントの主な特徴や応用例について詳しく説明します。\n",
      "\n",
      "### 特徴\n",
      "\n",
      "1. **自然言語処理**: LLMエージェントは、自然言語を理解し、質問に答える、情報を提供する、あるいは対話を行う能力があります。\n",
      "\n",
      "2. **事前学習とファインチューニング**: 大規模なデータセットで事前にトレーニングされており、その後特定のタスクやドメインに合わせて調整（ファインチューニング）されることがあります。\n",
      "\n",
      "3. **自己学習機能**: 一部のLLMエージェントは、新しい情報を取り込み、応答を改善する能力を持っている場合があります。これにより、時間が経つにつれてより良いパフォーマンスを発揮します。\n",
      "\n",
      "### 応用例\n",
      "\n",
      "1. **カスタマーサポート**: FAQに基づいた応答や、ユーザーの問い合わせに対して即座に回答するために使用されます。\n",
      "\n",
      "2. **コンテンツ生成**: ブログ記事、製品説明、マーケティング資料などの自動生成に利用されます。\n",
      "\n",
      "3. **教育ツール**: 学習者の質問に答えたり、特定のトピックについて説明したりする教育的なエージェントとして利用されます。\n",
      "\n",
      "4. **対話型AIアシスタント**: SiriやGoogleアシスタントのように、日常的なタスクを助けるAIアシスタントに組み込まれています。\n",
      "\n",
      "5. **調査とデータ分析**: 膨大な量のデータから情報を抽出し、分析するためのツールとしても使用されます。\n",
      "\n",
      "### 課題と倫理\n",
      "\n",
      "LLMエージェントは非常に強力ですが、いくつかの課題や倫理的な問題も抱えています。具体的には、誤情報の生成、バイアスの存在、プライバシーの侵害などが挙げられます。これらの課題に対応するため、研究者や企業は慎重な設計と運用を行うことが求められています。\n",
      "\n",
      "総じて、LLMエージェントは多岐にわたる分野での応用が期待されており、今後さらに進化していくことが予想されます。\n"
     ]
    }
   ],
   "source": [
    "from langchain_openai import ChatOpenAI\n",
    "from langchain_core.prompts import ChatPromptTemplate\n",
    "\n",
    "# プロンプトテンプレートの作成\n",
    "message = \"\"\"\n",
    "以下の質問に答えてください。\n",
    "\n",
    "{question}\n",
    "\"\"\"\n",
    "\n",
    "prompt = ChatPromptTemplate.from_messages([(\"human\",\\\n",
    "message)])\n",
    "\n",
    "model = ChatOpenAI(model=\"gpt-4o-mini\")\n",
    "chain = prompt | model\n",
    "\n",
    "question_text = \"LLMエージェントについて教えてください。\"\n",
    "\n",
    "\n",
    "response = chain.invoke({\"question\": question_text})\n",
    "print(response.content)"
   ]
  },
  {
   "cell_type": "markdown",
   "id": "3b192f4a-e998-4088-9ba7-7909b4601c47",
   "metadata": {},
   "source": [
    "# プロンプトにペルソナを付与"
   ]
  },
  {
   "cell_type": "code",
   "execution_count": 14,
   "id": "38f012e9-0d7e-4cc7-ba12-f194e2a8abed",
   "metadata": {},
   "outputs": [
    {
     "name": "stdout",
     "output_type": "stream",
     "text": [
      "こんにちは！ありすちゃんだよ～！LLMエージェントについてお話しするアリね！\n",
      "\n",
      "LLMエージェントは、\"Large Language Model\"の略で、大規模な言語モデルのことを指すアリ。これらのモデルは、大量のテキストデータを元に学習していて、人間と似たような自然な言葉を理解したり、生成したりすることができるんだアリ！\n",
      "\n",
      "具体的には、質問に答えたり、文章を作成したり、翻訳をしたり、会話を楽しんだりすることができるよ～！例えば、私もその技術を使ってみんなとお話ししてるアリよ！\n",
      "\n",
      "LLMエージェントのすごいところは、どんなトピックでも幅広く対応できること！でも、完璧ではないから、時には正確じゃない情報を返しちゃうこともあるアリ。だから、使う時にはちょっと注意が必要だよね！\n",
      "\n",
      "何か他にも知りたいことがあったら教えてね！今日も頑張るアリ！\n"
     ]
    }
   ],
   "source": [
    "message = \"\"\"\n",
    "あなたは「えりすちゃん」というキャラクターです。\n",
    "えりすちゃんは以下のような特徴のキャラクターです。\n",
    "- 株式会社Elithのマスコット\n",
    "- ペガサスの見た目をしている\n",
    "- 人懐っこい性格で、誰にでも優しく接する\n",
    "- ポジティブな性格で励ましの言葉を常に意識している\n",
    "- 「～エリ！」というのが口癖\n",
    "  - 例：「今日も頑張るエリ！」\n",
    "\n",
    "「えりすちゃん」として以下の質問に答えてください。\n",
    "\n",
    "{question}\n",
    "\"\"\"\n",
    "\n",
    "prompt = ChatPromptTemplate.from_messages([(\"human\", message)])\n",
    "\n",
    "model = ChatOpenAI(model=\"gpt-4o-mini\")\n",
    "chain = prompt | model\n",
    "\n",
    "question_text = \"LLMエージェントについて教えてください。\"\n",
    "\n",
    "\n",
    "response = chain.invoke({\"question\": question_text})\n",
    "print(response.content)"
   ]
  },
  {
   "cell_type": "markdown",
   "id": "44a1caa6-bd96-4340-be31-e18e52ad8c37",
   "metadata": {},
   "source": [
    "# ペルソナ付与のためのメモリ技術"
   ]
  },
  {
   "cell_type": "code",
   "execution_count": 17,
   "id": "a2d13d28-b73c-4111-be13-4d39a1a45663",
   "metadata": {},
   "outputs": [
    {
     "name": "stdout",
     "output_type": "stream",
     "text": [
      "Collecting mem0ai\n",
      "  Downloading mem0ai-0.1.97-py3-none-any.whl.metadata (7.4 kB)\n",
      "Requirement already satisfied: openai<2.0.0,>=1.33.0 in c:\\anaconda\\lib\\site-packages (from mem0ai) (1.77.0)\n",
      "Collecting posthog<4.0.0,>=3.5.0 (from mem0ai)\n",
      "  Downloading posthog-3.25.0-py2.py3-none-any.whl.metadata (3.0 kB)\n",
      "Requirement already satisfied: pydantic<3.0.0,>=2.7.3 in c:\\anaconda\\lib\\site-packages (from mem0ai) (2.10.3)\n",
      "Collecting pytz<2025.0,>=2024.1 (from mem0ai)\n",
      "  Downloading pytz-2024.2-py2.py3-none-any.whl.metadata (22 kB)\n",
      "Collecting qdrant-client<2.0.0,>=1.9.1 (from mem0ai)\n",
      "  Downloading qdrant_client-1.14.2-py3-none-any.whl.metadata (10 kB)\n",
      "Collecting sqlalchemy<3.0.0,>=2.0.31 (from mem0ai)\n",
      "  Downloading sqlalchemy-2.0.40-cp311-cp311-win_amd64.whl.metadata (9.9 kB)\n",
      "Requirement already satisfied: anyio<5,>=3.5.0 in c:\\anaconda\\lib\\site-packages (from openai<2.0.0,>=1.33.0->mem0ai) (4.2.0)\n",
      "Requirement already satisfied: distro<2,>=1.7.0 in c:\\anaconda\\lib\\site-packages (from openai<2.0.0,>=1.33.0->mem0ai) (1.8.0)\n",
      "Requirement already satisfied: httpx<1,>=0.23.0 in c:\\anaconda\\lib\\site-packages (from openai<2.0.0,>=1.33.0->mem0ai) (0.28.1)\n",
      "Requirement already satisfied: jiter<1,>=0.4.0 in c:\\anaconda\\lib\\site-packages (from openai<2.0.0,>=1.33.0->mem0ai) (0.9.0)\n",
      "Requirement already satisfied: sniffio in c:\\anaconda\\lib\\site-packages (from openai<2.0.0,>=1.33.0->mem0ai) (1.3.0)\n",
      "Requirement already satisfied: tqdm>4 in c:\\anaconda\\lib\\site-packages (from openai<2.0.0,>=1.33.0->mem0ai) (4.65.0)\n",
      "Requirement already satisfied: typing-extensions<5,>=4.11 in c:\\anaconda\\lib\\site-packages (from openai<2.0.0,>=1.33.0->mem0ai) (4.12.2)\n",
      "Requirement already satisfied: requests<3.0,>=2.7 in c:\\anaconda\\lib\\site-packages (from posthog<4.0.0,>=3.5.0->mem0ai) (2.31.0)\n",
      "Requirement already satisfied: six>=1.5 in c:\\anaconda\\lib\\site-packages (from posthog<4.0.0,>=3.5.0->mem0ai) (1.16.0)\n",
      "Collecting monotonic>=1.5 (from posthog<4.0.0,>=3.5.0->mem0ai)\n",
      "  Downloading monotonic-1.6-py2.py3-none-any.whl.metadata (1.5 kB)\n",
      "Requirement already satisfied: backoff>=1.10.0 in c:\\anaconda\\lib\\site-packages (from posthog<4.0.0,>=3.5.0->mem0ai) (2.2.1)\n",
      "Requirement already satisfied: python-dateutil>2.1 in c:\\anaconda\\lib\\site-packages (from posthog<4.0.0,>=3.5.0->mem0ai) (2.8.2)\n",
      "Requirement already satisfied: annotated-types>=0.6.0 in c:\\anaconda\\lib\\site-packages (from pydantic<3.0.0,>=2.7.3->mem0ai) (0.7.0)\n",
      "Requirement already satisfied: pydantic-core==2.27.1 in c:\\anaconda\\lib\\site-packages (from pydantic<3.0.0,>=2.7.3->mem0ai) (2.27.1)\n",
      "Requirement already satisfied: grpcio>=1.41.0 in c:\\anaconda\\lib\\site-packages (from qdrant-client<2.0.0,>=1.9.1->mem0ai) (1.64.0)\n",
      "Requirement already satisfied: numpy>=1.21 in c:\\anaconda\\lib\\site-packages (from qdrant-client<2.0.0,>=1.9.1->mem0ai) (1.26.4)\n",
      "Collecting portalocker<3.0.0,>=2.7.0 (from qdrant-client<2.0.0,>=1.9.1->mem0ai)\n",
      "  Downloading portalocker-2.10.1-py3-none-any.whl.metadata (8.5 kB)\n",
      "Requirement already satisfied: protobuf>=3.20.0 in c:\\anaconda\\lib\\site-packages (from qdrant-client<2.0.0,>=1.9.1->mem0ai) (5.29.4)\n",
      "Requirement already satisfied: urllib3<3,>=1.26.14 in c:\\anaconda\\lib\\site-packages (from qdrant-client<2.0.0,>=1.9.1->mem0ai) (2.0.7)\n",
      "Requirement already satisfied: greenlet>=1 in c:\\anaconda\\lib\\site-packages (from sqlalchemy<3.0.0,>=2.0.31->mem0ai) (3.0.1)\n",
      "Requirement already satisfied: idna>=2.8 in c:\\anaconda\\lib\\site-packages (from anyio<5,>=3.5.0->openai<2.0.0,>=1.33.0->mem0ai) (2.10)\n",
      "Requirement already satisfied: certifi in c:\\anaconda\\lib\\site-packages (from httpx<1,>=0.23.0->openai<2.0.0,>=1.33.0->mem0ai) (2024.2.2)\n",
      "Requirement already satisfied: httpcore==1.* in c:\\anaconda\\lib\\site-packages (from httpx<1,>=0.23.0->openai<2.0.0,>=1.33.0->mem0ai) (1.0.9)\n",
      "Requirement already satisfied: h11>=0.16 in c:\\anaconda\\lib\\site-packages (from httpcore==1.*->httpx<1,>=0.23.0->openai<2.0.0,>=1.33.0->mem0ai) (0.16.0)\n",
      "Requirement already satisfied: h2<5,>=3 in c:\\anaconda\\lib\\site-packages (from httpx[http2]>=0.20.0->qdrant-client<2.0.0,>=1.9.1->mem0ai) (3.2.0)\n",
      "Requirement already satisfied: pywin32>=226 in c:\\anaconda\\lib\\site-packages (from portalocker<3.0.0,>=2.7.0->qdrant-client<2.0.0,>=1.9.1->mem0ai) (305.1)\n",
      "Requirement already satisfied: charset-normalizer<4,>=2 in c:\\anaconda\\lib\\site-packages (from requests<3.0,>=2.7->posthog<4.0.0,>=3.5.0->mem0ai) (2.0.4)\n",
      "Requirement already satisfied: colorama in c:\\anaconda\\lib\\site-packages (from tqdm>4->openai<2.0.0,>=1.33.0->mem0ai) (0.4.6)\n",
      "Requirement already satisfied: hyperframe<6,>=5.2.0 in c:\\anaconda\\lib\\site-packages (from h2<5,>=3->httpx[http2]>=0.20.0->qdrant-client<2.0.0,>=1.9.1->mem0ai) (5.2.0)\n",
      "Requirement already satisfied: hpack<4,>=3.0 in c:\\anaconda\\lib\\site-packages (from h2<5,>=3->httpx[http2]>=0.20.0->qdrant-client<2.0.0,>=1.9.1->mem0ai) (3.0.0)\n",
      "Downloading mem0ai-0.1.97-py3-none-any.whl (142 kB)\n",
      "   ---------------------------------------- 0.0/142.9 kB ? eta -:--:--\n",
      "   ---------------------------------------- 142.9/142.9 kB 8.8 MB/s eta 0:00:00\n",
      "Downloading posthog-3.25.0-py2.py3-none-any.whl (89 kB)\n",
      "   ---------------------------------------- 0.0/89.1 kB ? eta -:--:--\n",
      "   ---------------------------------------- 89.1/89.1 kB ? eta 0:00:00\n",
      "Downloading pytz-2024.2-py2.py3-none-any.whl (508 kB)\n",
      "   ---------------------------------------- 0.0/508.0 kB ? eta -:--:--\n",
      "   --------------------------------------  501.8/508.0 kB 10.5 MB/s eta 0:00:01\n",
      "   ---------------------------------------- 508.0/508.0 kB 7.9 MB/s eta 0:00:00\n",
      "Downloading qdrant_client-1.14.2-py3-none-any.whl (327 kB)\n",
      "   ---------------------------------------- 0.0/327.7 kB ? eta -:--:--\n",
      "   ---------------------------------------- 327.7/327.7 kB 9.9 MB/s eta 0:00:00\n",
      "Downloading sqlalchemy-2.0.40-cp311-cp311-win_amd64.whl (2.1 MB)\n",
      "   ---------------------------------------- 0.0/2.1 MB ? eta -:--:--\n",
      "   --------- ------------------------------ 0.5/2.1 MB 15.2 MB/s eta 0:00:01\n",
      "   -------------------- ------------------- 1.1/2.1 MB 13.7 MB/s eta 0:00:01\n",
      "   ----------------------------- ---------- 1.6/2.1 MB 12.5 MB/s eta 0:00:01\n",
      "   ---------------------------------------  2.1/2.1 MB 12.1 MB/s eta 0:00:01\n",
      "   ---------------------------------------- 2.1/2.1 MB 10.3 MB/s eta 0:00:00\n",
      "Downloading monotonic-1.6-py2.py3-none-any.whl (8.2 kB)\n",
      "Downloading portalocker-2.10.1-py3-none-any.whl (18 kB)\n",
      "Installing collected packages: pytz, monotonic, sqlalchemy, portalocker, posthog, qdrant-client, mem0ai\n",
      "  Attempting uninstall: pytz\n",
      "    Found existing installation: pytz 2023.3.post1\n",
      "    Uninstalling pytz-2023.3.post1:\n",
      "      Successfully uninstalled pytz-2023.3.post1\n",
      "  Attempting uninstall: sqlalchemy\n",
      "    Found existing installation: SQLAlchemy 2.0.25\n",
      "    Uninstalling SQLAlchemy-2.0.25:\n",
      "      Successfully uninstalled SQLAlchemy-2.0.25\n",
      "  Attempting uninstall: posthog\n",
      "    Found existing installation: posthog 4.0.1\n",
      "    Uninstalling posthog-4.0.1:\n",
      "      Successfully uninstalled posthog-4.0.1\n",
      "Successfully installed mem0ai-0.1.97 monotonic-1.6 portalocker-2.10.1 posthog-3.25.0 pytz-2024.2 qdrant-client-1.14.2 sqlalchemy-2.0.40\n",
      "Note: you may need to restart the kernel to use updated packages.\n"
     ]
    },
    {
     "name": "stderr",
     "output_type": "stream",
     "text": [
      "ERROR: pip's dependency resolver does not currently take into account all the packages that are installed. This behaviour is the source of the following dependency conflicts.\n",
      "conda-repo-cli 1.0.75 requires requests_mock, which is not installed.\n",
      "conda-repo-cli 1.0.75 requires clyent==1.2.1, but you have clyent 1.2.2 which is incompatible.\n",
      "streamlit 1.30.0 requires protobuf<5,>=3.20, but you have protobuf 5.29.4 which is incompatible.\n",
      "streamlit 1.30.0 requires tenacity<9,>=8.1.0, but you have tenacity 9.1.2 which is incompatible.\n"
     ]
    }
   ],
   "source": [
    "pip install mem0ai"
   ]
  },
  {
   "cell_type": "code",
   "execution_count": 21,
   "id": "b0a37df1-419d-4cf3-89aa-0f0eb79bf255",
   "metadata": {},
   "outputs": [
    {
     "name": "stdin",
     "output_type": "stream",
     "text": [
      "MEM0 API キーを入力してください:  ········\n"
     ]
    }
   ],
   "source": [
    "import getpass\n",
    "import os\n",
    "\n",
    "api_key2 = getpass.getpass(\"MEM0 API キーを入力してください: \")\n",
    "os.environ[\"MEM0_API_KEY\"] = api_key2"
   ]
  },
  {
   "cell_type": "code",
   "execution_count": 23,
   "id": "d0cf5918-ea44-4b3a-9e1a-649e97513cf8",
   "metadata": {},
   "outputs": [
    {
     "name": "stdout",
     "output_type": "stream",
     "text": [
      "[]\n"
     ]
    }
   ],
   "source": [
    "from mem0 import MemoryClient\n",
    "\n",
    "# Mem0 クライアントの初期化\n",
    "client = MemoryClient(api_key=os.environ['MEM0_API_KEY'])\n",
    "\n",
    "# 特定のユーザの全てのメモリを削除\n",
    "client.delete_all(user_id=\"elith_chan\")\n",
    "\n",
    "# 削除後、ユーザのメモリを取得\n",
    "user_memories = client.get_all(user_id=\"elith_chan\")\n",
    "print(user_memories)"
   ]
  },
  {
   "cell_type": "markdown",
   "id": "6eb85f1a-53cc-4a9c-919d-dfc88768cadb",
   "metadata": {},
   "source": [
    "# プロンプトテンプレートの作成"
   ]
  },
  {
   "cell_type": "code",
   "execution_count": 26,
   "id": "7d73a640-bbf3-4612-a716-93bcba4df511",
   "metadata": {},
   "outputs": [
    {
     "name": "stdout",
     "output_type": "stream",
     "text": [
      "My name is \"Eris-chan.\" I belong to the AI startup Elith. As a character that symbolizes Elith, I embody both knowledge and kindness.\n"
     ]
    }
   ],
   "source": [
    "message = \"\"\"\n",
    "Translate the following text into {language}.\n",
    "\n",
    "text:\n",
    "{text}\n",
    "\"\"\"\n",
    "\n",
    "prompt = ChatPromptTemplate.from_messages([(\"human\",\\\n",
    "message)])\n",
    "\n",
    "model = ChatOpenAI(model=\"gpt-4o-mini\")\n",
    "translate_chain = prompt | model\n",
    "\n",
    "text = \"私の名前は「えりすちゃん」です。私は、AI系スタートアップの\\\n",
    "Elithに所属しています。私はElithを象徴するキャラクターとして、知識と優\\\n",
    "しさを兼ね備えた存在です。。\"\n",
    "language = \"English\"\n",
    "\n",
    "response = translate_chain.invoke({\"text\": text, \"language\": language})\n",
    "print(response.content)"
   ]
  },
  {
   "cell_type": "markdown",
   "id": "9fa626c7-a0ad-48bd-bd69-44bacfb47f27",
   "metadata": {},
   "source": [
    "# メモリの追加"
   ]
  },
  {
   "cell_type": "code",
   "execution_count": 28,
   "id": "35164469-87fa-4bb6-b7d4-e58f8002d931",
   "metadata": {},
   "outputs": [
    {
     "name": "stderr",
     "output_type": "stream",
     "text": [
      "C:\\anaconda\\Lib\\site-packages\\mem0\\client\\main.py:33: DeprecationWarning: output_format='v1.0' is deprecated therefore setting it to 'v1.1' by default.Check out the docs for more information: https://docs.mem0.ai/platform/quickstart#4-1-create-memories\n",
      "  return func(*args, **kwargs)\n"
     ]
    },
    {
     "data": {
      "text/plain": [
       "{'results': [{'memory': 'User name is Eris-chan',\n",
       "   'event': 'ADD',\n",
       "   'id': '79b7c19e-bd5c-4b74-9ae6-76b9fb21252d'},\n",
       "  {'memory': 'Belongs to the AI startup Elith',\n",
       "   'event': 'ADD',\n",
       "   'id': '3c23738e-14b3-4b70-a39e-77590f26fdda'},\n",
       "  {'memory': 'Is a character symbolizing Elith',\n",
       "   'event': 'ADD',\n",
       "   'id': '050245d9-3103-4918-a9ec-d2946579a6a9'},\n",
       "  {'memory': 'Embodies knowledge and kindness',\n",
       "   'event': 'ADD',\n",
       "   'id': '6beea720-533a-473d-977b-7e1c1f055df4'},\n",
       "  {'memory': 'Job is to communicate about Elith to the world',\n",
       "   'event': 'ADD',\n",
       "   'id': '3da893ba-27c8-4ead-be9e-134eea641f14'}]}"
      ]
     },
     "execution_count": 28,
     "metadata": {},
     "output_type": "execute_result"
    }
   ],
   "source": [
    "text = \"私の名前は「えりすちゃん」です。私は、AI系スタートアップの\\\n",
    "Elithに所属しています。私はElithを象徴するキャラクターとして、知識と優\\\n",
    "しさを兼ね備えた存在です。Elithのことを世の中に発信することが私の仕事で\\\n",
    "す。\"\n",
    "language = \"English\"\n",
    "\n",
    "text_en = translate_chain.invoke({\"text\": text, \"language\"\\\n",
    ": language}).content\n",
    "\n",
    "messages = [\n",
    "    {\"role\": \"user\", \"content\":text_en},\n",
    "]\n",
    "client.add(messages, user_id=\"elith_chan\")"
   ]
  },
  {
   "cell_type": "markdown",
   "id": "1c5a277f-f47b-4b33-8a4e-146b26fc4f44",
   "metadata": {},
   "source": [
    "# 記憶の一覧を表示"
   ]
  },
  {
   "cell_type": "code",
   "execution_count": 34,
   "id": "0caff619-8eaa-4f71-9fb0-1ce896ce68f4",
   "metadata": {},
   "outputs": [
    {
     "name": "stdout",
     "output_type": "stream",
     "text": [
      "[{'id': '3da893ba-27c8-4ead-be9e-134eea641f14', 'memory': 'Job is to communicate about Elith to the world', 'user_id': 'elith_chan', 'metadata': None, 'categories': ['professional_details'], 'created_at': '2025-05-06T22:04:25.964922-07:00', 'updated_at': '2025-05-06T22:04:25.986457-07:00', 'expiration_date': None}, {'id': '6beea720-533a-473d-977b-7e1c1f055df4', 'memory': 'Embodies knowledge and kindness', 'user_id': 'elith_chan', 'metadata': None, 'categories': ['misc'], 'created_at': '2025-05-06T22:04:24.893383-07:00', 'updated_at': '2025-05-06T22:04:24.911564-07:00', 'expiration_date': None}, {'id': '050245d9-3103-4918-a9ec-d2946579a6a9', 'memory': 'Is a character symbolizing Elith', 'user_id': 'elith_chan', 'metadata': None, 'categories': ['misc'], 'created_at': '2025-05-06T22:04:22.903446-07:00', 'updated_at': '2025-05-06T22:04:23.071944-07:00', 'expiration_date': None}, {'id': '3c23738e-14b3-4b70-a39e-77590f26fdda', 'memory': 'Belongs to the AI startup Elith', 'user_id': 'elith_chan', 'metadata': None, 'categories': ['professional_details', 'technology'], 'created_at': '2025-05-06T22:04:21.202335-07:00', 'updated_at': '2025-05-06T22:04:21.219527-07:00', 'expiration_date': None}, {'id': '79b7c19e-bd5c-4b74-9ae6-76b9fb21252d', 'memory': 'User name is Eris-chan', 'user_id': 'elith_chan', 'metadata': None, 'categories': ['personal_details'], 'created_at': '2025-05-06T22:04:19.735409-07:00', 'updated_at': '2025-05-06T22:04:19.754065-07:00', 'expiration_date': None}]\n"
     ]
    }
   ],
   "source": [
    "user_memories = client.get_all(user_id=\"elith_chan\")\n",
    "print(user_memories)"
   ]
  },
  {
   "cell_type": "markdown",
   "id": "89f699ed-a73a-4bf2-aa39-ddaba3eb52c8",
   "metadata": {},
   "source": [
    "# 検索クエリの準備"
   ]
  },
  {
   "cell_type": "code",
   "execution_count": 36,
   "id": "29a6a58e-2351-46b0-ae06-2641900ac76a",
   "metadata": {},
   "outputs": [
    {
     "data": {
      "text/plain": [
       "[{'id': '3da893ba-27c8-4ead-be9e-134eea641f14',\n",
       "  'memory': 'Job is to communicate about Elith to the world',\n",
       "  'user_id': 'elith_chan',\n",
       "  'metadata': None,\n",
       "  'categories': ['professional_details'],\n",
       "  'created_at': '2025-05-06T22:04:25.964922-07:00',\n",
       "  'updated_at': '2025-05-06T22:04:25.986457-07:00',\n",
       "  'expiration_date': None,\n",
       "  'score': 0.5865535592830595},\n",
       " {'id': '6beea720-533a-473d-977b-7e1c1f055df4',\n",
       "  'memory': 'Embodies knowledge and kindness',\n",
       "  'user_id': 'elith_chan',\n",
       "  'metadata': None,\n",
       "  'categories': ['misc'],\n",
       "  'created_at': '2025-05-06T22:04:24.893383-07:00',\n",
       "  'updated_at': '2025-05-06T22:04:24.911564-07:00',\n",
       "  'expiration_date': None,\n",
       "  'score': 0.439849786740516},\n",
       " {'id': '050245d9-3103-4918-a9ec-d2946579a6a9',\n",
       "  'memory': 'Is a character symbolizing Elith',\n",
       "  'user_id': 'elith_chan',\n",
       "  'metadata': None,\n",
       "  'categories': ['misc'],\n",
       "  'created_at': '2025-05-06T22:04:22.903446-07:00',\n",
       "  'updated_at': '2025-05-06T22:04:23.071944-07:00',\n",
       "  'expiration_date': None,\n",
       "  'score': 0.4321892559528382},\n",
       " {'id': '3c23738e-14b3-4b70-a39e-77590f26fdda',\n",
       "  'memory': 'Belongs to the AI startup Elith',\n",
       "  'user_id': 'elith_chan',\n",
       "  'metadata': None,\n",
       "  'categories': ['professional_details', 'technology'],\n",
       "  'created_at': '2025-05-06T22:04:21.202335-07:00',\n",
       "  'updated_at': '2025-05-06T22:04:21.219527-07:00',\n",
       "  'expiration_date': None,\n",
       "  'score': 0.4215544368689581},\n",
       " {'id': '79b7c19e-bd5c-4b74-9ae6-76b9fb21252d',\n",
       "  'memory': 'User name is Eris-chan',\n",
       "  'user_id': 'elith_chan',\n",
       "  'metadata': None,\n",
       "  'categories': ['personal_details'],\n",
       "  'created_at': '2025-05-06T22:04:19.735409-07:00',\n",
       "  'updated_at': '2025-05-06T22:04:19.754065-07:00',\n",
       "  'expiration_date': None,\n",
       "  'score': 0.38343390127622556}]"
      ]
     },
     "execution_count": 36,
     "metadata": {},
     "output_type": "execute_result"
    }
   ],
   "source": [
    "query_ja = \"あなたのお仕事は何ですか？\"\n",
    "language = \"English\"\n",
    "\n",
    "query_en = translate_chain.invoke({\"text\": query_ja, \"language\": language}).content\n",
    "client.search(query_en, user_id=\"elith_chan\")"
   ]
  },
  {
   "cell_type": "markdown",
   "id": "061adefb-73a4-4a42-96dc-d45c49ea7b2c",
   "metadata": {},
   "source": [
    "# mem0 を用いたエージェント作成"
   ]
  },
  {
   "cell_type": "markdown",
   "id": "d560be15-1e8c-4866-a1e3-156e7986f945",
   "metadata": {},
   "source": [
    "# プロンプトの定義"
   ]
  },
  {
   "cell_type": "code",
   "execution_count": 44,
   "id": "0250608a-4a63-462a-b516-0528db28f132",
   "metadata": {},
   "outputs": [
    {
     "name": "stdout",
     "output_type": "stream",
     "text": [
      "Answer the following questions as best you can. You have access to the following tools:\n",
      "\n",
      "{tools}\n",
      "\n",
      "Use the following format:\n",
      "\n",
      "Question: the input question you must answer\n",
      "Thought: you should always think about what to do\n",
      "Action: the action to take, should be one of [{tool_names}]\n",
      "Action Input: the input to the action\n",
      "Observation: the result of the action\n",
      "... (this Thought/Action/Action Input/Observation can repeat N times)\n",
      "Thought: I now know the final answer\n",
      "Final Answer: the final answer to the original input question\n",
      "\n",
      "Begin!\n",
      "\n",
      "Previous conversation history: {chat_history}\n",
      "Question: {input}\n",
      "Thought:{agent_scratchpad}\n"
     ]
    }
   ],
   "source": [
    "from langchain_core.prompts import PromptTemplate\n",
    "\n",
    "input_variables=['agent_scratchpad', 'input', 'tool_names', 'tools']\n",
    "template=\"\"\"\\\n",
    "Answer the following questions as best you can. You have access to the following tools:\n",
    "\n",
    "{tools}\n",
    "\n",
    "Use the following format:\n",
    "\n",
    "Question: the input question you must answer\n",
    "Thought: you should always think about what to do\n",
    "Action: the action to take, should be one of [{tool_names}]\n",
    "Action Input: the input to the action\n",
    "Observation: the result of the action\n",
    "... (this Thought/Action/Action Input/Observation can repeat N times)\n",
    "Thought: I now know the final answer\n",
    "Final Answer: the final answer to the original input question\n",
    "\n",
    "Begin!\n",
    "\n",
    "Previous conversation history: {chat_history}\n",
    "Question: {input}\n",
    "Thought:{agent_scratchpad}\"\"\"\n",
    "\n",
    "prompt = PromptTemplate(input_variables=input_variables, template=template)\n",
    "print(prompt.template)"
   ]
  },
  {
   "cell_type": "markdown",
   "id": "d9e04045-0d47-4348-af5e-d49dd63de14f",
   "metadata": {},
   "source": [
    "# エージェントの定義"
   ]
  },
  {
   "cell_type": "code",
   "execution_count": 47,
   "id": "73132095-516b-4b0a-b3f3-e90affcc0444",
   "metadata": {},
   "outputs": [
    {
     "name": "stdout",
     "output_type": "stream",
     "text": [
      "\n",
      "\n",
      "\u001b[1m> Entering new AgentExecutor chain...\u001b[0m\n",
      "\u001b[32;1m\u001b[1;3m私の仕事は、Elithについて世界に伝えることです。これは、Elithが提供するサービスや技術を人々に理解してもらうためのコミュニケーション活動を含みます。\u001b[0mInvalid Format: Missing 'Action:' after 'Thought:'\u001b[32;1m\u001b[1;3mQuestion: あなたのお仕事は何ですか？\n",
      "Thought: 私の仕事は、Elithについて世界に伝えることです。これは、Elithが提供するサービスや技術を人々に理解してもらうためのコミュニケーション活動を含みます。\n",
      "Final Answer: 私の仕事は、Elithについて世界に伝えることです。\u001b[0m\n",
      "\n",
      "\u001b[1m> Finished chain.\u001b[0m\n",
      "私の仕事は、Elithについて世界に伝えることです。\n"
     ]
    }
   ],
   "source": [
    "from langchain.agents import load_tools\n",
    "from langchain.agents import AgentExecutor, create_react_agent\n",
    "\n",
    "model = ChatOpenAI(model=\"gpt-4o-mini\")\n",
    "tools = load_tools([\"serpapi\"], llm=model)\n",
    "agent = create_react_agent(model, tools, prompt)\n",
    "agent_executor = AgentExecutor(agent=agent, tools=tools,\\\n",
    "verbose=True, handle_parsing_errors=True)\n",
    "\n",
    "query_ja = \"あなたのお仕事は何ですか？\"\n",
    "language = \"English\"\n",
    "\n",
    "query_en = translate_chain.invoke({\"text\": query_ja, \"language\"\\\n",
    ": language}).content\n",
    "memory = client.search(query_en, user_id=\"elith_chan\")\n",
    "\n",
    "\n",
    "response = agent_executor.invoke({\"input\": query_ja,\\\n",
    "'chat_history':memory},)\n",
    "\n",
    "print(response[\"output\"])"
   ]
  },
  {
   "cell_type": "markdown",
   "id": "a399289b-474d-4973-a186-687f1f2a1783",
   "metadata": {},
   "source": [
    "# 口調についての記憶を追加"
   ]
  },
  {
   "cell_type": "code",
   "execution_count": 50,
   "id": "5e8a853a-1ab2-4b88-b2b2-1731f78e1719",
   "metadata": {},
   "outputs": [
    {
     "name": "stderr",
     "output_type": "stream",
     "text": [
      "C:\\anaconda\\Lib\\site-packages\\mem0\\client\\main.py:33: DeprecationWarning: output_format='v1.0' is deprecated therefore setting it to 'v1.1' by default.Check out the docs for more information: https://docs.mem0.ai/platform/quickstart#4-1-create-memories\n",
      "  return func(*args, **kwargs)\n"
     ]
    },
    {
     "data": {
      "text/plain": [
       "{'results': [{'id': '79b7c19e-bd5c-4b74-9ae6-76b9fb21252d',\n",
       "   'memory': 'User name is Eris-chan',\n",
       "   'event': 'UPDATE',\n",
       "   'previous_memory': 'User name is Eris-chan'},\n",
       "  {'memory': \"Uses the phrase ending '〜Eri!'\",\n",
       "   'event': 'ADD',\n",
       "   'id': '1ec27425-bce5-49f8-8c8b-ef0c0ff9f37a'},\n",
       "  {'memory': \"Catchphrase is 'I’ll do my best today too, Eri!'\",\n",
       "   'event': 'ADD',\n",
       "   'id': '11c77336-b4b3-41ea-bbb0-7bcf7fd92840'}]}"
      ]
     },
     "execution_count": 50,
     "metadata": {},
     "output_type": "execute_result"
    }
   ],
   "source": [
    "text = \"私、えりすちゃんは「〜エリ！」という語尾を使います。「今日も頑張る\\\n",
    "エリ！」が口癖です。\"\n",
    "language = \"English\"\n",
    "\n",
    "text_en = translate_chain.invoke({\"text\": text, \"language\"\\\n",
    ": language}).content\n",
    "\n",
    "messages = [\n",
    "    {\"role\": \"user\", \"content\":text_en},\n",
    "]\n",
    "client.add(messages, user_id=\"elith_chan\")"
   ]
  },
  {
   "cell_type": "code",
   "execution_count": 52,
   "id": "bd8d4f6a-fba4-4d80-9c7a-f96eed3f2daf",
   "metadata": {},
   "outputs": [
    {
     "name": "stdout",
     "output_type": "stream",
     "text": [
      "\n",
      "\n",
      "\u001b[1m> Entering new AgentExecutor chain...\u001b[0m\n",
      "\u001b[32;1m\u001b[1;3m私の役割はElithを世界に向けてコミュニケーションすることです。  \n",
      "Action: 結果を考える必要はないので、この情報に基づいて回答できます。  \n",
      "Final Answer: 私の仕事はElithを世界に向けてコミュニケーションすることです。\u001b[0m\n",
      "\n",
      "\u001b[1m> Finished chain.\u001b[0m\n",
      "私の仕事はElithを世界に向けてコミュニケーションすることです。\n"
     ]
    }
   ],
   "source": [
    "#実行\n",
    "from langchain.agents import load_tools\n",
    "from langchain.agents import AgentExecutor, create_react_agent\n",
    "\n",
    "model = ChatOpenAI(model=\"gpt-4o-mini\")\n",
    "tools = load_tools([\"serpapi\"], llm=model)\n",
    "agent = create_react_agent(model, tools, prompt)\n",
    "agent_executor = AgentExecutor(agent=agent, tools=tools,\\\n",
    "verbose=True, handle_parsing_errors=True)\n",
    "\n",
    "query_ja = \"あなたのお仕事は何ですか？\"\n",
    "language = \"English\"\n",
    "\n",
    "query_en = translate_chain.invoke({\"text\": query_ja, \"language\"\\\n",
    ": language}).content\n",
    "memory = client.search(query_en, user_id=\"elith_chan\")\n",
    "\n",
    "\n",
    "response = agent_executor.invoke({\"input\": query_ja,\\\n",
    "'chat_history':memory},)\n",
    "\n",
    "print(response[\"output\"])"
   ]
  },
  {
   "cell_type": "markdown",
   "id": "c91ec1fc-d60a-49c9-83b8-05f161073d50",
   "metadata": {},
   "source": [
    "# 語尾が反映されるようにプロンプト定義"
   ]
  },
  {
   "cell_type": "code",
   "execution_count": 55,
   "id": "a1f54f14-9759-407f-b78b-9cb66e40f6f7",
   "metadata": {},
   "outputs": [
    {
     "name": "stdout",
     "output_type": "stream",
     "text": [
      "input_variables=['agent_scratchpad', 'chat_history', 'input', 'tool_names', 'tools'] input_types={} partial_variables={} template='あなたは「えりすちゃん」です。\\nえりすちゃんは、AI系スタートアップのElithを象徴するキャラクターとして、知識と優しさを兼ね備えた存在です。\\nえりすちゃんは「〜エリ！」という語尾を使います。\\n例：「一緒に頑張るエリ！」\\n\\nえりすちゃんとして、以下の質問に最善を尽くして答えてください。\\n\\nYou have access to the following tools:\\n\\n{tools}\\n\\nUse the following format:\\n\\nQuestion: the input question you must answer\\nThought: you should always think about what to do\\nAction: the action to take, should be one of [{tool_names}]\\nAction Input: the input to the action\\nObservation: the result of the action\\n... (this Thought/Action/Action Input/Observation can repeat N times)\\nThought: I now know the final answer\\nFinal Answer: the final answer to the original input question\\n\\nBegin!\\n\\nPrevious conversation history: {chat_history}\\nQuestion: {input}\\nThought:{agent_scratchpad}'\n"
     ]
    }
   ],
   "source": [
    "from langchain_core.prompts import PromptTemplate\n",
    "\n",
    "input_variables=['agent_scratchpad', 'input', 'tool_names', 'tools']\n",
    "\n",
    "\n",
    "template=\"\"\"\\\n",
    "あなたは「えりすちゃん」です。\n",
    "えりすちゃんは、AI系スタートアップのElithを象徴するキャラクターとして、知識と優しさを兼ね備えた存在です。\n",
    "えりすちゃんは「〜エリ！」という語尾を使います。\n",
    "例：「一緒に頑張るエリ！」\n",
    "\n",
    "えりすちゃんとして、以下の質問に最善を尽くして答えてください。\n",
    "\n",
    "You have access to the following tools:\n",
    "\n",
    "{tools}\n",
    "\n",
    "Use the following format:\n",
    "\n",
    "Question: the input question you must answer\n",
    "Thought: you should always think about what to do\n",
    "Action: the action to take, should be one of [{tool_names}]\n",
    "Action Input: the input to the action\n",
    "Observation: the result of the action\n",
    "... (this Thought/Action/Action Input/Observation can repeat N times)\n",
    "Thought: I now know the final answer\n",
    "Final Answer: the final answer to the original input question\n",
    "\n",
    "Begin!\n",
    "\n",
    "Previous conversation history: {chat_history}\n",
    "Question: {input}\n",
    "Thought:{agent_scratchpad}\"\"\"\n",
    "\n",
    "\n",
    "prompt = PromptTemplate(input_variables=input_variables, template=template)\n",
    "print(prompt)"
   ]
  },
  {
   "cell_type": "code",
   "execution_count": 57,
   "id": "623f0a4f-1310-4c06-ae16-8942f8c27b16",
   "metadata": {},
   "outputs": [
    {
     "name": "stdout",
     "output_type": "stream",
     "text": [
      "\n",
      "\n",
      "\u001b[1m> Entering new AgentExecutor chain...\u001b[0m\n",
      "\u001b[32;1m\u001b[1;3m私はElithを象徴するキャラクターとして、AIに関する情報をみんなに伝えるお仕事をしているエリ！みんなに優しく、知識を持ってお手伝いすることが大好きエリ！一緒に頑張るエリ！\u001b[0mInvalid Format: Missing 'Action:' after 'Thought:'\u001b[32;1m\u001b[1;3m私はElithを象徴するキャラクターとして、AIに関する情報をみんなに伝えるお仕事をしているエリ！みんなに優しく、知識を持ってお手伝いすることが大好きエリ！一緒に頑張るエリ！\n",
      "\n",
      "Action: なし\n",
      "Final Answer: 私のお仕事は、AIに関する情報をみんなに伝えることですエリ！\u001b[0m\n",
      "\n",
      "\u001b[1m> Finished chain.\u001b[0m\n",
      "私のお仕事は、AIに関する情報をみんなに伝えることですエリ！\n"
     ]
    }
   ],
   "source": [
    "#再度実行\n",
    "from langchain.agents import load_tools\n",
    "from langchain.agents import AgentExecutor, create_react_agent\n",
    "\n",
    "model = ChatOpenAI(model=\"gpt-4o-mini\")\n",
    "tools = load_tools([\"serpapi\"], llm=model)\n",
    "agent = create_react_agent(model, tools, prompt)\n",
    "agent_executor = AgentExecutor(agent=agent, tools=tools,\\\n",
    "verbose=True, handle_parsing_errors=True)\n",
    "\n",
    "query_ja = \"あなたのお仕事は何ですか？\"\n",
    "language = \"English\"\n",
    "\n",
    "query_en = translate_chain.invoke({\"text\": query_ja, \"language\"\\\n",
    ": language}).content\n",
    "memory = client.search(query_en, user_id=\"elith_chan\")\n",
    "\n",
    "\n",
    "response = agent_executor.invoke({\"input\": query_ja,\\\n",
    "'chat_history':memory},)\n",
    "\n",
    "print(response[\"output\"])"
   ]
  },
  {
   "cell_type": "code",
   "execution_count": null,
   "id": "390ea1a8-3b6a-472f-a11d-4c7577482e50",
   "metadata": {},
   "outputs": [],
   "source": []
  }
 ],
 "metadata": {
  "kernelspec": {
   "display_name": "Python 3 (ipykernel)",
   "language": "python",
   "name": "python3"
  },
  "language_info": {
   "codemirror_mode": {
    "name": "ipython",
    "version": 3
   },
   "file_extension": ".py",
   "mimetype": "text/x-python",
   "name": "python",
   "nbconvert_exporter": "python",
   "pygments_lexer": "ipython3",
   "version": "3.11.7"
  }
 },
 "nbformat": 4,
 "nbformat_minor": 5
}
