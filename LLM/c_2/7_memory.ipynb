{
 "cells": [
  {
   "cell_type": "markdown",
   "id": "59c8fccb-0fb4-4cba-9eed-b6715ba63ec9",
   "metadata": {},
   "source": [
    "# 記憶を持つエージェント"
   ]
  },
  {
   "cell_type": "markdown",
   "id": "153de4db-31be-48f8-a3a4-c744f26664b5",
   "metadata": {},
   "source": [
    "# 準備"
   ]
  },
  {
   "cell_type": "code",
   "execution_count": 6,
   "id": "cb5a2d44-552d-4a04-9bbf-b8b91933d4de",
   "metadata": {},
   "outputs": [
    {
     "name": "stdout",
     "output_type": "stream",
     "text": [
      "Requirement already satisfied: langchain_community in c:\\anaconda\\lib\\site-packages (0.3.23)Note: you may need to restart the kernel to use updated packages.\n",
      "\n",
      "Requirement already satisfied: langchain-core<1.0.0,>=0.3.56 in c:\\anaconda\\lib\\site-packages (from langchain_community) (0.3.58)\n",
      "Requirement already satisfied: langchain<1.0.0,>=0.3.24 in c:\\anaconda\\lib\\site-packages (from langchain_community) (0.3.25)\n",
      "Requirement already satisfied: SQLAlchemy<3,>=1.4 in c:\\anaconda\\lib\\site-packages (from langchain_community) (2.0.25)\n",
      "Requirement already satisfied: requests<3,>=2 in c:\\anaconda\\lib\\site-packages (from langchain_community) (2.31.0)\n",
      "Requirement already satisfied: PyYAML>=5.3 in c:\\anaconda\\lib\\site-packages (from langchain_community) (6.0.1)\n",
      "Requirement already satisfied: aiohttp<4.0.0,>=3.8.3 in c:\\anaconda\\lib\\site-packages (from langchain_community) (3.9.3)\n",
      "Requirement already satisfied: tenacity!=8.4.0,<10,>=8.1.0 in c:\\anaconda\\lib\\site-packages (from langchain_community) (9.1.2)\n",
      "Requirement already satisfied: dataclasses-json<0.7,>=0.5.7 in c:\\anaconda\\lib\\site-packages (from langchain_community) (0.6.7)\n",
      "Requirement already satisfied: pydantic-settings<3.0.0,>=2.4.0 in c:\\anaconda\\lib\\site-packages (from langchain_community) (2.9.1)\n",
      "Requirement already satisfied: langsmith<0.4,>=0.1.125 in c:\\anaconda\\lib\\site-packages (from langchain_community) (0.3.42)\n",
      "Requirement already satisfied: httpx-sse<1.0.0,>=0.4.0 in c:\\anaconda\\lib\\site-packages (from langchain_community) (0.4.0)\n",
      "Requirement already satisfied: numpy>=1.26.2 in c:\\anaconda\\lib\\site-packages (from langchain_community) (1.26.4)\n",
      "Requirement already satisfied: aiosignal>=1.1.2 in c:\\anaconda\\lib\\site-packages (from aiohttp<4.0.0,>=3.8.3->langchain_community) (1.2.0)\n",
      "Requirement already satisfied: attrs>=17.3.0 in c:\\anaconda\\lib\\site-packages (from aiohttp<4.0.0,>=3.8.3->langchain_community) (23.1.0)\n",
      "Requirement already satisfied: frozenlist>=1.1.1 in c:\\anaconda\\lib\\site-packages (from aiohttp<4.0.0,>=3.8.3->langchain_community) (1.4.0)\n",
      "Requirement already satisfied: multidict<7.0,>=4.5 in c:\\anaconda\\lib\\site-packages (from aiohttp<4.0.0,>=3.8.3->langchain_community) (6.0.4)\n",
      "Requirement already satisfied: yarl<2.0,>=1.0 in c:\\anaconda\\lib\\site-packages (from aiohttp<4.0.0,>=3.8.3->langchain_community) (1.9.3)\n",
      "Requirement already satisfied: marshmallow<4.0.0,>=3.18.0 in c:\\anaconda\\lib\\site-packages (from dataclasses-json<0.7,>=0.5.7->langchain_community) (3.26.1)\n",
      "Requirement already satisfied: typing-inspect<1,>=0.4.0 in c:\\anaconda\\lib\\site-packages (from dataclasses-json<0.7,>=0.5.7->langchain_community) (0.9.0)\n",
      "Requirement already satisfied: langchain-text-splitters<1.0.0,>=0.3.8 in c:\\anaconda\\lib\\site-packages (from langchain<1.0.0,>=0.3.24->langchain_community) (0.3.8)\n",
      "Requirement already satisfied: pydantic<3.0.0,>=2.7.4 in c:\\anaconda\\lib\\site-packages (from langchain<1.0.0,>=0.3.24->langchain_community) (2.10.3)\n",
      "Requirement already satisfied: jsonpatch<2.0,>=1.33 in c:\\anaconda\\lib\\site-packages (from langchain-core<1.0.0,>=0.3.56->langchain_community) (1.33)\n",
      "Requirement already satisfied: packaging<25,>=23.2 in c:\\anaconda\\lib\\site-packages (from langchain-core<1.0.0,>=0.3.56->langchain_community) (23.2)\n",
      "Requirement already satisfied: typing-extensions>=4.7 in c:\\anaconda\\lib\\site-packages (from langchain-core<1.0.0,>=0.3.56->langchain_community) (4.12.2)\n",
      "Requirement already satisfied: httpx<1,>=0.23.0 in c:\\anaconda\\lib\\site-packages (from langsmith<0.4,>=0.1.125->langchain_community) (0.28.1)\n",
      "Requirement already satisfied: orjson<4.0.0,>=3.9.14 in c:\\anaconda\\lib\\site-packages (from langsmith<0.4,>=0.1.125->langchain_community) (3.10.18)\n",
      "Requirement already satisfied: requests-toolbelt<2.0.0,>=1.0.0 in c:\\anaconda\\lib\\site-packages (from langsmith<0.4,>=0.1.125->langchain_community) (1.0.0)\n",
      "Requirement already satisfied: zstandard<0.24.0,>=0.23.0 in c:\\anaconda\\lib\\site-packages (from langsmith<0.4,>=0.1.125->langchain_community) (0.23.0)\n",
      "Requirement already satisfied: python-dotenv>=0.21.0 in c:\\anaconda\\lib\\site-packages (from pydantic-settings<3.0.0,>=2.4.0->langchain_community) (0.21.0)\n",
      "Requirement already satisfied: typing-inspection>=0.4.0 in c:\\anaconda\\lib\\site-packages (from pydantic-settings<3.0.0,>=2.4.0->langchain_community) (0.4.0)\n",
      "Requirement already satisfied: charset-normalizer<4,>=2 in c:\\anaconda\\lib\\site-packages (from requests<3,>=2->langchain_community) (2.0.4)\n",
      "Requirement already satisfied: idna<4,>=2.5 in c:\\anaconda\\lib\\site-packages (from requests<3,>=2->langchain_community) (2.10)\n",
      "Requirement already satisfied: urllib3<3,>=1.21.1 in c:\\anaconda\\lib\\site-packages (from requests<3,>=2->langchain_community) (2.0.7)\n",
      "Requirement already satisfied: certifi>=2017.4.17 in c:\\anaconda\\lib\\site-packages (from requests<3,>=2->langchain_community) (2024.2.2)\n",
      "Requirement already satisfied: greenlet!=0.4.17 in c:\\anaconda\\lib\\site-packages (from SQLAlchemy<3,>=1.4->langchain_community) (3.0.1)\n",
      "Requirement already satisfied: anyio in c:\\anaconda\\lib\\site-packages (from httpx<1,>=0.23.0->langsmith<0.4,>=0.1.125->langchain_community) (4.2.0)\n",
      "Requirement already satisfied: httpcore==1.* in c:\\anaconda\\lib\\site-packages (from httpx<1,>=0.23.0->langsmith<0.4,>=0.1.125->langchain_community) (1.0.9)\n",
      "Requirement already satisfied: h11>=0.16 in c:\\anaconda\\lib\\site-packages (from httpcore==1.*->httpx<1,>=0.23.0->langsmith<0.4,>=0.1.125->langchain_community) (0.16.0)\n",
      "Requirement already satisfied: jsonpointer>=1.9 in c:\\anaconda\\lib\\site-packages (from jsonpatch<2.0,>=1.33->langchain-core<1.0.0,>=0.3.56->langchain_community) (2.1)\n",
      "Requirement already satisfied: annotated-types>=0.6.0 in c:\\anaconda\\lib\\site-packages (from pydantic<3.0.0,>=2.7.4->langchain<1.0.0,>=0.3.24->langchain_community) (0.7.0)\n",
      "Requirement already satisfied: pydantic-core==2.27.1 in c:\\anaconda\\lib\\site-packages (from pydantic<3.0.0,>=2.7.4->langchain<1.0.0,>=0.3.24->langchain_community) (2.27.1)\n",
      "Requirement already satisfied: mypy-extensions>=0.3.0 in c:\\anaconda\\lib\\site-packages (from typing-inspect<1,>=0.4.0->dataclasses-json<0.7,>=0.5.7->langchain_community) (1.0.0)\n",
      "Requirement already satisfied: sniffio>=1.1 in c:\\anaconda\\lib\\site-packages (from anyio->httpx<1,>=0.23.0->langsmith<0.4,>=0.1.125->langchain_community) (1.3.0)\n"
     ]
    }
   ],
   "source": [
    "pip install langchain_community"
   ]
  },
  {
   "cell_type": "code",
   "execution_count": 9,
   "id": "6e3e824f-8d49-42b0-9b0c-a3e8110944a3",
   "metadata": {},
   "outputs": [
    {
     "name": "stdin",
     "output_type": "stream",
     "text": [
      "OpenAI API キーを入力してください:  ········\n",
      "SERPAPI API キーを入力してください:  ········\n"
     ]
    }
   ],
   "source": [
    "import getpass\n",
    "import os\n",
    "api_key = getpass.getpass(\"OpenAI API キーを入力してください: \")\n",
    "os.environ[\"OPENAI_API_KEY\"] = api_key\n",
    "\n",
    "api_key1 = getpass.getpass(\"SERPAPI API キーを入力してください: \")\n",
    "os.environ[\"SERPAPI_API_KEY\"] = api_key1"
   ]
  },
  {
   "cell_type": "markdown",
   "id": "b3f570a2-8156-47f4-9d40-cfddcb865a59",
   "metadata": {},
   "source": [
    "# プロンプトの定義"
   ]
  },
  {
   "cell_type": "code",
   "execution_count": 15,
   "id": "47ab1548-f6c4-4037-9b09-8f51932e63df",
   "metadata": {},
   "outputs": [
    {
     "name": "stdout",
     "output_type": "stream",
     "text": [
      "Answer the following questions as best you can. You have access to the following tools:\n",
      "\n",
      "{tools}\n",
      "\n",
      "Use the following format:\n",
      "\n",
      "Question: the input question you must answer\n",
      "Thought: you should always think about what to do\n",
      "Action: the action to take, should be one of [{tool_names}]\n",
      "Action Input: the input to the action\n",
      "Observation: the result of the action\n",
      "... (this Thought/Action/Action Input/Observation can repeat N times)\n",
      "Thought: I now know the final answer\n",
      "Final Answer: the final answer to the original input question\n",
      "\n",
      "Begin!\n",
      "\n",
      "Previous conversation history: {chat_history}\n",
      "Question: {input}\n",
      "Thought:{agent_scratchpad}\n"
     ]
    }
   ],
   "source": [
    "from langchain_core.prompts import PromptTemplate\n",
    "\n",
    "input_variables=['agent_scratchpad', 'input', 'tool_names', 'tools']\n",
    "template=\"\"\"\\\n",
    "Answer the following questions as best you can. You have access to the following tools:\n",
    "\n",
    "{tools}\n",
    "\n",
    "Use the following format:\n",
    "\n",
    "Question: the input question you must answer\n",
    "Thought: you should always think about what to do\n",
    "Action: the action to take, should be one of [{tool_names}]\n",
    "Action Input: the input to the action\n",
    "Observation: the result of the action\n",
    "... (this Thought/Action/Action Input/Observation can repeat N times)\n",
    "Thought: I now know the final answer\n",
    "Final Answer: the final answer to the original input question\n",
    "\n",
    "Begin!\n",
    "\n",
    "Previous conversation history: {chat_history}\n",
    "Question: {input}\n",
    "Thought:{agent_scratchpad}\"\"\"\n",
    "\n",
    "prompt = PromptTemplate(input_variables=input_variables, template=template)\n",
    "print(prompt.template)"
   ]
  },
  {
   "cell_type": "markdown",
   "id": "5de75750-4967-40c8-9292-9fad61ab4434",
   "metadata": {},
   "source": [
    "# 会話ごとに記憶を切り替える"
   ]
  },
  {
   "cell_type": "code",
   "execution_count": 18,
   "id": "575c3c71-6056-43e7-8642-a009d7c8b43b",
   "metadata": {},
   "outputs": [],
   "source": [
    "from langchain.memory import ChatMessageHistory\n",
    "\n",
    "store = {}\n",
    "\n",
    "def get_by_session_id(session_id: str) -> ChatMessageHistory:\n",
    "    if session_id not in store:\n",
    "        store[session_id] = ChatMessageHistory()\n",
    "    return store[session_id]"
   ]
  },
  {
   "cell_type": "markdown",
   "id": "be1867b7-3c90-4960-b5f5-1a698a58cc80",
   "metadata": {},
   "source": [
    "# メッセージ履歴を追加"
   ]
  },
  {
   "cell_type": "code",
   "execution_count": 21,
   "id": "2e8de0c3-31e7-4eec-9f58-bb49d6a72592",
   "metadata": {},
   "outputs": [
    {
     "name": "stdout",
     "output_type": "stream",
     "text": [
      "\n",
      "\n",
      "\u001b[1m> Entering new AgentExecutor chain...\u001b[0m\n",
      "\u001b[32;1m\u001b[1;3m株式会社Elithの住所に関する最新の公式情報を確認する必要があります。公式サイトや最新のプレスリリースなどを検索するのが良さそうです。  \n",
      "Action: Search  \n",
      "Action Input: 株式会社Elith 住所 公式サイト  \u001b[0m\u001b[36;1m\u001b[1;3m['株式会社エリスの公式HPです。 Elithは、最先端のAI技術をビジネス実装し価値を生み出す松尾研発スタートアップです.', '\\u200bElith OFFICE · 東京都文京区本郷3-30-10本郷 K&Kビル1F · 東京メトロ丸ノ内線 / 本郷三丁目駅 徒歩約2分 都営大江戸線 / 本郷三丁目駅 徒歩約3分 東京メトロ千代田線 / ...', '会社概要株式会社Elithは、東大松尾研発スタートアップ(R)として、最先端のAI ... 住所. 日本113-0033東京都文京区本郷3-30-10本郷 K&Kビル1F. この出展社を見ている ...', '連絡先. https://www.elith.co.jp/ contact@elith.co.jp. 住所. 日本113-0033東京都文京区本郷3-30-10本郷 K&Kビル1F. この出展社を見ている人は、こちらの出展社も見てい ...', '法人番号: 6011001151296 ; 法人名: 株式会社Elith ; 法人名ふりがな: えりす ; 法人名英語 ; 本店所在地: 東京都文京区本郷3丁目30番10号本郷K＆Kビル1F ...', '東大 松尾研発スタートアップ®の株式会社Elith と株式会社ニューテックが協業を開始. 2025年2月17日 19時00分. Elith執筆『LLMエージェントの最新事情』 ...', '株式会社Elithの概要. 住所, 〒 〒113-0033 東京都文京区本郷3-30-10本郷 K&Kビル1F. 分野, 映像認識・画像解析（視覚的）, 音声・音による入力（聴覚的）. 業界, 医療 ...', '- 会社名：株式会社Elith · - 代表者：若林怜帆人（代表取締役）、井上顧基（取締役CEO兼CTO） · - 所在地：東京都渋谷区恵比寿西2-3-13-601 · - 会社ウェブサイト：Elithの ...', '\"AIの「今」をON AIR\" 株式会社Elithが主催する、AIの最新動向についてラフに語るラジオです 「AIでこれから世の中はどう変わるのか？」「自分たちはAIをどのように ...', '東大・松尾研発スタートアップの株式会社Elith(エリス)の公式アカウントです。 AI開発・研究を行っています。気軽にリプください、たくさん交流しましょう！']\u001b[0m\u001b[32;1m\u001b[1;3m私は株式会社Elithの最新の公式住所を確認しました。  \n",
      "Action: Search  \n",
      "Action Input: 株式会社Elith 住所  \u001b[0m\u001b[36;1m\u001b[1;3m['株式会社 Elith type: Computer consultant in Bunkyō, Japan.', '株式会社 Elith entity_type: local_nav.', '株式会社 Elith kgmid: /g/11x7yhkxfd.', '株式会社 Elith place_id: ChIJlSbgVo73Fg0RhBVMyBn_maA.', '株式会社 Elith address: Japan, 〒113-0033 Tokyo, Bunkyo City, Hongo, 3 Chome−30−10 K&Kビル 1F.', '株式会社 Elith phone: +81 80-9759-8070.', '株式会社 Elith raw_hours: Open ⋅ Closes 6 PMUpdated by this business 6 weeks agoUpdated by this business 6 weeks ago.', '\\u200bElith OFFICE · 東京都文京区本郷3-30-10本郷 K&Kビル1F · 東京メトロ丸ノ内線 / 本郷三丁目駅 徒歩約2分 都営大江戸線 / 本郷三丁目駅 徒歩約3分 東京メトロ千代田線 / ...', '会社概要株式会社Elithは、東大松尾研発スタートアップ(R)として、最先端のAI ... 住所. 日本113-0033東京都文京区本郷3-30-10本郷 K&Kビル1F. この出展社を見ている ...', '企業名: 株式会社Elith ; 英語名: Elith Inc. ; 代表者名: 若林 怜帆人 ; 住所: 東京都文京区本郷3-30-10 本郷K&Kビル 1F ; URL: https://elith.co.jp/.', '住所, 東京都文京区本郷3丁目30番10号本郷K&Kビル1F. 会社HP, https://elith.co.jp ... 東大 松尾研発スタートアップ(R)の株式会社Elithとai6株式会社が業務提携を締結.', '株式会社エリスの公式HPです。 Elithは、最先端のAI技術をビジネス実装し価値を生み出す松尾研発スタートアップです.', '連絡先. https://www.elith.co.jp/ contact@elith.co.jp. 住所. 日本113-0033東京都文京区本郷3-30-10本郷 K&Kビル1F. この出展社を見ている人は、こちらの出展社も見てい ...', 'エリス · 株式会社 · 6011001151296 · 011001151296 · 〒1130033 東京都文京区本郷3丁目30番10号本郷K＆Kビル1F. Googleマップで見る ...', 'elith.co.jp/ contact@elith.co.jp. COMPANY ADDRESS. 日本113-0033東京都文京区本郷3-30-10本郷 K&Kビル1F. STAND(S) SHARED WITH. Main standholder. 株式会社アウト ...', '株式会社Elithの概要. 住所, 〒 〒113-0033 東京都文京区本郷3-30-10本郷 K&Kビル1F. 分野, 映像認識・画像解析（視覚的）, 音声・音による入力（聴覚的）. 業界, 医療 ...', '株式会社Elith; 法人名ふりがな: えりす; 法人名英語: 本店所在地: 東京都文京区本郷3丁目30番10号本郷K＆Kビル1F. 法人基本情報（その他）. 代表者名: 資本金 ...']\u001b[0m\u001b[32;1m\u001b[1;3m全ての情報を統合し、株式会社Elithの公式な最新住所を確認しました。  \n",
      "Final Answer: 株式会社Elithの住所は、〒113-0033 東京都文京区本郷3-30-10 本郷K&Kビル1Fです。\u001b[0m\n",
      "\n",
      "\u001b[1m> Finished chain.\u001b[0m\n"
     ]
    }
   ],
   "source": [
    "from langchain_openai import ChatOpenAI\n",
    "from langchain.agents import load_tools\n",
    "from langchain.agents import AgentExecutor, create_react_agent\n",
    "from langchain_core.runnables.history import\\\n",
    "RunnableWithMessageHistory\n",
    "\n",
    "model = ChatOpenAI(model=\"gpt-4o-mini\")\n",
    "tools = load_tools([\"serpapi\"], llm=model)\n",
    "agent = create_react_agent(model, tools, prompt)\n",
    "agent_executor = AgentExecutor(agent=agent, tools=tools,\\\n",
    "verbose=True)\n",
    "\n",
    "agent_with_chat_history = RunnableWithMessageHistory(\n",
    "    agent_executor,\n",
    "    get_by_session_id,\n",
    "    input_messages_key=\"input\",\n",
    "    history_messages_key=\"chat_history\",\n",
    ")\n",
    "\n",
    "response = agent_with_chat_history.invoke({\"input\": \"株式会社\\\n",
    "Elithの住所を教えてください。最新の公式情報として公開されているものを教え\\\n",
    "てください。\"},\n",
    "    config={\"configurable\": {\"session_id\": \"test-session1\"}})"
   ]
  },
  {
   "cell_type": "code",
   "execution_count": 23,
   "id": "1fc21464-58d4-4540-a477-561cd353eabf",
   "metadata": {},
   "outputs": [
    {
     "name": "stdout",
     "output_type": "stream",
     "text": [
      "Human: 株式会社Elithの住所を教えてください。最新の公式情報として公開されているものを教えてください。\n",
      "AI: 株式会社Elithの住所は、〒113-0033 東京都文京区本郷3-30-10 本郷K&Kビル1Fです。\n"
     ]
    }
   ],
   "source": [
    "print(get_by_session_id(\"test-session1\"))"
   ]
  },
  {
   "cell_type": "code",
   "execution_count": 25,
   "id": "fd88e567-dd58-4ae3-a53b-833bd91cfa99",
   "metadata": {},
   "outputs": [
    {
     "name": "stdout",
     "output_type": "stream",
     "text": [
      "\n",
      "\n",
      "\u001b[1m> Entering new AgentExecutor chain...\u001b[0m\n",
      "\u001b[32;1m\u001b[1;3m株式会社Elithについて調べる必要がある。  \n",
      "Action: Search  \n",
      "Action Input: \"株式会社Elith 会社概要\"  \u001b[0m\u001b[36;1m\u001b[1;3m[' entity_type: related_questions.', '事業内容：AI（人工知能）に関する研究、開発、設計、企画、教育、販売、保守、コンサルティング業務所在地：東京都渋谷区恵比寿西2-3-13-601\\u200b', '株式会社エリスの公式HPです。 Elithは、最先端のAI技術をビジネス実装し価値を生み出す松尾研発スタートアップです.', '会社概要株式会社Elithは、東大松尾研発スタートアップ(R)として、最先端のAI技術を活用しビジネスに新たな価値を提供しています。国際学会発表・書籍出版の学術実績と ...', '株式会社Elithの魅力を伝えるコンテンツと、住所や代表・従業員などの会社情報です。ElithはAIのもっと身近な活用を推進して、より暮らしやすい世の中にします。', '会社概要株式会社Elithは、東大松尾研発スタートアップ(R)として、最先端のAI技術を活用しビジネスに新たな価値を提供しています。国際学会発表・書籍出版の学術実績と ...', '製造・金融・医療業等向けに、生成AI利活用・LLM、画像AI開発・システム構築、AI教育アドバイザリー等のソリューションを提供。 決算書作成RPA対応AIを活用した自社株 ...', '株式会社Elithの概要. 住所, 〒 〒113-0033 東京都文京区本郷3-30-10本郷 K&Kビル1F. 分野, 映像認識・画像解析（視覚的）, 音声・音による入力（聴覚的）. 業界, 医療 ...', '株式会社Elith · 事業内容 · 株主. Not Available. 49 百万円. 評価額. 5 百万円. 累計調達額. 9999人. ログインして見る. 社員数 前月 ...', '高度な画像解析技術で半導体部品の微細な異常を検知し、効率的な欠陥識別と製品品質向上をサポートします。また、異常検知結果を活用し、生産プロセスを最適化して歩留りを ...', '東大・松尾研発スタートアップの株式会社Elith(エリス)の公式アカウントです。 AI開発・研究を行っています。気軽にリプください、たくさん交流しましょう！']\u001b[0m\u001b[32;1m\u001b[1;3m株式会社Elithは、最先端のAI技術をビジネスに実装することを目的とした、東京大学松尾研究室から派生したスタートアップです。具体的には、AIに関する研究、開発、設計、教育、販売、保守、コンサルティング業務などを行っています。主に製造、金融、医療業界向けに、生成AIや画像AIの開発、システム構築、AI教育アドバイザリーなどのソリューションを提供しています。  \n",
      "Final Answer: 株式会社Elithは、AI技術を活用してビジネスに新たな価値を提供するスタートアップです。\u001b[0m\n",
      "\n",
      "\u001b[1m> Finished chain.\u001b[0m\n"
     ]
    }
   ],
   "source": [
    "response = agent_with_chat_history.invoke({\"input\": \"先ほど尋ね\\\n",
    "た会社は何の会社ですか？\"},\n",
    "    config={\"configurable\": {\"session_id\": \"test-session1\"}})"
   ]
  },
  {
   "cell_type": "code",
   "execution_count": 27,
   "id": "1e18f9e7-d6c8-4726-990f-fc796ecf3b73",
   "metadata": {},
   "outputs": [
    {
     "name": "stdout",
     "output_type": "stream",
     "text": [
      "Human: 株式会社Elithの住所を教えてください。最新の公式情報として公開されているものを教えてください。\n",
      "AI: 株式会社Elithの住所は、〒113-0033 東京都文京区本郷3-30-10 本郷K&Kビル1Fです。\n",
      "Human: 先ほど尋ねた会社は何の会社ですか？\n",
      "AI: 株式会社Elithは、AI技術を活用してビジネスに新たな価値を提供するスタートアップです。\n"
     ]
    }
   ],
   "source": [
    "print(get_by_session_id(\"test-session1\"))"
   ]
  },
  {
   "cell_type": "code",
   "execution_count": 29,
   "id": "621af8a5-207e-4785-bffd-4a49b089a172",
   "metadata": {},
   "outputs": [
    {
     "name": "stdout",
     "output_type": "stream",
     "text": [
      "\n"
     ]
    }
   ],
   "source": [
    "print(get_by_session_id(\"test-session2\"))"
   ]
  },
  {
   "cell_type": "code",
   "execution_count": 31,
   "id": "7babf797-c409-4922-8706-181c3f90c891",
   "metadata": {},
   "outputs": [
    {
     "name": "stdout",
     "output_type": "stream",
     "text": [
      "\n",
      "\n",
      "\u001b[1m> Entering new AgentExecutor chain...\u001b[0m\n",
      "\u001b[32;1m\u001b[1;3m会社についての具体的な情報が必要ですので、その会社の名前や業種などの詳細がわからないと分析できません。もしその情報を知っている場合は教えてください。そうでない場合は、一般的にその会社の業界や製品について調べる必要があります。そこで、会社名を特定するために検索を行います。\n",
      "\n",
      "Action: Search\n",
      "Action Input: 先ほど尋ねた会社は何の会社ですか？\n",
      "\u001b[0m\u001b[36;1m\u001b[1;3m[' entity_type: related_questions.', '例えば、ちょっと仲良くなった人とか、習い事の人とか・・・に、あまり言いたくないんです。 例えば、「あのへんの会社でOLしてます」でいいでしょうか。', '「お聞きしました」と「伺いました」の直訳的な意味. 「お聞きしました」は文字通り「聞いた」という意味で、自分自身が何かを聞いたときに用いる表現です ...', '取引先や顧客などに向けた内容をメールで送信する際には、自分の勤める会社のことを「弊社」と表現するのが基本です。 立場によって変わるケースがある ...', 'ずっと一緒に住んでいますか。 Fさんの仕事は何ですか。 Mさんも仕事しますか。 毎日、仕事ありません。ない？ じゃ、毎日、家にいますか。家で何をしますか。', '面接官を担当する方は知っておくべき、人柄を見抜く質問や、聞いてはいけないタブーな質問を例文を交え解説します。面接前で不安な方も是非ご覧ください。', '「訪ねる」の謙譲語である「伺う」は、ビジネスでもプライベートでも使われています。 また、「伺う」は相手に質問をする「尋ねる」の謙譲語でも ...', '会社訪問の質問で好印象を残すために、聞きたい内容の要点を明確にしておきましょう！ 今回は会社訪問の事前準備や質問時のマナーを紹介していきます。', '「おすすめは何ですか？」と聞かれたとき、感じのいい人は何と答える？ それを語るのは、「感じのいい人」に生まれ変われるとっておきのコツを紹介する ...', '「した方がいいですか」は丁寧語の疑問形を含み、相手への尊重と配慮を示す表現となっているので、目上の人にも使えます。ただし、相手に尋ねるまでもない ...', '電話対応が苦手と感じている人のために、実際の仕事で使える基本的な言葉遣いや例文を紹介します。']\u001b[0m\u001b[32;1m\u001b[1;3m会社についての情報が不足しており、明確な回答を見つけるのが難しいようです。具体的な会社名や業種が分からない場合は、一般的な情報を調べる必要があります。次に何をすべきか検討します。\n",
      "\n",
      "Action: Search\n",
      "Action Input: 会社についての一般的な情報を知るためのキーワード\n",
      "\u001b[0m\u001b[36;1m\u001b[1;3m[' entity_type: related_questions.', '最も一般的な調べ方は、Googleの検索結果下部に表示される「関連する検索キーワード」をチェックすることです。調査したいメインキーワードを検索 ...', 'SEOで集客したいけどキーワードの探し方が分からない」こんなお悩みありませんか？ 初心者でも簡単にできる、会社ホームページのキーワードの見つけ方 ...', 'まずは、以下の項目について調べてみましょう。 企業情報. 「企業理念」「設立年度」「資本金」「本社・事業所の所在地」といった、企業の基本的な情報 ...', '情報収集を行う際は「競合分析のため」「新規事業立ち上げのため」「顧客ニーズ把握のため」など、情報を集める意図を明確にしましょう。また「誰が活用 ...', '原則的にキーワードリサーチはSEOキャンペーンをより強固なものにするために行なうものです。定番のキーワードリサーチでは、『月間検索ボリューム』『 ...', '社会人になると、普段の会話や会議など様々なシーンで、意味のわからないビジネス用語やカタカナ用語が飛び交うことがあります。', 'この記事では、業界動向の調べ方や活用したいフレームワークなどについて解説します。 目次. 業界動向を調べるために必要な情報; 業界動向を調べる重要性; 業界動向の把握 ...', '一般的な「プロジェクトマネジャー」の役割は「設定された課題を解決し、プロジェクトを成功に導くこと」ですが、オージス総研の「プロジェクトマネジャー」は、その範囲に ...', '情報収集はビジネスを成功させるために欠かせない活動です。ビジネス情報収集のプロが、ビジネス情報収集の基本やノウハウを解説します！', 'シリーズ第1弾！ブラック企業を見抜く際にポイントとなる5種類のキーワードをご紹介します。']\u001b[0m\u001b[32;1m\u001b[1;3m具体的な会社名が分からないため、一般的な会社情報を調べる方法について調査を行っても、明確な情報は得られませんでした。次は、会社に関する基本的な情報を探すために、会社の業界やタイプに焦点を当てた調査を行う必要があると考えます。\n",
      "\n",
      "Action: Search\n",
      "Action Input: 企業情報の調べ方や関連情報\n",
      "\u001b[0m\u001b[36;1m\u001b[1;3m以下の情報源を活用することで、企業情報を無料で調べることが可能です。\u001b[0m\u001b[32;1m\u001b[1;3m企業情報を調べるための具体的なアプローチが必要です。次に何をすべきか検討します。\n",
      "\n",
      "Action: Search\n",
      "Action Input: 企業情報を調べる方法と基準\n",
      "\u001b[0m\u001b[36;1m\u001b[1;3m[' entity_type: related_questions.', '企業のホームページを確認する ... チェックしたい企業のホームページの記載内容を確認するのも有益です。 ポイントは「記載内容に矛盾がないかどうか」です ...', '企業情報を無料で取得できるサービス · 無料サービス➀ FUMA · 無料サービス➁ Musubu · 無料サービス➂ BIZMAPS · 無料サービス➃ ザ・ビジネスモール · 無料 ...', 'マイナビ新卒紹介が就活ノウハウとして企業研究で何を調べれば良いのかを解説します。企業を理解するにはにどこに注目すれば良いか、このページで学ぶことができます。', '企業規模の情報は、以下の方法で調べることができます。 総務省統計局の調査. 「経済センサス-活動調査」や「経済構造実態調査」などを通じて調査 ...', '主要取引先の調べ方！企業情報を早く・正確に調査する方法 · インターネット検索 · 新聞記事検索 · 業界専門誌 · 有価証券報告書 · 社内情報の調査 · 現地調査.', '（1）国内の企業情報、業界情報、市場シェアを調べるには. 『帝国データバンク会社年鑑』帝国データバンク（年刊）. 全国の金融機関及び有力・優良企業約 14 万社のデータ ...', '［企業検索］画面で会社名や検索条件などを設定し、選択した媒体から企業情報を検索します。 日本経済新聞社、東京商工リサーチ、帝国データバンクなどの企業検索データベー ...', '企業規模について詳しく知りたい。という方は、「総資産」「売上高」「従業員数」の注意するポイントを押さえて見てみるのがオススメです ...', '企業の概要、事業の概況、財務諸表および経営指標などが記載されています。 EDINET （金融庁）で過去10年分の書類を閲覧できます。', '法人データベースでは、全国150万社以上の企業概要、取引先情報、主な業績、評点などを調査できます。 企業リスク・格付情報は企業の財務データや事業環境 ...']\u001b[0m\u001b[32;1m\u001b[1;3m企業情報を調べるための具体的な情報源や方法が得られましたが、依然として特定の会社に関する情報が不足しています。特定の会社名がわからない限り、具体的な答えを提供するのは難しいです。もし特定の会社に心当たりがあれば、その名称を教えていただければ、より具体的な情報を提供できます。次にするべきことを考えますが、情報が不足しているため、今後のアクションを行うには、特定の会社名や関連する情報を待つほかありません。\n",
      "\n",
      "Final Answer: 具体的な会社の情報が不足しているため、正確な回答を提供できません。特定の会社名や業種を教えていただけると、より具体的な情報を調べます。\u001b[0m\n",
      "\n",
      "\u001b[1m> Finished chain.\u001b[0m\n"
     ]
    }
   ],
   "source": [
    "response = agent_with_chat_history.invoke({\"input\": \"先ほど尋ね\\\n",
    "た会社は何の会社ですか？\"},\n",
    "    config={\"configurable\": {\"session_id\": \"test-session2\"}})"
   ]
  },
  {
   "cell_type": "code",
   "execution_count": null,
   "id": "614d782b-5cc1-44bb-ad4e-16cb98df7c07",
   "metadata": {},
   "outputs": [],
   "source": []
  }
 ],
 "metadata": {
  "kernelspec": {
   "display_name": "Python 3 (ipykernel)",
   "language": "python",
   "name": "python3"
  },
  "language_info": {
   "codemirror_mode": {
    "name": "ipython",
    "version": 3
   },
   "file_extension": ".py",
   "mimetype": "text/x-python",
   "name": "python",
   "nbconvert_exporter": "python",
   "pygments_lexer": "ipython3",
   "version": "3.11.7"
  }
 },
 "nbformat": 4,
 "nbformat_minor": 5
}
