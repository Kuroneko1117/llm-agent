{
 "cells": [
  {
   "cell_type": "code",
   "execution_count": 1,
   "id": "da38a545-f551-4caf-bc99-507e513bbbae",
   "metadata": {},
   "outputs": [
    {
     "name": "stdout",
     "output_type": "stream",
     "text": [
      "Requirement already satisfied: langchain_community in c:\\anaconda\\lib\\site-packages (0.3.23)Note: you may need to restart the kernel to use updated packages.\n",
      "\n",
      "Requirement already satisfied: langchain-core<1.0.0,>=0.3.56 in c:\\anaconda\\lib\\site-packages (from langchain_community) (0.3.58)\n",
      "Requirement already satisfied: langchain<1.0.0,>=0.3.24 in c:\\anaconda\\lib\\site-packages (from langchain_community) (0.3.25)\n",
      "Requirement already satisfied: SQLAlchemy<3,>=1.4 in c:\\anaconda\\lib\\site-packages (from langchain_community) (2.0.25)\n",
      "Requirement already satisfied: requests<3,>=2 in c:\\anaconda\\lib\\site-packages (from langchain_community) (2.31.0)\n",
      "Requirement already satisfied: PyYAML>=5.3 in c:\\anaconda\\lib\\site-packages (from langchain_community) (6.0.1)\n",
      "Requirement already satisfied: aiohttp<4.0.0,>=3.8.3 in c:\\anaconda\\lib\\site-packages (from langchain_community) (3.9.3)\n",
      "Requirement already satisfied: tenacity!=8.4.0,<10,>=8.1.0 in c:\\anaconda\\lib\\site-packages (from langchain_community) (9.1.2)\n",
      "Requirement already satisfied: dataclasses-json<0.7,>=0.5.7 in c:\\anaconda\\lib\\site-packages (from langchain_community) (0.6.7)\n",
      "Requirement already satisfied: pydantic-settings<3.0.0,>=2.4.0 in c:\\anaconda\\lib\\site-packages (from langchain_community) (2.9.1)\n",
      "Requirement already satisfied: langsmith<0.4,>=0.1.125 in c:\\anaconda\\lib\\site-packages (from langchain_community) (0.3.42)\n",
      "Requirement already satisfied: httpx-sse<1.0.0,>=0.4.0 in c:\\anaconda\\lib\\site-packages (from langchain_community) (0.4.0)\n",
      "Requirement already satisfied: numpy>=1.26.2 in c:\\anaconda\\lib\\site-packages (from langchain_community) (1.26.4)\n",
      "Requirement already satisfied: aiosignal>=1.1.2 in c:\\anaconda\\lib\\site-packages (from aiohttp<4.0.0,>=3.8.3->langchain_community) (1.2.0)\n",
      "Requirement already satisfied: attrs>=17.3.0 in c:\\anaconda\\lib\\site-packages (from aiohttp<4.0.0,>=3.8.3->langchain_community) (23.1.0)\n",
      "Requirement already satisfied: frozenlist>=1.1.1 in c:\\anaconda\\lib\\site-packages (from aiohttp<4.0.0,>=3.8.3->langchain_community) (1.4.0)\n",
      "Requirement already satisfied: multidict<7.0,>=4.5 in c:\\anaconda\\lib\\site-packages (from aiohttp<4.0.0,>=3.8.3->langchain_community) (6.0.4)\n",
      "Requirement already satisfied: yarl<2.0,>=1.0 in c:\\anaconda\\lib\\site-packages (from aiohttp<4.0.0,>=3.8.3->langchain_community) (1.9.3)\n",
      "Requirement already satisfied: marshmallow<4.0.0,>=3.18.0 in c:\\anaconda\\lib\\site-packages (from dataclasses-json<0.7,>=0.5.7->langchain_community) (3.26.1)\n",
      "Requirement already satisfied: typing-inspect<1,>=0.4.0 in c:\\anaconda\\lib\\site-packages (from dataclasses-json<0.7,>=0.5.7->langchain_community) (0.9.0)\n",
      "Requirement already satisfied: langchain-text-splitters<1.0.0,>=0.3.8 in c:\\anaconda\\lib\\site-packages (from langchain<1.0.0,>=0.3.24->langchain_community) (0.3.8)\n",
      "Requirement already satisfied: pydantic<3.0.0,>=2.7.4 in c:\\anaconda\\lib\\site-packages (from langchain<1.0.0,>=0.3.24->langchain_community) (2.10.3)\n",
      "Requirement already satisfied: jsonpatch<2.0,>=1.33 in c:\\anaconda\\lib\\site-packages (from langchain-core<1.0.0,>=0.3.56->langchain_community) (1.33)\n",
      "Requirement already satisfied: packaging<25,>=23.2 in c:\\anaconda\\lib\\site-packages (from langchain-core<1.0.0,>=0.3.56->langchain_community) (23.2)\n",
      "Requirement already satisfied: typing-extensions>=4.7 in c:\\anaconda\\lib\\site-packages (from langchain-core<1.0.0,>=0.3.56->langchain_community) (4.12.2)\n",
      "Requirement already satisfied: httpx<1,>=0.23.0 in c:\\anaconda\\lib\\site-packages (from langsmith<0.4,>=0.1.125->langchain_community) (0.28.1)\n",
      "Requirement already satisfied: orjson<4.0.0,>=3.9.14 in c:\\anaconda\\lib\\site-packages (from langsmith<0.4,>=0.1.125->langchain_community) (3.10.18)\n",
      "Requirement already satisfied: requests-toolbelt<2.0.0,>=1.0.0 in c:\\anaconda\\lib\\site-packages (from langsmith<0.4,>=0.1.125->langchain_community) (1.0.0)\n",
      "Requirement already satisfied: zstandard<0.24.0,>=0.23.0 in c:\\anaconda\\lib\\site-packages (from langsmith<0.4,>=0.1.125->langchain_community) (0.23.0)\n",
      "Requirement already satisfied: python-dotenv>=0.21.0 in c:\\anaconda\\lib\\site-packages (from pydantic-settings<3.0.0,>=2.4.0->langchain_community) (0.21.0)\n",
      "Requirement already satisfied: typing-inspection>=0.4.0 in c:\\anaconda\\lib\\site-packages (from pydantic-settings<3.0.0,>=2.4.0->langchain_community) (0.4.0)\n",
      "Requirement already satisfied: charset-normalizer<4,>=2 in c:\\anaconda\\lib\\site-packages (from requests<3,>=2->langchain_community) (2.0.4)\n",
      "Requirement already satisfied: idna<4,>=2.5 in c:\\anaconda\\lib\\site-packages (from requests<3,>=2->langchain_community) (2.10)\n",
      "Requirement already satisfied: urllib3<3,>=1.21.1 in c:\\anaconda\\lib\\site-packages (from requests<3,>=2->langchain_community) (2.0.7)\n",
      "Requirement already satisfied: certifi>=2017.4.17 in c:\\anaconda\\lib\\site-packages (from requests<3,>=2->langchain_community) (2024.2.2)\n",
      "Requirement already satisfied: greenlet!=0.4.17 in c:\\anaconda\\lib\\site-packages (from SQLAlchemy<3,>=1.4->langchain_community) (3.0.1)\n",
      "Requirement already satisfied: anyio in c:\\anaconda\\lib\\site-packages (from httpx<1,>=0.23.0->langsmith<0.4,>=0.1.125->langchain_community) (4.2.0)\n",
      "Requirement already satisfied: httpcore==1.* in c:\\anaconda\\lib\\site-packages (from httpx<1,>=0.23.0->langsmith<0.4,>=0.1.125->langchain_community) (1.0.9)\n",
      "Requirement already satisfied: h11>=0.16 in c:\\anaconda\\lib\\site-packages (from httpcore==1.*->httpx<1,>=0.23.0->langsmith<0.4,>=0.1.125->langchain_community) (0.16.0)\n",
      "Requirement already satisfied: jsonpointer>=1.9 in c:\\anaconda\\lib\\site-packages (from jsonpatch<2.0,>=1.33->langchain-core<1.0.0,>=0.3.56->langchain_community) (2.1)\n",
      "Requirement already satisfied: annotated-types>=0.6.0 in c:\\anaconda\\lib\\site-packages (from pydantic<3.0.0,>=2.7.4->langchain<1.0.0,>=0.3.24->langchain_community) (0.7.0)\n",
      "Requirement already satisfied: pydantic-core==2.27.1 in c:\\anaconda\\lib\\site-packages (from pydantic<3.0.0,>=2.7.4->langchain<1.0.0,>=0.3.24->langchain_community) (2.27.1)\n",
      "Requirement already satisfied: mypy-extensions>=0.3.0 in c:\\anaconda\\lib\\site-packages (from typing-inspect<1,>=0.4.0->dataclasses-json<0.7,>=0.5.7->langchain_community) (1.0.0)\n",
      "Requirement already satisfied: sniffio>=1.1 in c:\\anaconda\\lib\\site-packages (from anyio->httpx<1,>=0.23.0->langsmith<0.4,>=0.1.125->langchain_community) (1.3.0)\n"
     ]
    }
   ],
   "source": [
    "pip install langchain_community"
   ]
  },
  {
   "cell_type": "code",
   "execution_count": 4,
   "id": "4ab536ad-78e3-4f8e-aa68-9d54349141dd",
   "metadata": {},
   "outputs": [
    {
     "name": "stdin",
     "output_type": "stream",
     "text": [
      "OpenAI API キーを入力してください:  ········\n",
      "SERPAPI API キーを入力してください:  ········\n"
     ]
    }
   ],
   "source": [
    "import getpass\n",
    "import os\n",
    "api_key = getpass.getpass(\"OpenAI API キーを入力してください: \")\n",
    "os.environ[\"OPENAI_API_KEY\"] = api_key\n",
    "\n",
    "api_key1 = getpass.getpass(\"SERPAPI API キーを入力してください: \")\n",
    "os.environ[\"SERPAPI_API_KEY\"] = api_key1"
   ]
  },
  {
   "cell_type": "code",
   "execution_count": 6,
   "id": "a01fc7e4-d084-4cea-8afd-fcbb12edf54d",
   "metadata": {},
   "outputs": [
    {
     "name": "stdout",
     "output_type": "stream",
     "text": [
      "Collecting langchainhubNote: you may need to restart the kernel to use updated packages.\n",
      "\n",
      "  Downloading langchainhub-0.1.21-py3-none-any.whl.metadata (659 bytes)\n",
      "Requirement already satisfied: packaging<25,>=23.2 in c:\\anaconda\\lib\\site-packages (from langchainhub) (23.2)\n",
      "Requirement already satisfied: requests<3,>=2 in c:\\anaconda\\lib\\site-packages (from langchainhub) (2.31.0)\n",
      "Collecting types-requests<3.0.0.0,>=2.31.0.2 (from langchainhub)\n",
      "  Downloading types_requests-2.32.0.20250328-py3-none-any.whl.metadata (2.3 kB)\n",
      "Requirement already satisfied: charset-normalizer<4,>=2 in c:\\anaconda\\lib\\site-packages (from requests<3,>=2->langchainhub) (2.0.4)\n",
      "Requirement already satisfied: idna<4,>=2.5 in c:\\anaconda\\lib\\site-packages (from requests<3,>=2->langchainhub) (2.10)\n",
      "Requirement already satisfied: urllib3<3,>=1.21.1 in c:\\anaconda\\lib\\site-packages (from requests<3,>=2->langchainhub) (2.0.7)\n",
      "Requirement already satisfied: certifi>=2017.4.17 in c:\\anaconda\\lib\\site-packages (from requests<3,>=2->langchainhub) (2024.2.2)\n",
      "Downloading langchainhub-0.1.21-py3-none-any.whl (5.2 kB)\n",
      "Downloading types_requests-2.32.0.20250328-py3-none-any.whl (20 kB)\n",
      "Installing collected packages: types-requests, langchainhub\n",
      "Successfully installed langchainhub-0.1.21 types-requests-2.32.0.20250328\n"
     ]
    }
   ],
   "source": [
    "pip install langchainhub"
   ]
  },
  {
   "cell_type": "code",
   "execution_count": 8,
   "id": "4b508a04-d7c4-4617-a950-9c7dbb8515a9",
   "metadata": {},
   "outputs": [
    {
     "name": "stderr",
     "output_type": "stream",
     "text": [
      "C:\\anaconda\\Lib\\site-packages\\langsmith\\client.py:272: LangSmithMissingAPIKeyWarning: API key must be provided when using hosted LangSmith API\n",
      "  warnings.warn(\n"
     ]
    },
    {
     "name": "stdout",
     "output_type": "stream",
     "text": [
      "Answer the following questions as best you can. You have access to the following tools:\n",
      "\n",
      "{tools}\n",
      "\n",
      "Use the following format:\n",
      "\n",
      "Question: the input question you must answer\n",
      "Thought: you should always think about what to do\n",
      "Action: the action to take, should be one of [{tool_names}]\n",
      "Action Input: the input to the action\n",
      "Observation: the result of the action\n",
      "... (this Thought/Action/Action Input/Observation can repeat N times)\n",
      "Thought: I now know the final answer\n",
      "Final Answer: the final answer to the original input question\n",
      "\n",
      "Begin!\n",
      "\n",
      "Question: {input}\n",
      "Thought:{agent_scratchpad}\n"
     ]
    }
   ],
   "source": [
    "from langchain import hub\n",
    "\n",
    "prompt = hub.pull(\"hwchase17/react\")\n",
    "\n",
    "print(prompt.template)"
   ]
  },
  {
   "cell_type": "markdown",
   "id": "e01c6da0-0619-41d7-85b6-4ac71000def0",
   "metadata": {},
   "source": [
    "# おみくじツール定義（再掲）"
   ]
  },
  {
   "cell_type": "code",
   "execution_count": 11,
   "id": "fc3b5c19-63db-4702-9455-83a58344f57c",
   "metadata": {},
   "outputs": [],
   "source": [
    "import random\n",
    "from datetime import datetime\n",
    "\n",
    "def get_fortune(date_string):\n",
    "    # 日付文字列を解析\n",
    "    try:\n",
    "        date = datetime.strptime(date_string, \"%m月%d日\")\n",
    "    except ValueError:\n",
    "        return \"無効な日付形式です。'X月X日'の形式で入力してくださ\\\n",
    "い。\"\n",
    "\n",
    "    # 運勢のリスト\n",
    "    fortunes = [\n",
    "        \"大吉\", \"中吉\", \"小吉\", \"吉\", \"末吉\", \"凶\", \"大凶\"\n",
    "    ]\n",
    "\n",
    "    # 運勢の重み付け（大吉と大凶の確率を低くする）\n",
    "    weights = [1, 3, 3, 4, 3, 2, 1]\n",
    "\n",
    "    # 日付に基づいてシードを設定（同じ日付なら同じ運勢を返す）\n",
    "    random.seed(date.month * 100 + date.day)\n",
    "\n",
    "    # 運勢をランダムに選択\n",
    "    fortune = random.choices(fortunes, weights=weights)[0]\n",
    "\n",
    "    return f\"{date_string}の運勢は【{fortune}】です。\"\n",
    "\n",
    "# ツール作成\n",
    "\n",
    "from langchain.tools import BaseTool\n",
    "\n",
    "class Get_fortune(BaseTool):\n",
    "    name: str = 'Get_fortune'\n",
    "    description: str = (\n",
    "        \"特定の日付の運勢を占う。インプットは  'date_string'です。\\\n",
    "'date_string' は、占いを行う日付で、mm月dd日 という形式です。「1月1日」\\\n",
    "のように入力し、「'1月1日'」のように余計な文字列を付けてはいけません。\"\n",
    "    )\n",
    "\n",
    "    def _run(self, date_string) -> str:\n",
    "        return get_fortune(date_string)\n",
    "\n",
    "\n",
    "    async def _arun(self, query: str) -> str:\n",
    "        raise NotImplementedError(\"does not support async\")"
   ]
  },
  {
   "cell_type": "markdown",
   "id": "4332c278-2a64-473d-9822-8147991b209e",
   "metadata": {},
   "source": [
    "# 日付ツール定義（再掲）"
   ]
  },
  {
   "cell_type": "code",
   "execution_count": 14,
   "id": "e6f4977c-4adf-4b62-8ce4-c8484fe43509",
   "metadata": {},
   "outputs": [],
   "source": [
    "from datetime import timedelta\n",
    "from zoneinfo import ZoneInfo\n",
    "\n",
    "\n",
    "def get_date(date):\n",
    "    date_now = datetime.now(ZoneInfo(\"Asia/Tokyo\"))\n",
    "    if (\"今日\" in date):\n",
    "        date_delta = 0\n",
    "    elif (\"明日\" in date):\n",
    "        date_delta = 1\n",
    "    elif (\"明後日\" in date):\n",
    "        date_delta = 2\n",
    "    else:\n",
    "        return \"サポートしていません\"\n",
    "    return (date_now + timedelta(days=date_delta)).strftime\\\n",
    "('%m月%d日')\n",
    "\n",
    "class Get_date(BaseTool):\n",
    "    name: str = 'Get_date'\n",
    "    description: str = (\n",
    "        \"今日の日付を取得する。インプットは 'date'です。'date' は、日\\\n",
    "付を取得する対象の日で、'今日', '明日', '明後日' という3種類の文字列\\\n",
    "から指定します。「今日」のように入力し、「'今日'」のように余計な文字列を付\\\n",
    "けてはいけません。\"\n",
    "    )\n",
    "\n",
    "    def _run(self, date) -> str:\n",
    "        return get_date(date)\n",
    "\n",
    "    async def _arun(self, query: str) -> str:\n",
    "        raise NotImplementedError(\"does not support async\")"
   ]
  },
  {
   "cell_type": "markdown",
   "id": "8045edcd-4242-4d34-a1af-b3ceedd8ce9f",
   "metadata": {},
   "source": [
    "# エージェントの作成"
   ]
  },
  {
   "cell_type": "code",
   "execution_count": 17,
   "id": "12e1aa5b-0d15-4c94-840f-76a1300b6f51",
   "metadata": {},
   "outputs": [
    {
     "name": "stdout",
     "output_type": "stream",
     "text": [
      "\n",
      "\n",
      "\u001b[1m> Entering new AgentExecutor chain...\u001b[0m\n",
      "\u001b[32;1m\u001b[1;3mI need to obtain today's date in order to provide a fortune for today.  \n",
      "Action: Get_date  \n",
      "Action Input: 今日  \u001b[0m\u001b[36;1m\u001b[1;3m05月07日\u001b[0m\u001b[32;1m\u001b[1;3mI have obtained today's date, which is May 7th. Now I need to get the fortune for this specific date.  \n",
      "Action: Get_fortune  \n",
      "Action Input: 5月07日  \u001b[0m\u001b[33;1m\u001b[1;3m5月07日の運勢は【吉】です。\u001b[0m\u001b[32;1m\u001b[1;3mI now know the final answer.  \n",
      "Final Answer: 今日の運勢は【吉】です。\u001b[0m\n",
      "\n",
      "\u001b[1m> Finished chain.\u001b[0m\n",
      "{'input': [HumanMessage(content='今日の運勢を教えてください。', additional_kwargs={}, response_metadata={})], 'output': '今日の運勢は【吉】です。'}\n"
     ]
    }
   ],
   "source": [
    "from langchain_openai import ChatOpenAI\n",
    "from langchain.schema import HumanMessage\n",
    "from langchain.agents import AgentExecutor, create_react_agent\n",
    "\n",
    "model = ChatOpenAI(model=\"gpt-4o-mini\")\n",
    "\n",
    "tools = [Get_date(), Get_fortune()]\n",
    "\n",
    "#1 エージェントの作成\n",
    "agent = create_react_agent(model, tools, prompt)\n",
    "\n",
    "#2 エージェントの実行準備\n",
    "agent_executor = AgentExecutor(agent=agent, tools=tools, verbose=True)\n",
    "\n",
    "\n",
    "response = agent_executor.invoke({\"input\": [HumanMessage\\\n",
    "(content=\"今日の運勢を教えてください。\")]})\n",
    "\n",
    "print(response)"
   ]
  },
  {
   "cell_type": "markdown",
   "id": "bda5ae83-0474-47f1-bca5-f1ae88d5ab9e",
   "metadata": {},
   "source": [
    "# 検索できるエージェント作成"
   ]
  },
  {
   "cell_type": "code",
   "execution_count": 20,
   "id": "b2774f4c-7738-4dc4-be94-97653be1c72b",
   "metadata": {},
   "outputs": [
    {
     "name": "stdout",
     "output_type": "stream",
     "text": [
      "\n",
      "\n",
      "\u001b[1m> Entering new AgentExecutor chain...\u001b[0m\n",
      "\u001b[32;1m\u001b[1;3m株式会社Elithの住所について最新の公式情報を調べる必要があります。公式のウェブサイトや最新の情報源を検索します。  \n",
      "Action: Search  \n",
      "Action Input: \"株式会社Elith 住所 公式サイト\"  \u001b[0m\u001b[36;1m\u001b[1;3m['株式会社エリスの公式HPです。 Elithは、最先端のAI技術をビジネス実装し価値を生み出す松尾研発スタートアップです.', '\\u200b会社概要 · \\u200bElith OFFICE · 東京都文京区本郷3-30-10本郷 K&Kビル1F · 東京メトロ丸ノ内線 / 本郷三丁目駅 徒歩約2分 都営大江戸線 / 本郷三丁目駅 徒歩約3分 東京メトロ ...', '会社概要株式会社Elithは、東大松尾研発スタートアップ(R)として、最先端のAI ... 住所. 日本113-0033東京都文京区本郷3-30-10本郷 K&Kビル1F. この出展社を見ている ...', '連絡先. https://www.elith.co.jp/ contact@elith.co.jp. 住所. 日本113-0033東京都文京区本郷3-30-10本郷 K&Kビル1F. この出展社を見ている人は、こちらの出展社も見てい ...', '法人番号: 6011001151296; 法人名: 株式会社Elith; 法人名ふりがな: えりす; 法人名英語: 本店所在地: 東京都文京区本郷3丁目30番10号本郷K＆Kビル1F ...', '株式会社アイスマイリーのプレスリリース（2024年7月17日 09時00分）AI博覧会、第6弾スピーカーを発表！Elith 井上氏、メロン 本田氏が講演！', '株式会社Elithの概要. 住所, 〒 〒113-0033 東京都文京区本郷3-30-10本郷 K&Kビル1F. 分野, 映像認識・画像解析（視覚的）, 音声・音による入力（聴覚的）. 業界, 医療 ...', '東大・松尾研発スタートアップの株式会社Elith(エリス)の公式アカウントです。 AI開発・研究を行っています。気軽にリプください、たくさん交流しましょう！', '- 会社名：株式会社Elith · - 代表者：若林怜帆人（代表取締役）、井上顧基（取締役CEO兼CTO） · - 所在地：東京都渋谷区恵比寿西2-3-13-601 · - 会社ウェブサイト：Elithの ...', '株式会社アイスマイリーのプレスリリース（2024年2月19日 13時08分）AI博覧会、第6弾スピーカーを発表！Elith 井上氏、ニューラルグループ 金井氏が講演！']\u001b[0m\u001b[32;1m\u001b[1;3mObservations reveal that the official address of 株式会社Elith is located at 東京都文京区本郷3-30-10本郷K&Kビル1F, with postal code 113-0033.\n",
      "\n",
      "Final Answer: 株式会社Elithの住所は東京都文京区本郷3-30-10本郷K&Kビル1F、郵便番号は113-0033です。\u001b[0m\n",
      "\n",
      "\u001b[1m> Finished chain.\u001b[0m\n",
      "{'input': [HumanMessage(content='株式会社Elithの住所を教えてください。最新の公式情報として公 開されているものを教えてください。', additional_kwargs={}, response_metadata={})], 'output': '株式会社Elithの住所は東京都文京区本郷3-30-10本郷K&Kビル1F、郵便番号は113-0033です。'}\n"
     ]
    }
   ],
   "source": [
    "from langchain.agents import load_tools\n",
    "\n",
    "model = ChatOpenAI(model=\"gpt-4o-mini\")\n",
    "tools = load_tools([\"serpapi\"], llm=model)\n",
    "agent = create_react_agent(model, tools, prompt)\n",
    "agent_executor = AgentExecutor(agent=agent, tools=tools, verbose=True)\n",
    "\n",
    "\n",
    "response = agent_executor.invoke({\"input\": [HumanMessage\\\n",
    " (content=\"株式会社Elithの住所を教えてください。最新の公式情報として公\\\n",
    " 開されているものを教えてください。\")]})\n",
    "\n",
    "print(response)"
   ]
  },
  {
   "cell_type": "code",
   "execution_count": null,
   "id": "3e246a5c-84e9-44d9-9c87-2d4e50216404",
   "metadata": {},
   "outputs": [],
   "source": []
  }
 ],
 "metadata": {
  "kernelspec": {
   "display_name": "Python 3 (ipykernel)",
   "language": "python",
   "name": "python3"
  },
  "language_info": {
   "codemirror_mode": {
    "name": "ipython",
    "version": 3
   },
   "file_extension": ".py",
   "mimetype": "text/x-python",
   "name": "python",
   "nbconvert_exporter": "python",
   "pygments_lexer": "ipython3",
   "version": "3.11.7"
  }
 },
 "nbformat": 4,
 "nbformat_minor": 5
}
