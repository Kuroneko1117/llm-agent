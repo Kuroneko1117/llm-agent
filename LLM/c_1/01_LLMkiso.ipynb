{
 "cells": [
  {
   "cell_type": "markdown",
   "id": "77d358bd-d168-492d-ab17-9f49f50e1c96",
   "metadata": {},
   "source": [
    "# 準備"
   ]
  },
  {
   "cell_type": "code",
   "execution_count": 1,
   "id": "287173bb-eb05-4b63-a388-8e2ccb2df6ab",
   "metadata": {},
   "outputs": [
    {
     "name": "stdin",
     "output_type": "stream",
     "text": [
      "OpenAI API キーを入力してください:  ········\n"
     ]
    }
   ],
   "source": [
    "import getpass\n",
    "import os\n",
    "\n",
    "# OpenAI API キーの設定\n",
    "api_key = getpass.getpass(\"OpenAI API キーを入力してください: \")\n",
    "os.environ[\"OPENAI_API_KEY\"] = api_key"
   ]
  },
  {
   "cell_type": "markdown",
   "id": "28840162-69f2-4ef4-a9a5-1c181d71a5c5",
   "metadata": {},
   "source": [
    "# テキスト生成の基本的な流れ"
   ]
  },
  {
   "cell_type": "code",
   "execution_count": 3,
   "id": "0a07d21f-6839-4244-8e2a-4bf0e94db28f",
   "metadata": {},
   "outputs": [
    {
     "name": "stdout",
     "output_type": "stream",
     "text": [
      "こんにちは！今日はどんなことをお話ししましょうか？\n"
     ]
    }
   ],
   "source": [
    "from openai import OpenAI\n",
    "\n",
    "client = OpenAI()\n",
    "\n",
    "response = client.chat.completions.create(\n",
    "    temperature=0.0,\n",
    "    model=\"gpt-4o-mini\",\n",
    "    messages=[{\"role\": \"user\", \"content\": \"こんにちは\"}],\n",
    ")\n",
    "\n",
    "print(response.choices[0].message.content)"
   ]
  },
  {
   "cell_type": "markdown",
   "id": "6fc38d67-da2b-4a38-826c-78daddb09286",
   "metadata": {},
   "source": [
    "# シンプルな対話 AI の作成"
   ]
  },
  {
   "cell_type": "code",
   "execution_count": 12,
   "id": "17149bd3-b120-4c59-beec-f067dd2c3d55",
   "metadata": {},
   "outputs": [
    {
     "name": "stdin",
     "output_type": "stream",
     "text": [
      "ユーザ入力:  こんにちは\n"
     ]
    },
    {
     "name": "stdout",
     "output_type": "stream",
     "text": [
      "ユーザ: こんにちは\n",
      "AI: こんにちは！今日はどんなことをお話ししましょうか？\n"
     ]
    },
    {
     "name": "stdin",
     "output_type": "stream",
     "text": [
      "ユーザ入力:  exit\n"
     ]
    }
   ],
   "source": [
    "history = []\n",
    "n = 10  # 会話の上限\n",
    "model = \"gpt-4o-mini\"\n",
    "for _ in range(n):\n",
    "    user_input = input(\"ユーザ入力: \")\n",
    "    if user_input == \"exit\":\n",
    "        break\n",
    "    print(f\"ユーザ: {user_input}\")\n",
    "    history.append({\"role\": \"user\", \"content\": user_input})\n",
    "    response = client.chat.completions.create(model=model, messages=history)\n",
    "    content = response.choices[0].message.content\n",
    "    print(f\"AI: {content}\")\n",
    "    history.append({\"role\": \"assistant\", \"content\": content})"
   ]
  },
  {
   "cell_type": "markdown",
   "id": "76742af0-8972-42b4-8b4c-e9cd4849be64",
   "metadata": {},
   "source": [
    "# テキスト生成の応用"
   ]
  },
  {
   "cell_type": "markdown",
   "id": "b092e195-3d61-450e-8664-646a4811be07",
   "metadata": {},
   "source": [
    "# 生成できた部分から順に表示する"
   ]
  },
  {
   "cell_type": "code",
   "execution_count": null,
   "id": "3f570fe1-7e3e-49be-9a3b-16e1de0339d6",
   "metadata": {},
   "outputs": [],
   "source": [
    "history = []\n",
    "n = 10  # 会話の上限\n",
    "model = \"gpt-4o-mini\"\n",
    "for _ in range(n):\n",
    "    user_input = input(\"ユーザ入力: \")\n",
    "    if user_input == \"exit\":\n",
    "        break\n",
    "    print(f\"ユーザ: {user_input}\")\n",
    "    history.append({\"role\": \"user\", \"content\": user_input})\n",
    "    # stream=True でストリーミングを有効化\n",
    "    stream = client.chat.completions.create(model=model, messages=history, stream=True)\n",
    "    print(\"AI: \", end=\"\")\n",
    "    # 応答を集める文字列\n",
    "    ai_content = \"\"\n",
    "    # ストリーミングの各チャンクを処理\n",
    "    for chunk in stream:\n",
    "        # message ではなく ChoiceDelta\n",
    "        content = chunk.choices[0].delta.content\n",
    "        # ChoiceDelta の finish_reason が stop なら生成完了\n",
    "        if chunk.choices[0].finish_reason == \"stop\":\n",
    "            break\n",
    "        print(content, end=\"\")\n",
    "        ai_content += content\n",
    "    print()\n",
    "    history.append({\"role\": \"assistant\", \"content\": ai_content})"
   ]
  },
  {
   "cell_type": "markdown",
   "id": "059002a5-17fe-41e6-aef5-5dea195bdc01",
   "metadata": {},
   "source": [
    "# 最大公約数を求めるツールの利用"
   ]
  },
  {
   "cell_type": "code",
   "execution_count": 18,
   "id": "8f26b14b-61e9-407a-bcd4-137c6def5e07",
   "metadata": {},
   "outputs": [
    {
     "name": "stdout",
     "output_type": "stream",
     "text": [
      "None\n",
      "tool_calls\n",
      "[ChatCompletionMessageToolCall(id='call_DduSimZWU8V8CWhklx0P1f0W', function=Function(arguments='{\"num1\":50141,\"num2\":53599}', name='gcd'), type='function')]\n"
     ]
    }
   ],
   "source": [
    "gcd_function = {\n",
    "    \"name\": \"gcd\",\n",
    "    \"description\": \"最大公約数を求める\",\n",
    "    \"parameters\": {\n",
    "        \"type\": \"object\",\n",
    "        \"properties\": {\n",
    "            \"num1\": {\"type\": \"number\", \"description\": \"整数1\"},\n",
    "            \"num2\": {\"type\": \"number\", \"description\": \"整数2\"},\n",
    "        },\n",
    "        \"required\": [\"num1\", \"num2\"],\n",
    "    },\n",
    "}\n",
    "tools = [{\"type\": \"function\", \"function\": gcd_function}]\n",
    "\n",
    "messages = [\n",
    "    {\"role\": \"user\", \"content\": \"50141 と 53599 の最大公約数を求めてください。\"}\n",
    "]\n",
    "\n",
    "response = client.chat.completions.create(\n",
    "    model=\"gpt-4o-mini\", messages=messages, tools=tools\n",
    ")\n",
    "print(response.choices[0].message.content)  # None\n",
    "print(response.choices[0].finish_reason)  # tool_calls\n",
    "print(response.choices[0].message.tool_calls)  # [ChatCompletionMessageToolCall(...)]\n"
   ]
  },
  {
   "cell_type": "markdown",
   "id": "968dfb52-6a7e-4b01-8b02-1a6942d2d5a9",
   "metadata": {},
   "source": [
    "# 関数情報を抽出"
   ]
  },
  {
   "cell_type": "code",
   "execution_count": 20,
   "id": "acbe9542-98a3-423a-8213-d096b819b84d",
   "metadata": {},
   "outputs": [],
   "source": [
    "import json\n",
    "\n",
    "function_info = response.choices[0].message.tool_calls[0].function\n",
    "name = function_info.name\n",
    "args = json.loads(function_info.arguments)"
   ]
  },
  {
   "cell_type": "markdown",
   "id": "26fd6d06-f97a-43af-87e6-965b09cb167a",
   "metadata": {},
   "source": [
    "# 最大公約数の計算"
   ]
  },
  {
   "cell_type": "code",
   "execution_count": 24,
   "id": "510e5ff6-ec78-4c2f-b33a-5c81e1528bf4",
   "metadata": {},
   "outputs": [
    {
     "name": "stdout",
     "output_type": "stream",
     "text": [
      "1729\n"
     ]
    }
   ],
   "source": [
    "import math\n",
    "\n",
    "print(math.gcd(args[\"num1\"], args[\"num2\"]))"
   ]
  },
  {
   "cell_type": "markdown",
   "id": "dbd3088c-f7cf-401b-a478-4df0815e4e0d",
   "metadata": {},
   "source": [
    "# Pydantic を用いた関数の定義"
   ]
  },
  {
   "cell_type": "code",
   "execution_count": 34,
   "id": "b30bfe62-98b5-4c75-b404-aa7bcbe30da2",
   "metadata": {},
   "outputs": [
    {
     "name": "stdout",
     "output_type": "stream",
     "text": [
      "1729\n"
     ]
    }
   ],
   "source": [
    "from pydantic import BaseModel, Field\n",
    "import json\n",
    "import math\n",
    "\n",
    "class GCD(BaseModel):\n",
    "    num1: int = Field(description=\"整数1\")\n",
    "    num2: int = Field(description=\"整数2\")\n",
    "\n",
    "\n",
    "gcd_function = {\n",
    "    \"name\": \"gcd\",\n",
    "    \"description\": \"最大公約数を求める\",\n",
    "    \"parameters\": GCD.model_json_schema(),\n",
    "}\n",
    "\n",
    "\n",
    "function_info = response.choices[0].message.tool_calls[0].function\n",
    "name = function_info.name\n",
    "args = json.loads(function_info.arguments)\n",
    "\n",
    "print(math.gcd(args[\"num1\"], args[\"num2\"]))"
   ]
  },
  {
   "cell_type": "markdown",
   "id": "440dba62-cc6f-4970-8297-4f2fb302477e",
   "metadata": {},
   "source": [
    "# Pydantic を用いた引数の取得"
   ]
  },
  {
   "cell_type": "code",
   "execution_count": 38,
   "id": "534f9c38-4056-49ad-8ac8-68aa90dbc819",
   "metadata": {},
   "outputs": [
    {
     "name": "stdout",
     "output_type": "stream",
     "text": [
      "num1=50141 num2=53599\n"
     ]
    }
   ],
   "source": [
    "parsed_result = GCD.model_validate_json(\n",
    "    response.choices[0].message.tool_calls[0].function.arguments\n",
    ")\n",
    "print(parsed_result)"
   ]
  },
  {
   "cell_type": "code",
   "execution_count": 46,
   "id": "68cdf4c0-f78e-4b14-b4d7-2cb334a71a7b",
   "metadata": {},
   "outputs": [
    {
     "name": "stdout",
     "output_type": "stream",
     "text": [
      "最大公約数: 1729\n",
      "最小公倍数: 1554371\n"
     ]
    }
   ],
   "source": [
    "class LCM(BaseModel):\n",
    "    num1: int = Field(description=\"整数1\")\n",
    "    num2: int = Field(description=\"整数2\")\n",
    "\n",
    "\n",
    "lcm_function = {\n",
    "    \"name\": \"lcm\",\n",
    "    \"description\": \"最小公倍数を求める\",\n",
    "    \"parameters\": LCM.model_json_schema(),\n",
    "}\n",
    "\n",
    "tools = [\n",
    "    {\"type\": \"function\", \"function\": gcd_function},\n",
    "    {\"type\": \"function\", \"function\": lcm_function},\n",
    "]\n",
    "\n",
    "messages = [\n",
    "    {\n",
    "        \"role\": \"user\",\n",
    "        \"content\": \"50141 と 53599 の最大公約数と最小公倍数を求めてください。\",\n",
    "    }\n",
    "]\n",
    "\n",
    "response = client.chat.completions.create(\n",
    "    model=\"gpt-4o-mini\", messages=messages, tools=tools\n",
    ")\n",
    "choice = response.choices[0]\n",
    "if choice.finish_reason == \"tool_calls\":\n",
    "    for tool in choice.message.tool_calls:\n",
    "        if tool.function.name == \"gcd\":\n",
    "            gcd_args = GCD.model_validate_json(tool.function.arguments)\n",
    "            print(f\"最大公約数: {math.gcd(gcd_args.num1, gcd_args.num2)}\")\n",
    "        elif tool.function.name == \"lcm\":\n",
    "            lcm_args = LCM.model_validate_json(tool.function.arguments)\n",
    "            print(f\"最小公倍数: {math.lcm(lcm_args.num1, lcm_args.num2)}\")\n",
    "elif choice.finish_reason == \"stop\":\n",
    "    print(\"AI: \", choice.message.content)"
   ]
  },
  {
   "cell_type": "markdown",
   "id": "ca4ed00f-bfa9-42a9-9dcc-b06d663df6ec",
   "metadata": {},
   "source": [
    "# response_format の利用例"
   ]
  },
  {
   "cell_type": "code",
   "execution_count": 49,
   "id": "0923dd12-839c-49bc-ade6-5e2799df6f71",
   "metadata": {},
   "outputs": [
    {
     "name": "stdout",
     "output_type": "stream",
     "text": [
      "英語: I am a cat. I do not have a name yet.\n",
      "フランス語: Je suis un chat. Je n'ai pas encore de nom.\n",
      "中国語: 我是一只猫。还没有名字。\n"
     ]
    }
   ],
   "source": [
    "class Translations(BaseModel):\n",
    "    english: str = Field(description=\"英語の文章\")\n",
    "    french: str = Field(description=\"フランス語の文章\")\n",
    "    chinese: str = Field(description=\"中国語の文章\")\n",
    "\n",
    "\n",
    "prompt = f\"\"\"\\\n",
    "以下に示す文章を英語・フランス語・中国語に翻訳してください。\n",
    "ただし、アウトプットは後述するフォーマットの JSON 形式で出力してください。\n",
    "\n",
    "# 文章\n",
    "吾輩は猫である。名前はまだない。\n",
    "\n",
    "# 出力フォーマット\n",
    "以下に JSON Schema 形式のフォーマットを示します。このフォーマットに従うオブジェクトの形で出力してください。\n",
    "{Translations.model_json_schema()}\n",
    "\"\"\"\n",
    "\n",
    "response = client.chat.completions.create(\n",
    "    temperature=0.0,\n",
    "    model=\"gpt-4o-mini\",\n",
    "    messages=[{\"role\": \"user\", \"content\": prompt}],\n",
    "    response_format={\"type\": \"json_object\"},\n",
    ")\n",
    "\n",
    "translations = Translations.model_validate_json(response.choices[0].message.content)\n",
    "print(\"英語:\", translations.english)\n",
    "print(\"フランス語:\", translations.french)\n",
    "print(\"中国語:\", translations.chinese)"
   ]
  },
  {
   "cell_type": "markdown",
   "id": "d842a5d4-02a6-4cdd-adcd-2b39883ae736",
   "metadata": {},
   "source": [
    "# 画像を入力する"
   ]
  },
  {
   "cell_type": "code",
   "execution_count": 63,
   "id": "b170f0aa-616e-427d-8d9a-30f35e7dfdc4",
   "metadata": {},
   "outputs": [
    {
     "name": "stdout",
     "output_type": "stream",
     "text": [
      "これは猫のイラストです。シンプルな線画で描かれており、猫の特徴が表現されています。\n"
     ]
    }
   ],
   "source": [
    "import base64\n",
    "from pathlib import Path\n",
    "from typing import Any\n",
    "\n",
    "from openai import OpenAI\n",
    "\n",
    "client = OpenAI()\n",
    "\n",
    "\n",
    "def image2content(image_path: Path) -> dict[str, Any]:\n",
    "    # base64 エンコード\n",
    "    with image_path.open(\"rb\") as f:\n",
    "        image_base64 = base64.b64encode(f.read()).decode(\"utf-8\")\n",
    "\n",
    "    # content の作成\n",
    "    content = {\n",
    "        \"type\": \"image_url\",\n",
    "        \"image_url\": {\"url\": f\"data:image/png;base64,{image_base64}\", \"detail\": \"low\"},\n",
    "    }\n",
    "    return content\n",
    "\n",
    "prompt = \"これは何の画像ですか?\"\n",
    "image_path = Path(\"./sample_image1.png\")\n",
    "contents = [{\"type\": \"text\", \"text\": prompt}, image2content(image_path)]\n",
    "\n",
    "response = client.chat.completions.create(\n",
    "    model=\"gpt-4o-mini\",\n",
    "    temperature=0.0,\n",
    "    messages=[{\"role\": \"user\", \"content\": contents}],\n",
    ")\n",
    "\n",
    "print(response.choices[0].message.content)"
   ]
  },
  {
   "cell_type": "code",
   "execution_count": 69,
   "id": "e449ce65-16a7-4af8-a9b2-713588fc412c",
   "metadata": {},
   "outputs": [
    {
     "name": "stdout",
     "output_type": "stream",
     "text": [
      "1枚目の画像は、シンプルな線画スタイルの猫のイラストで、表情や形が抽象的です。2枚目の画像は、カラフルで詳細なイラストの猫で、帽子をかぶり、背景に円形のデザインがあります。\n",
      "\n",
      "主な違いは、スタイル（線画 vs. カラフルなイラスト）、ディテールの豊富さ、そして背景の有無です。\n"
     ]
    }
   ],
   "source": [
    "image_path2 = Path(\"./sample_image2.png\")\n",
    "\n",
    "prompt = \"2枚の画像の違いを教えてください。\"\n",
    "contents = [\n",
    "    {\"type\": \"text\", \"text\": prompt},\n",
    "    image2content(image_path),\n",
    "    image2content(image_path2),\n",
    "]\n",
    "response = client.chat.completions.create(\n",
    "    model=\"gpt-4o-mini\",\n",
    "    temperature=0.0,\n",
    "    messages=[{\"role\": \"user\", \"content\": contents}],\n",
    ")\n",
    "\n",
    "print(response.choices[0].message.content)"
   ]
  },
  {
   "cell_type": "markdown",
   "id": "6857ffc9-9ab2-4836-a03c-25fd3f1daea7",
   "metadata": {},
   "source": [
    "# 音声を文字起こしする。"
   ]
  },
  {
   "cell_type": "code",
   "execution_count": 73,
   "id": "1fafa98e-0f17-47ce-9e4b-88512eaaddec",
   "metadata": {},
   "outputs": [
    {
     "name": "stdout",
     "output_type": "stream",
     "text": [
      "私の名前は下ヶ内です。\n"
     ]
    }
   ],
   "source": [
    "from pathlib import Path\n",
    "from openai import OpenAI\n",
    "\n",
    "\n",
    "client = OpenAI()\n",
    "audio_path = Path(\"./sample_audio.mp3\")\n",
    "\n",
    "with audio_path.open(\"rb\") as f:\n",
    "    transcription = client.audio.transcriptions.create(\n",
    "        model=\"whisper-1\", file=f, temperature=0.0\n",
    "    )\n",
    "print(transcription.text)"
   ]
  },
  {
   "cell_type": "markdown",
   "id": "fb35b378-3ae4-455b-8e76-059d529bc55f",
   "metadata": {},
   "source": [
    "# プロンプトを用いて文字起こしする。"
   ]
  },
  {
   "cell_type": "code",
   "execution_count": 80,
   "id": "fe76bbe0-bb05-4fd5-9ef3-b0a172fe2284",
   "metadata": {},
   "outputs": [
    {
     "name": "stdout",
     "output_type": "stream",
     "text": [
      "私の名前は下垣内です。\n",
      "\n"
     ]
    }
   ],
   "source": [
    "prompt = \"下垣内\"\n",
    "\n",
    "with audio_path.open(\"rb\") as f:\n",
    "    transcription = client.audio.transcriptions.create(\n",
    "        model=\"whisper-1\",\n",
    "        file=f,\n",
    "        prompt=prompt,\n",
    "        response_format=\"text\",\n",
    "        temperature=0.0,\n",
    "    )\n",
    "print(transcription)"
   ]
  },
  {
   "cell_type": "markdown",
   "id": "512760af-f150-4373-a02d-a5a6b4da2da4",
   "metadata": {},
   "source": [
    "# 音声を合成する。"
   ]
  },
  {
   "cell_type": "code",
   "execution_count": 92,
   "id": "2f8d04a4-c4ce-4bec-a220-3f77e8412195",
   "metadata": {},
   "outputs": [],
   "source": [
    "audio_output_path = Path(\"output.mp3\")\n",
    "with client.audio.speech.with_streaming_response.create(\n",
    "    model=\"tts-1\",\n",
    "    voice=\"alloy\",\n",
    "    input=\"こんにちは。私は AI アシスタントです！\",\n",
    ") as response:\n",
    "    response.stream_to_file(audio_output_path)"
   ]
  },
  {
   "cell_type": "markdown",
   "id": "76f51f0b-c519-4a8b-b098-c0aca01ef9f1",
   "metadata": {},
   "source": [
    "# 画像を生成する"
   ]
  },
  {
   "cell_type": "code",
   "execution_count": 95,
   "id": "d999f546-82f8-4a62-9bca-f0cd87c58eef",
   "metadata": {},
   "outputs": [],
   "source": [
    "from openai import OpenAI\n",
    "import requests\n",
    "\n",
    "client = OpenAI()\n",
    "\n",
    "prompt = \"\"\"\\\n",
    "メタリックな球体\n",
    "\"\"\"\n",
    "\n",
    "response = client.images.generate(\n",
    "    model=\"dall-e-3\", prompt=prompt, n=1, size=\"1024x1024\"\n",
    ")\n",
    "\n",
    "image_url = response.data[0].url\n",
    "image = requests.get(image_url).content\n",
    "with open(\"output1.png\", \"wb\") as f:\n",
    "    f.write(image)"
   ]
  },
  {
   "cell_type": "code",
   "execution_count": 97,
   "id": "fe9fac39-ebea-4f82-8d1c-5e972dd8ee07",
   "metadata": {},
   "outputs": [],
   "source": [
    "response = client.images.generate(\n",
    "    model=\"dall-e-3\", prompt=prompt, n=1, size=\"1024x1024\", response_format=\"b64_json\"\n",
    ")\n",
    "\n",
    "image = response.data[0].b64_json\n",
    "\n",
    "with open(\"output2.png\", \"wb\") as f:\n",
    "    f.write(base64.b64decode(image))"
   ]
  },
  {
   "cell_type": "code",
   "execution_count": 99,
   "id": "e7fa3ca7-e5d4-43da-b36f-e81047c68944",
   "metadata": {},
   "outputs": [
    {
     "name": "stdout",
     "output_type": "stream",
     "text": [
      "A sphere with a metallic texture reflecting the environment around it\n"
     ]
    }
   ],
   "source": [
    "print(response.data[0].revised_prompt)"
   ]
  },
  {
   "cell_type": "code",
   "execution_count": null,
   "id": "3e20b798-ecde-48d0-995f-de14b6cba2d4",
   "metadata": {},
   "outputs": [],
   "source": []
  }
 ],
 "metadata": {
  "kernelspec": {
   "display_name": "Python 3 (ipykernel)",
   "language": "python",
   "name": "python3"
  },
  "language_info": {
   "codemirror_mode": {
    "name": "ipython",
    "version": 3
   },
   "file_extension": ".py",
   "mimetype": "text/x-python",
   "name": "python",
   "nbconvert_exporter": "python",
   "pygments_lexer": "ipython3",
   "version": "3.11.7"
  }
 },
 "nbformat": 4,
 "nbformat_minor": 5
}
