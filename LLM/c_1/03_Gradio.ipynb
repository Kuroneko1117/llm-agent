{
 "cells": [
  {
   "cell_type": "markdown",
   "id": "f82112a2-72ff-410d-9ff7-030a2f066198",
   "metadata": {},
   "source": [
    "# 準備"
   ]
  },
  {
   "cell_type": "code",
   "execution_count": 1,
   "id": "5d44b15a-5c33-4fcc-87a9-2be184e02fc3",
   "metadata": {},
   "outputs": [
    {
     "name": "stdin",
     "output_type": "stream",
     "text": [
      "OpenAI API キーを入力してください:  ········\n"
     ]
    }
   ],
   "source": [
    "import getpass\n",
    "import os\n",
    "import gradio as gr\n",
    "\n",
    "# OpenAI API キーの設定\n",
    "api_key = getpass.getpass(\"OpenAI API キーを入力してください: \")\n",
    "os.environ[\"OPENAI_API_KEY\"] = api_key"
   ]
  },
  {
   "cell_type": "code",
   "execution_count": 71,
   "id": "7b3293d4-aff8-43bb-9a66-cd16bbc5870a",
   "metadata": {},
   "outputs": [
    {
     "name": "stdout",
     "output_type": "stream",
     "text": [
      "Requirement already satisfied: gradio in c:\\anaconda\\lib\\site-packages (5.29.0)Note: you may need to restart the kernel to use updated packages.\n",
      "\n",
      "Requirement already satisfied: aiofiles<25.0,>=22.0 in c:\\anaconda\\lib\\site-packages (from gradio) (24.1.0)\n",
      "Requirement already satisfied: anyio<5.0,>=3.0 in c:\\anaconda\\lib\\site-packages (from gradio) (4.2.0)\n",
      "Requirement already satisfied: fastapi<1.0,>=0.115.2 in c:\\anaconda\\lib\\site-packages (from gradio) (0.115.12)\n",
      "Requirement already satisfied: ffmpy in c:\\anaconda\\lib\\site-packages (from gradio) (0.5.0)\n",
      "Requirement already satisfied: gradio-client==1.10.0 in c:\\anaconda\\lib\\site-packages (from gradio) (1.10.0)\n",
      "Requirement already satisfied: groovy~=0.1 in c:\\anaconda\\lib\\site-packages (from gradio) (0.1.2)\n",
      "Requirement already satisfied: httpx>=0.24.1 in c:\\anaconda\\lib\\site-packages (from gradio) (0.28.1)\n",
      "Requirement already satisfied: huggingface-hub>=0.28.1 in c:\\anaconda\\lib\\site-packages (from gradio) (0.30.2)\n",
      "Requirement already satisfied: jinja2<4.0 in c:\\anaconda\\lib\\site-packages (from gradio) (3.1.3)\n",
      "Requirement already satisfied: markupsafe<4.0,>=2.0 in c:\\anaconda\\lib\\site-packages (from gradio) (2.1.3)\n",
      "Requirement already satisfied: numpy<3.0,>=1.0 in c:\\anaconda\\lib\\site-packages (from gradio) (1.26.4)\n",
      "Requirement already satisfied: orjson~=3.0 in c:\\anaconda\\lib\\site-packages (from gradio) (3.10.18)\n",
      "Requirement already satisfied: packaging in c:\\anaconda\\lib\\site-packages (from gradio) (23.2)\n",
      "Requirement already satisfied: pandas<3.0,>=1.0 in c:\\anaconda\\lib\\site-packages (from gradio) (2.1.4)\n",
      "Requirement already satisfied: pillow<12.0,>=8.0 in c:\\anaconda\\lib\\site-packages (from gradio) (10.2.0)\n",
      "Requirement already satisfied: pydantic<2.12,>=2.0 in c:\\anaconda\\lib\\site-packages (from gradio) (2.10.3)\n",
      "Requirement already satisfied: pydub in c:\\anaconda\\lib\\site-packages (from gradio) (0.25.1)\n",
      "Requirement already satisfied: python-multipart>=0.0.18 in c:\\anaconda\\lib\\site-packages (from gradio) (0.0.20)\n",
      "Requirement already satisfied: pyyaml<7.0,>=5.0 in c:\\anaconda\\lib\\site-packages (from gradio) (6.0.1)\n",
      "Requirement already satisfied: ruff>=0.9.3 in c:\\anaconda\\lib\\site-packages (from gradio) (0.11.8)\n",
      "Requirement already satisfied: safehttpx<0.2.0,>=0.1.6 in c:\\anaconda\\lib\\site-packages (from gradio) (0.1.6)\n",
      "Requirement already satisfied: semantic-version~=2.0 in c:\\anaconda\\lib\\site-packages (from gradio) (2.10.0)\n",
      "Requirement already satisfied: starlette<1.0,>=0.40.0 in c:\\anaconda\\lib\\site-packages (from gradio) (0.46.2)\n",
      "Requirement already satisfied: tomlkit<0.14.0,>=0.12.0 in c:\\anaconda\\lib\\site-packages (from gradio) (0.13.2)\n",
      "Requirement already satisfied: typer<1.0,>=0.12 in c:\\anaconda\\lib\\site-packages (from gradio) (0.15.3)\n",
      "Requirement already satisfied: typing-extensions~=4.0 in c:\\anaconda\\lib\\site-packages (from gradio) (4.12.2)\n",
      "Requirement already satisfied: uvicorn>=0.14.0 in c:\\anaconda\\lib\\site-packages (from gradio) (0.34.2)\n",
      "Requirement already satisfied: fsspec in c:\\anaconda\\lib\\site-packages (from gradio-client==1.10.0->gradio) (2023.10.0)\n",
      "Requirement already satisfied: websockets<16.0,>=10.0 in c:\\anaconda\\lib\\site-packages (from gradio-client==1.10.0->gradio) (15.0.1)\n",
      "Requirement already satisfied: idna>=2.8 in c:\\anaconda\\lib\\site-packages (from anyio<5.0,>=3.0->gradio) (2.10)\n",
      "Requirement already satisfied: sniffio>=1.1 in c:\\anaconda\\lib\\site-packages (from anyio<5.0,>=3.0->gradio) (1.3.0)\n",
      "Requirement already satisfied: certifi in c:\\anaconda\\lib\\site-packages (from httpx>=0.24.1->gradio) (2024.2.2)\n",
      "Requirement already satisfied: httpcore==1.* in c:\\anaconda\\lib\\site-packages (from httpx>=0.24.1->gradio) (1.0.9)\n",
      "Requirement already satisfied: h11>=0.16 in c:\\anaconda\\lib\\site-packages (from httpcore==1.*->httpx>=0.24.1->gradio) (0.16.0)\n",
      "Requirement already satisfied: filelock in c:\\anaconda\\lib\\site-packages (from huggingface-hub>=0.28.1->gradio) (3.13.1)\n",
      "Requirement already satisfied: requests in c:\\anaconda\\lib\\site-packages (from huggingface-hub>=0.28.1->gradio) (2.31.0)\n",
      "Requirement already satisfied: tqdm>=4.42.1 in c:\\anaconda\\lib\\site-packages (from huggingface-hub>=0.28.1->gradio) (4.65.0)\n",
      "Requirement already satisfied: python-dateutil>=2.8.2 in c:\\anaconda\\lib\\site-packages (from pandas<3.0,>=1.0->gradio) (2.8.2)\n",
      "Requirement already satisfied: pytz>=2020.1 in c:\\anaconda\\lib\\site-packages (from pandas<3.0,>=1.0->gradio) (2024.2)\n",
      "Requirement already satisfied: tzdata>=2022.1 in c:\\anaconda\\lib\\site-packages (from pandas<3.0,>=1.0->gradio) (2023.3)\n",
      "Requirement already satisfied: annotated-types>=0.6.0 in c:\\anaconda\\lib\\site-packages (from pydantic<2.12,>=2.0->gradio) (0.7.0)\n",
      "Requirement already satisfied: pydantic-core==2.27.1 in c:\\anaconda\\lib\\site-packages (from pydantic<2.12,>=2.0->gradio) (2.27.1)\n",
      "Requirement already satisfied: click>=8.0.0 in c:\\anaconda\\lib\\site-packages (from typer<1.0,>=0.12->gradio) (8.1.7)\n",
      "Requirement already satisfied: shellingham>=1.3.0 in c:\\anaconda\\lib\\site-packages (from typer<1.0,>=0.12->gradio) (1.5.4)\n",
      "Requirement already satisfied: rich>=10.11.0 in c:\\anaconda\\lib\\site-packages (from typer<1.0,>=0.12->gradio) (13.3.5)\n",
      "Requirement already satisfied: colorama in c:\\anaconda\\lib\\site-packages (from click>=8.0.0->typer<1.0,>=0.12->gradio) (0.4.6)\n",
      "Requirement already satisfied: six>=1.5 in c:\\anaconda\\lib\\site-packages (from python-dateutil>=2.8.2->pandas<3.0,>=1.0->gradio) (1.16.0)\n",
      "Requirement already satisfied: markdown-it-py<3.0.0,>=2.2.0 in c:\\anaconda\\lib\\site-packages (from rich>=10.11.0->typer<1.0,>=0.12->gradio) (2.2.0)\n",
      "Requirement already satisfied: pygments<3.0.0,>=2.13.0 in c:\\anaconda\\lib\\site-packages (from rich>=10.11.0->typer<1.0,>=0.12->gradio) (2.15.1)\n",
      "Requirement already satisfied: charset-normalizer<4,>=2 in c:\\anaconda\\lib\\site-packages (from requests->huggingface-hub>=0.28.1->gradio) (2.0.4)\n",
      "Requirement already satisfied: urllib3<3,>=1.21.1 in c:\\anaconda\\lib\\site-packages (from requests->huggingface-hub>=0.28.1->gradio) (2.0.7)\n",
      "Requirement already satisfied: mdurl~=0.1 in c:\\anaconda\\lib\\site-packages (from markdown-it-py<3.0.0,>=2.2.0->rich>=10.11.0->typer<1.0,>=0.12->gradio) (0.1.0)\n"
     ]
    }
   ],
   "source": [
    "pip install gradio"
   ]
  },
  {
   "cell_type": "markdown",
   "id": "a450bd2c-82cc-42e0-8a98-cb912143a4d1",
   "metadata": {},
   "source": [
    "# 簡単なインターフェースの実装"
   ]
  },
  {
   "cell_type": "code",
   "execution_count": 5,
   "id": "b3a974a1-0880-4017-9c33-ac7c44409e03",
   "metadata": {},
   "outputs": [
    {
     "name": "stdout",
     "output_type": "stream",
     "text": [
      "* Running on local URL:  http://127.0.0.1:7860\n",
      "* To create a public link, set `share=True` in `launch()`.\n"
     ]
    },
    {
     "data": {
      "text/html": [
       "<div><iframe src=\"http://127.0.0.1:7860/\" width=\"100%\" height=\"500\" allow=\"autoplay; camera; microphone; clipboard-read; clipboard-write;\" frameborder=\"0\" allowfullscreen></iframe></div>"
      ],
      "text/plain": [
       "<IPython.core.display.HTML object>"
      ]
     },
     "metadata": {},
     "output_type": "display_data"
    },
    {
     "name": "stdout",
     "output_type": "stream",
     "text": [
      "Created dataset file at: .gradio\\flagged\\dataset1.csv\n",
      "Keyboard interruption in main thread... closing server.\n"
     ]
    },
    {
     "data": {
      "text/plain": []
     },
     "execution_count": 5,
     "metadata": {},
     "output_type": "execute_result"
    }
   ],
   "source": [
    "def text2text(text):\n",
    "    text = \"<<\" + text + \">>\"\n",
    "    return text\n",
    "\n",
    "input_text = gr.Text(label=\"入力\")\n",
    "output_text = gr.Text(label=\"出力\")\n",
    "\n",
    "demo = gr.Interface(inputs=input_text, outputs=output_text, fn=text2text)\n",
    "demo.launch(debug=True)"
   ]
  },
  {
   "cell_type": "markdown",
   "id": "1fd52a33-03ee-471f-8c64-cd9080dc430c",
   "metadata": {},
   "source": [
    "# ブロックの実装"
   ]
  },
  {
   "cell_type": "code",
   "execution_count": 12,
   "id": "ab2f63e3-a632-42e0-8238-de0b76018dac",
   "metadata": {},
   "outputs": [
    {
     "name": "stdout",
     "output_type": "stream",
     "text": [
      "* Running on local URL:  http://127.0.0.1:7861\n",
      "* To create a public link, set `share=True` in `launch()`.\n"
     ]
    },
    {
     "data": {
      "text/html": [
       "<div><iframe src=\"http://127.0.0.1:7861/\" width=\"100%\" height=\"500\" allow=\"autoplay; camera; microphone; clipboard-read; clipboard-write;\" frameborder=\"0\" allowfullscreen></iframe></div>"
      ],
      "text/plain": [
       "<IPython.core.display.HTML object>"
      ]
     },
     "metadata": {},
     "output_type": "display_data"
    },
    {
     "data": {
      "text/plain": []
     },
     "execution_count": 12,
     "metadata": {},
     "output_type": "execute_result"
    }
   ],
   "source": [
    "def text2text_rich(text):\n",
    "    top = \"^\" * len(text)\n",
    "    bottom = \"v\" * len(text)\n",
    "    text = f\" {top}\\n<{text}>\\n {bottom}\"\n",
    "    return text\n",
    "\n",
    "with gr.Blocks() as demo:\n",
    "    input_text = gr.Text(label=\"入力\")\n",
    "    button1 = gr.Button(value=\"Normal\")\n",
    "    button2 = gr.Button(value=\"Rich\")\n",
    "    output_text = gr.Text(label=\"出力\")\n",
    "\n",
    "    button1.click(inputs=input_text, outputs=output_text, fn=text2text)\n",
    "    button2.click(inputs=input_text, outputs=output_text, fn=text2text_rich)\n",
    "demo.launch()"
   ]
  },
  {
   "cell_type": "markdown",
   "id": "98cd9755-a599-40a0-bced-307751bc33b1",
   "metadata": {},
   "source": [
    "# 重要なコンポーネント"
   ]
  },
  {
   "cell_type": "code",
   "execution_count": 14,
   "id": "e1937991-5f5a-4646-bf1f-125a6b9597e8",
   "metadata": {},
   "outputs": [
    {
     "name": "stdout",
     "output_type": "stream",
     "text": [
      "* Running on local URL:  http://127.0.0.1:7862\n",
      "* To create a public link, set `share=True` in `launch()`.\n"
     ]
    },
    {
     "data": {
      "text/html": [
       "<div><iframe src=\"http://127.0.0.1:7862/\" width=\"100%\" height=\"1200\" allow=\"autoplay; camera; microphone; clipboard-read; clipboard-write;\" frameborder=\"0\" allowfullscreen></iframe></div>"
      ],
      "text/plain": [
       "<IPython.core.display.HTML object>"
      ]
     },
     "metadata": {},
     "output_type": "display_data"
    },
    {
     "data": {
      "text/plain": []
     },
     "execution_count": 14,
     "metadata": {},
     "output_type": "execute_result"
    }
   ],
   "source": [
    "def audio_upload(audio):\n",
    "    return audio\n",
    "\n",
    "\n",
    "with gr.Blocks() as demo:\n",
    "    # Audio\n",
    "    audio = gr.Audio(label=\"音声\", type=\"filepath\")\n",
    "    # Checkbox\n",
    "    checkbox = gr.Checkbox(label=\"チェックボックス\")\n",
    "    # File\n",
    "    file = gr.File(label=\"ファイル\", file_types=[\"image\"])\n",
    "    # Number\n",
    "    number = gr.Number(label=\"数値\")\n",
    "    # Markdown\n",
    "    markdown = gr.Markdown(label=\"Markdown\", value=\"# タイトル\\n## サブタイトル\\n本文\")\n",
    "    # Slider\n",
    "    slider = gr.Slider(\n",
    "        label=\"スライダー\", minimum=-10, maximum=10, step=0.5, interactive=True\n",
    "    )\n",
    "    # Textbox\n",
    "    textbox = gr.Textbox(label=\"テキストボックス\")\n",
    "\n",
    "demo.launch(height=1200)"
   ]
  },
  {
   "cell_type": "markdown",
   "id": "8c0dc27e-dc4e-48d6-a011-48293bb41276",
   "metadata": {},
   "source": [
    "# UI の工夫"
   ]
  },
  {
   "cell_type": "code",
   "execution_count": 17,
   "id": "a29c9724-41d4-4514-8410-753e5e51eede",
   "metadata": {},
   "outputs": [
    {
     "name": "stdout",
     "output_type": "stream",
     "text": [
      "* Running on local URL:  http://127.0.0.1:7863\n",
      "* To create a public link, set `share=True` in `launch()`.\n"
     ]
    },
    {
     "data": {
      "text/html": [
       "<div><iframe src=\"http://127.0.0.1:7863/\" width=\"100%\" height=\"800\" allow=\"autoplay; camera; microphone; clipboard-read; clipboard-write;\" frameborder=\"0\" allowfullscreen></iframe></div>"
      ],
      "text/plain": [
       "<IPython.core.display.HTML object>"
      ]
     },
     "metadata": {},
     "output_type": "display_data"
    },
    {
     "data": {
      "text/plain": []
     },
     "execution_count": 17,
     "metadata": {},
     "output_type": "execute_result"
    }
   ],
   "source": [
    "with gr.Blocks() as demo:\n",
    "    # Accordion\n",
    "    with gr.Accordion(label=\"アコーディオン\"):\n",
    "        gr.Text(value=\"アコーディオンの中身\")\n",
    "    with gr.Row():\n",
    "        gr.Text(value=\"左\")\n",
    "        gr.Text(value=\"右\")\n",
    "\n",
    "    with gr.Row():\n",
    "        with gr.Column():\n",
    "            gr.Text(value=\"(0, 0)\")\n",
    "            gr.Text(value=\"(1, 0)\")\n",
    "        with gr.Column():\n",
    "            gr.Text(value=\"(0, 1)\")\n",
    "            gr.Text(value=\"(1, 1)\")\n",
    "\n",
    "    with gr.Tab(label=\"タブ1\"):\n",
    "        gr.Text(value=\"コンテンツ1\")\n",
    "    with gr.Tab(label=\"タブ2\"):\n",
    "        gr.Text(value=\"コンテンツ2\")\n",
    "\n",
    "demo.launch(height=800)"
   ]
  },
  {
   "cell_type": "markdown",
   "id": "a140ad63-0bae-4dc4-9b51-f2111c005ddf",
   "metadata": {},
   "source": [
    "# スライダーの利用"
   ]
  },
  {
   "cell_type": "code",
   "execution_count": 20,
   "id": "a76a5538-4398-49cc-b6ab-248292fd3005",
   "metadata": {},
   "outputs": [
    {
     "name": "stdout",
     "output_type": "stream",
     "text": [
      "* Running on local URL:  http://127.0.0.1:7864\n",
      "* To create a public link, set `share=True` in `launch()`.\n"
     ]
    },
    {
     "data": {
      "text/html": [
       "<div><iframe src=\"http://127.0.0.1:7864/\" width=\"100%\" height=\"500\" allow=\"autoplay; camera; microphone; clipboard-read; clipboard-write;\" frameborder=\"0\" allowfullscreen></iframe></div>"
      ],
      "text/plain": [
       "<IPython.core.display.HTML object>"
      ]
     },
     "metadata": {},
     "output_type": "display_data"
    },
    {
     "data": {
      "text/plain": []
     },
     "execution_count": 20,
     "metadata": {},
     "output_type": "execute_result"
    }
   ],
   "source": [
    "with gr.Blocks() as demo:\n",
    "    slider = gr.Slider(label=\"個数\", minimum=0, maximum=10, step=1)\n",
    "\n",
    "    @gr.render(inputs=slider)\n",
    "    def render_blocks(value):\n",
    "        for i in range(value):\n",
    "            gr.Text(value=f\"Block {i}\")\n",
    "\n",
    "\n",
    "demo.launch()"
   ]
  },
  {
   "cell_type": "code",
   "execution_count": 22,
   "id": "1dd05641-6545-4ced-b1bb-967a279cfd11",
   "metadata": {},
   "outputs": [
    {
     "name": "stdout",
     "output_type": "stream",
     "text": [
      "* Running on local URL:  http://127.0.0.1:7865\n",
      "* To create a public link, set `share=True` in `launch()`.\n"
     ]
    },
    {
     "data": {
      "text/html": [
       "<div><iframe src=\"http://127.0.0.1:7865/\" width=\"100%\" height=\"500\" allow=\"autoplay; camera; microphone; clipboard-read; clipboard-write;\" frameborder=\"0\" allowfullscreen></iframe></div>"
      ],
      "text/plain": [
       "<IPython.core.display.HTML object>"
      ]
     },
     "metadata": {},
     "output_type": "display_data"
    },
    {
     "data": {
      "text/plain": []
     },
     "execution_count": 22,
     "metadata": {},
     "output_type": "execute_result"
    }
   ],
   "source": [
    "import time\n",
    "\n",
    "\n",
    "def iterative_output():\n",
    "    for i in range(10):\n",
    "        time.sleep(0.5)\n",
    "        yield str(i)\n",
    "\n",
    "\n",
    "with gr.Blocks() as demo:\n",
    "    button = gr.Button(\"実行\")\n",
    "    output = gr.Text(label=\"出力\")\n",
    "    button.click(outputs=output, fn=iterative_output)\n",
    "\n",
    "demo.launch()"
   ]
  },
  {
   "cell_type": "markdown",
   "id": "2af148d1-48e6-428e-9ab2-34629ac0ce91",
   "metadata": {},
   "source": [
    "# 状態を保持する"
   ]
  },
  {
   "cell_type": "code",
   "execution_count": 25,
   "id": "dff5cf9e-dca5-4b17-84dc-6994f40da8d9",
   "metadata": {},
   "outputs": [
    {
     "name": "stdout",
     "output_type": "stream",
     "text": [
      "* Running on local URL:  http://127.0.0.1:7866\n",
      "* To create a public link, set `share=True` in `launch()`.\n"
     ]
    },
    {
     "data": {
      "text/html": [
       "<div><iframe src=\"http://127.0.0.1:7866/\" width=\"100%\" height=\"500\" allow=\"autoplay; camera; microphone; clipboard-read; clipboard-write;\" frameborder=\"0\" allowfullscreen></iframe></div>"
      ],
      "text/plain": [
       "<IPython.core.display.HTML object>"
      ]
     },
     "metadata": {},
     "output_type": "display_data"
    },
    {
     "data": {
      "text/plain": []
     },
     "execution_count": 25,
     "metadata": {},
     "output_type": "execute_result"
    }
   ],
   "source": [
    "with gr.Blocks() as demo:\n",
    "    username = gr.State(\"\")\n",
    "    text_input = gr.Text(label=\"ユーザ名\")\n",
    "    button1 = gr.Button(\"決定\")\n",
    "    button2 = gr.Button(\"自分の名前を表示\")\n",
    "    text_output = gr.Text(label=\"出力\")\n",
    "    button1.click(inputs=text_input, outputs=username, fn=lambda x: x)\n",
    "    button2.click(inputs=username, outputs=text_output, fn=lambda x: x)\n",
    "\n",
    "demo.launch()"
   ]
  },
  {
   "cell_type": "markdown",
   "id": "d72a639c-9f61-4f4a-8b1c-20f248e7c004",
   "metadata": {},
   "source": [
    "# チャット UI を作る"
   ]
  },
  {
   "cell_type": "code",
   "execution_count": 28,
   "id": "d7d937a8-a32b-49e3-8302-abeac8c94fa2",
   "metadata": {},
   "outputs": [
    {
     "name": "stderr",
     "output_type": "stream",
     "text": [
      "C:\\anaconda\\Lib\\site-packages\\gradio\\chat_interface.py:338: UserWarning: The 'tuples' format for chatbot messages is deprecated and will be removed in a future version of Gradio. Please set type='messages' instead, which uses openai-style 'role' and 'content' keys.\n",
      "  self.chatbot = Chatbot(\n"
     ]
    },
    {
     "name": "stdout",
     "output_type": "stream",
     "text": [
      "* Running on local URL:  http://127.0.0.1:7867\n",
      "* To create a public link, set `share=True` in `launch()`.\n"
     ]
    },
    {
     "data": {
      "text/html": [
       "<div><iframe src=\"http://127.0.0.1:7867/\" width=\"100%\" height=\"500\" allow=\"autoplay; camera; microphone; clipboard-read; clipboard-write;\" frameborder=\"0\" allowfullscreen></iframe></div>"
      ],
      "text/plain": [
       "<IPython.core.display.HTML object>"
      ]
     },
     "metadata": {},
     "output_type": "display_data"
    },
    {
     "data": {
      "text/plain": []
     },
     "execution_count": 28,
     "metadata": {},
     "output_type": "execute_result"
    }
   ],
   "source": [
    "from langchain_openai.chat_models import ChatOpenAI\n",
    "\n",
    "llm = ChatOpenAI(model=\"gpt-4o-mini\")\n",
    "\n",
    "\n",
    "def history2messages(history):\n",
    "    messages = []\n",
    "    for user, assistant in history:\n",
    "        messages.append({\"role\": \"user\", \"content\": user})\n",
    "        messages.append({\"role\": \"assistant\", \"content\": assistant})\n",
    "    return messages\n",
    "\n",
    "\n",
    "def chat(message, history):\n",
    "    messages = history2messages(history)\n",
    "    messages.append({\"role\": \"user\", \"content\": message})\n",
    "    response = llm.invoke(message)\n",
    "    return response.content\n",
    "\n",
    "\n",
    "demo = gr.ChatInterface(chat)\n",
    "\n",
    "demo.launch()"
   ]
  },
  {
   "cell_type": "markdown",
   "id": "b8d0b7e5-81da-4124-ac8f-b19a7510bf3d",
   "metadata": {},
   "source": [
    "# Stream チャットボット"
   ]
  },
  {
   "cell_type": "code",
   "execution_count": 31,
   "id": "9b373deb-cb90-451e-9693-8e5956c96253",
   "metadata": {},
   "outputs": [
    {
     "name": "stderr",
     "output_type": "stream",
     "text": [
      "C:\\anaconda\\Lib\\site-packages\\gradio\\chat_interface.py:338: UserWarning: The 'tuples' format for chatbot messages is deprecated and will be removed in a future version of Gradio. Please set type='messages' instead, which uses openai-style 'role' and 'content' keys.\n",
      "  self.chatbot = Chatbot(\n"
     ]
    },
    {
     "name": "stdout",
     "output_type": "stream",
     "text": [
      "* Running on local URL:  http://127.0.0.1:7868\n",
      "* To create a public link, set `share=True` in `launch()`.\n"
     ]
    },
    {
     "data": {
      "text/html": [
       "<div><iframe src=\"http://127.0.0.1:7868/\" width=\"100%\" height=\"500\" allow=\"autoplay; camera; microphone; clipboard-read; clipboard-write;\" frameborder=\"0\" allowfullscreen></iframe></div>"
      ],
      "text/plain": [
       "<IPython.core.display.HTML object>"
      ]
     },
     "metadata": {},
     "output_type": "display_data"
    },
    {
     "name": "stderr",
     "output_type": "stream",
     "text": [
      "Exception in callback _ProactorBasePipeTransport._call_connection_lost(None)\n",
      "handle: <Handle _ProactorBasePipeTransport._call_connection_lost(None)>\n",
      "Traceback (most recent call last):\n",
      "  File \"C:\\anaconda\\Lib\\asyncio\\events.py\", line 80, in _run\n",
      "    self._context.run(self._callback, *self._args)\n",
      "  File \"C:\\anaconda\\Lib\\asyncio\\proactor_events.py\", line 165, in _call_connection_lost\n",
      "    self._sock.shutdown(socket.SHUT_RDWR)\n",
      "ConnectionResetError: [WinError 10054] 既存の接続はリモート ホストに強制的に切断されました。\n"
     ]
    },
    {
     "name": "stdout",
     "output_type": "stream",
     "text": [
      "Keyboard interruption in main thread... closing server.\n"
     ]
    },
    {
     "data": {
      "text/plain": []
     },
     "execution_count": 31,
     "metadata": {},
     "output_type": "execute_result"
    }
   ],
   "source": [
    "from langchain_openai.chat_models import ChatOpenAI\n",
    "\n",
    "llm = ChatOpenAI(model=\"gpt-4o-mini\")\n",
    "\n",
    "\n",
    "def chat(message, history):\n",
    "    messages = history2messages(history)\n",
    "    messages.append({\"role\": \"user\", \"content\": message})\n",
    "    output = \"\"\n",
    "    for chunk in llm.stream(messages):\n",
    "        output += chunk.content\n",
    "        yield output\n",
    "\n",
    "\n",
    "demo = gr.ChatInterface(chat)\n",
    "\n",
    "demo.launch(debug=True)"
   ]
  },
  {
   "cell_type": "markdown",
   "id": "18e1442c-9dac-42b5-a004-4597d511e1fe",
   "metadata": {},
   "source": [
    "# Gradio の応用\n",
    "# 翻訳アプリケーション"
   ]
  },
  {
   "cell_type": "code",
   "execution_count": 35,
   "id": "32b1fe07-32b9-4870-a5af-d14c8f998de3",
   "metadata": {},
   "outputs": [
    {
     "name": "stdout",
     "output_type": "stream",
     "text": [
      "* Running on local URL:  http://127.0.0.1:7869\n",
      "* To create a public link, set `share=True` in `launch()`.\n"
     ]
    },
    {
     "data": {
      "text/html": [
       "<div><iframe src=\"http://127.0.0.1:7869/\" width=\"100%\" height=\"500\" allow=\"autoplay; camera; microphone; clipboard-read; clipboard-write;\" frameborder=\"0\" allowfullscreen></iframe></div>"
      ],
      "text/plain": [
       "<IPython.core.display.HTML object>"
      ]
     },
     "metadata": {},
     "output_type": "display_data"
    },
    {
     "data": {
      "text/plain": []
     },
     "execution_count": 35,
     "metadata": {},
     "output_type": "execute_result"
    }
   ],
   "source": [
    "from langchain_core.prompts import PromptTemplate\n",
    "from langchain_openai.chat_models import ChatOpenAI\n",
    "\n",
    "llm = ChatOpenAI(model=\"gpt-4o-mini\")\n",
    "\n",
    "# 1 テンプレートの作成\n",
    "TRANSLATION_PROMPT = \"\"\"\\\n",
    "以下の文章を {language} に翻訳し、翻訳結果のみを返してください。\n",
    "{source_text}\n",
    "\"\"\"\n",
    "prompt = PromptTemplate.from_template(TRANSLATION_PROMPT)\n",
    "\n",
    "# 2 Runnable の作成\n",
    "runnable = prompt | llm\n",
    "\n",
    "languages = [\"日本語\", \"英語\", \"中国語\", \"ラテン語\", \"ギリシャ語\"]\n",
    "\n",
    "\n",
    "def translate(source_text, language):\n",
    "    # 3 Runnable の実行\n",
    "    response = runnable.invoke(dict(source_text=source_text, language=language))\n",
    "    return response.content\n",
    "\n",
    "\n",
    "with gr.Blocks() as demo:\n",
    "    # 入力テキスト\n",
    "    source_text = gr.Textbox(label=\"翻訳元の文章\")\n",
    "    # 言語を選択\n",
    "    language = gr.Dropdown(label=\"言語\", choices=languages)\n",
    "    button = gr.Button(\"翻訳\")\n",
    "    # 出力テキスト\n",
    "    translated_text = gr.Textbox(label=\"翻訳結果\")\n",
    "\n",
    "    button.click(inputs=[source_text, language], outputs=translated_text, fn=translate)\n",
    "\n",
    "demo.launch()"
   ]
  },
  {
   "cell_type": "markdown",
   "id": "7302099d-e43b-4c02-8a5e-e95c3595514f",
   "metadata": {},
   "source": [
    "# テーブル作成アプリケーション"
   ]
  },
  {
   "cell_type": "code",
   "execution_count": 39,
   "id": "4590289a-7f7d-4122-a542-29fca8717de8",
   "metadata": {},
   "outputs": [
    {
     "name": "stderr",
     "output_type": "stream",
     "text": [
      "C:\\anaconda\\Lib\\site-packages\\IPython\\core\\interactiveshell.py:3553: LangChainDeprecationWarning: As of langchain-core 0.3.0, LangChain uses pydantic v2 internally. The langchain_core.pydantic_v1 module was a compatibility shim for pydantic v1, and should no longer be used. Please update the code to import from Pydantic directly.\n",
      "\n",
      "For example, replace imports like: `from langchain_core.pydantic_v1 import BaseModel`\n",
      "with: `from pydantic import BaseModel`\n",
      "or the v1 compatibility namespace if you are working in a code base that has not been fully upgraded to pydantic 2 yet. \tfrom pydantic.v1 import BaseModel\n",
      "\n",
      "  exec(code_obj, self.user_global_ns, self.user_ns)\n"
     ]
    }
   ],
   "source": [
    "import csv\n",
    "\n",
    "import pandas as pd\n",
    "from langchain_core.prompts import PromptTemplate\n",
    "from langchain_core.pydantic_v1 import BaseModel, Field\n",
    "from langchain_core.tools import tool\n",
    "from langchain_openai.chat_models import ChatOpenAI\n",
    "\n",
    "\n",
    "# 1 入力形式の定義\n",
    "class CSV2DFToolInput(BaseModel):\n",
    "    csv_text: str = Field(description=\"CSVのテキスト\")\n",
    "\n",
    "\n",
    "# 2 ツール本体の定義. csv を保存するツールから json に変換するツールに変更\n",
    "@tool(\"csv2json-tool\", args_schema=CSV2DFToolInput, return_direct=True)\n",
    "def csv2json(csv_text: str) -> pd.DataFrame:\n",
    "    \"\"\"CSV テキストを pandas DataFrame に変換する\"\"\"\n",
    "    try:\n",
    "        rows = list(csv.reader(csv_text.splitlines()))\n",
    "        df = pd.DataFrame(rows[1:], columns=rows[0])\n",
    "    except Exception:\n",
    "        df = pd.DataFrame()\n",
    "    return df.to_json()\n",
    "\n",
    "\n",
    "# 3 ツールを LLM に紐づける\n",
    "llm = ChatOpenAI(model=\"gpt-4o-mini\")\n",
    "# bind するツールを変更\n",
    "tools = [csv2json]\n",
    "llm_with_tool = llm.bind_tools(tools=tools, tool_choice=\"csv2json-tool\")\n",
    "\n",
    "# プロンプトを修正\n",
    "TABLE_PROMPT = \"\"\"\\\n",
    "{user_input}\n",
    "結果は CSV で作成し、csv2json-tool を利用して json に変換してください。\n",
    "\"\"\"\n",
    "prompt = PromptTemplate.from_template(TABLE_PROMPT)\n",
    "\n",
    "\n",
    "# 4 Runnable の作成\n",
    "def get_tool_args(x):\n",
    "    return x.tool_calls[0]  # AIMessage から ToolCall オブジェクトを取り出す。\n",
    "\n",
    "\n",
    "runnable = prompt | llm_with_tool | get_tool_args | csv2json"
   ]
  },
  {
   "cell_type": "code",
   "execution_count": 41,
   "id": "1200af56-af32-425b-9d2d-482c005db784",
   "metadata": {},
   "outputs": [
    {
     "name": "stdout",
     "output_type": "stream",
     "text": [
      "* Running on local URL:  http://127.0.0.1:7870\n",
      "* To create a public link, set `share=True` in `launch()`.\n"
     ]
    },
    {
     "data": {
      "text/html": [
       "<div><iframe src=\"http://127.0.0.1:7870/\" width=\"100%\" height=\"1000\" allow=\"autoplay; camera; microphone; clipboard-read; clipboard-write;\" frameborder=\"0\" allowfullscreen></iframe></div>"
      ],
      "text/plain": [
       "<IPython.core.display.HTML object>"
      ]
     },
     "metadata": {},
     "output_type": "display_data"
    },
    {
     "data": {
      "text/plain": []
     },
     "execution_count": 41,
     "metadata": {},
     "output_type": "execute_result"
    }
   ],
   "source": [
    "def create_df(user_input):\n",
    "    response = runnable.invoke(dict(user_input=user_input))\n",
    "    json_str = response.content\n",
    "    df = pd.read_json(json_str)\n",
    "    return df\n",
    "\n",
    "\n",
    "with gr.Blocks() as demo:\n",
    "    # 入力テキスト\n",
    "    user_input = gr.Textbox(label=\"テーブルを作成したい内容のテキスト\")\n",
    "    button = gr.Button(\"実行\")\n",
    "    # 出力テキスト\n",
    "    output_table = gr.DataFrame()\n",
    "\n",
    "    button.click(inputs=user_input, outputs=output_table, fn=create_df)\n",
    "\n",
    "demo.launch(height=1000)"
   ]
  },
  {
   "cell_type": "markdown",
   "id": "b720c32c-eb56-4aaf-989c-4487c601e7e8",
   "metadata": {},
   "source": [
    "# Plan-and-Solve チャットボット"
   ]
  },
  {
   "cell_type": "code",
   "execution_count": 44,
   "id": "839c4dc5-f7c8-40fd-8fe3-44f4240e1446",
   "metadata": {},
   "outputs": [],
   "source": [
    "from langchain_openai import ChatOpenAI\n",
    "\n",
    "llm = ChatOpenAI(model=\"gpt-4o-mini\")"
   ]
  },
  {
   "cell_type": "code",
   "execution_count": 46,
   "id": "86d9735b-52b6-4993-b1d6-8e4534000d44",
   "metadata": {},
   "outputs": [],
   "source": [
    "from langchain_core.pydantic_v1 import BaseModel, Field\n",
    "\n",
    "\n",
    "# ツール入力形式の定義\n",
    "class ActionItem(BaseModel):\n",
    "    action_name: str = Field(description=\"アクション名\")\n",
    "    action_description: str = Field(description=\"アクションの詳細\")\n",
    "\n",
    "\n",
    "class Plan(BaseModel):\n",
    "    \"\"\"アクションプランを格納する\"\"\"\n",
    "\n",
    "    problem: str = Field(description=\"問題の説明\")\n",
    "    actions: list[ActionItem] = Field(description=\"実行すべきアクションリスト\")\n",
    "\n",
    "\n",
    "class ActionResult(BaseModel):\n",
    "    \"\"\"実行時の考えと結果を格納する\"\"\"\n",
    "\n",
    "    thoughts: str = Field(description=\"検討内容\")\n",
    "    result: str = Field(description=\"結果\")"
   ]
  },
  {
   "cell_type": "markdown",
   "id": "82c15da8-1ec2-487a-b004-70610ebc9780",
   "metadata": {},
   "source": [
    "# 単一アクションの実行"
   ]
  },
  {
   "cell_type": "code",
   "execution_count": 49,
   "id": "12f4cd15-092f-4fbc-ad99-04d154800a79",
   "metadata": {},
   "outputs": [],
   "source": [
    "from langchain_openai.output_parsers.tools import PydanticToolsParser\n",
    "from langchain_core.prompts import PromptTemplate\n",
    "\n",
    "\n",
    "ACTION_PROMPT = \"\"\"\\\n",
    "問題をアクションプランに分解して解いています。\n",
    "これまでのアクションの結果と、次に行うべきアクションを示すので、実際にアクションを実行してその結果を報告してください。\n",
    "# 問題\n",
    "{problem}\n",
    "# アクションプラン\n",
    "{action_items}\n",
    "# これまでのアクションの結果\n",
    "{action_results}\n",
    "# 次のアクション\n",
    "{next_action}\n",
    "\"\"\"\n",
    "\n",
    "llm_action = llm.bind_tools([ActionResult], tool_choice=\"ActionResult\")\n",
    "action_parser = PydanticToolsParser(tools=[ActionResult], first_tool_only=True)\n",
    "plan_parser = PydanticToolsParser(tools=[Plan], first_tool_only=True)\n",
    "\n",
    "action_prompt = PromptTemplate.from_template(ACTION_PROMPT)\n",
    "action_runnable = action_prompt | llm_action | action_parser"
   ]
  },
  {
   "cell_type": "markdown",
   "id": "a08b5b17-ec13-4d2c-9102-a5ac3f8bca41",
   "metadata": {},
   "source": [
    "# プランに含まれるアクションを実行するループ"
   ]
  },
  {
   "cell_type": "code",
   "execution_count": 52,
   "id": "be306ded-c239-489a-9f11-99e1a9b515c8",
   "metadata": {},
   "outputs": [],
   "source": [
    "def action_loop(action_plan: Plan):\n",
    "    problem = action_plan.problem\n",
    "    actions = action_plan.actions\n",
    "\n",
    "    action_items = \"\\n\".join([\"* \" + action.action_name for action in actions])\n",
    "    action_results = []\n",
    "    action_results_str = \"\"\n",
    "    for _, action in enumerate(actions):\n",
    "        next_action = f\"* {action.action_name}  \\n{action.action_description}\"\n",
    "        response = action_runnable.invoke(\n",
    "            dict(\n",
    "                problem=problem,\n",
    "                action_items=action_items,\n",
    "                action_results=action_results_str,\n",
    "                next_action=next_action,\n",
    "            )\n",
    "        )\n",
    "        action_results.append(response)\n",
    "        action_results_str += f\"* {action.action_name}  \\n{response.result}\\n\"\n",
    "        yield (\n",
    "            response.thoughts,\n",
    "            response.result,\n",
    "        )  # 変更ポイント: 途中結果を yield で返す"
   ]
  },
  {
   "cell_type": "markdown",
   "id": "44fd1d04-7e10-4f5f-9603-ce9445f3d8e9",
   "metadata": {},
   "source": [
    "# 全体を通した Runnable 作成"
   ]
  },
  {
   "cell_type": "code",
   "execution_count": 55,
   "id": "a8303b02-d7c3-4590-821d-243dc90af0e3",
   "metadata": {},
   "outputs": [],
   "source": [
    "from langchain_core.prompts import ChatPromptTemplate, MessagesPlaceholder\n",
    "from langchain_core.messages import SystemMessage\n",
    "\n",
    "PLAN_AND_SOLVE_PROMPT = \"\"\"\\\n",
    "ユーザの質問が複雑な場合は、アクションプランを作成し、その後に1つずつ実行する Plan-and-Solve 形式をとります。\n",
    "これが必要と判断した場合は、Plan ツールによってアクションプランを保存してください。\n",
    "\"\"\"\n",
    "system_prompt = SystemMessage(PLAN_AND_SOLVE_PROMPT)\n",
    "chat_prompt = ChatPromptTemplate.from_messages(\n",
    "    [system_prompt, MessagesPlaceholder(variable_name=\"history\")]\n",
    ")\n",
    "\n",
    "llm_plan = llm.bind_tools(tools=[Plan])\n",
    "planning_runnable = chat_prompt | llm_plan  # route を削除"
   ]
  },
  {
   "cell_type": "markdown",
   "id": "bc9ca611-9d1c-48be-a5bc-23a17da2a212",
   "metadata": {},
   "source": [
    "# chat関数の定義"
   ]
  },
  {
   "cell_type": "code",
   "execution_count": 63,
   "id": "f7d2f536-17ca-4e33-b94d-64e08727623f",
   "metadata": {},
   "outputs": [],
   "source": [
    "from gradio import ChatMessage\n",
    "from langchain_core.messages import AIMessage, HumanMessage\n",
    "\n",
    "\n",
    "def chat(prompt, messages, history):\n",
    "    # 描画用の履歴をアップデート\n",
    "    messages.append(ChatMessage(role=\"user\", content=prompt))\n",
    "    # LangChain 用の履歴をアップデート\n",
    "    history.append(HumanMessage(content=prompt))\n",
    "    # プランまたは返答を作成\n",
    "    response = planning_runnable.invoke(dict(history=history))\n",
    "    if response.response_metadata[\"finish_reason\"] != \"tool_calls\":\n",
    "        # タスクが簡単な場合はプランを作らずに返す\n",
    "        messages.append(ChatMessage(role=\"assistant\", content=response.content))\n",
    "        history.append(AIMessage(content=response.content))\n",
    "        yield \"\", messages, history\n",
    "    else:\n",
    "        # アクションプランを抽出\n",
    "        action_plan = plan_parser.invoke(response)\n",
    "\n",
    "        # アクション名を表示\n",
    "        action_items = \"\\n\".join(\n",
    "            [\"* \" + action.action_name for action in action_plan.actions]\n",
    "        )\n",
    "        messages.append(\n",
    "            ChatMessage(\n",
    "                role=\"assistant\",\n",
    "                content=action_items,\n",
    "                metadata={\"title\": \"実行されるアクション\"},\n",
    "            )\n",
    "        )\n",
    "        # プランの段階で一度描画する\n",
    "        yield \"\", messages, history\n",
    "\n",
    "        # アクションプランを実行\n",
    "        action_results_str = \"\"\n",
    "        for i, (thoughts, result) in enumerate(action_loop(action_plan)):\n",
    "            action_name = action_plan.actions[i].action_name\n",
    "            action_results_str += f\"* {action_name}  \\n{result}\\n\"\n",
    "            text = f\"## {action_name}\\n### 思考過程\\n{thoughts}\\n### 結果\\n{result}\"\n",
    "            messages.append(ChatMessage(role=\"assistant\", content=text))\n",
    "            # 実行結果を描画する\n",
    "            yield \"\", messages, history\n",
    "\n",
    "        history.append(AIMessage(content=action_results_str))\n",
    "        # LangChain 用の履歴を更新する\n",
    "        yield \"\", messages, history"
   ]
  },
  {
   "cell_type": "markdown",
   "id": "275812ce-41b9-4a67-8606-e6fef296ce68",
   "metadata": {},
   "source": [
    "# UIコンポーネントの定義"
   ]
  },
  {
   "cell_type": "code",
   "execution_count": 66,
   "id": "ccf22428-54a5-4e63-bed7-490a6a23e62e",
   "metadata": {},
   "outputs": [
    {
     "name": "stdout",
     "output_type": "stream",
     "text": [
      "* Running on local URL:  http://127.0.0.1:7871\n",
      "* To create a public link, set `share=True` in `launch()`.\n"
     ]
    },
    {
     "data": {
      "text/html": [
       "<div><iframe src=\"http://127.0.0.1:7871/\" width=\"100%\" height=\"1000\" allow=\"autoplay; camera; microphone; clipboard-read; clipboard-write;\" frameborder=\"0\" allowfullscreen></iframe></div>"
      ],
      "text/plain": [
       "<IPython.core.display.HTML object>"
      ]
     },
     "metadata": {},
     "output_type": "display_data"
    },
    {
     "data": {
      "text/plain": []
     },
     "execution_count": 66,
     "metadata": {},
     "output_type": "execute_result"
    }
   ],
   "source": [
    "with gr.Blocks() as demo:\n",
    "    chatbot = gr.Chatbot(label=\"Assistant\", type=\"messages\", height=800)\n",
    "    history = gr.State([])\n",
    "    with gr.Row():\n",
    "        with gr.Column(scale=9):\n",
    "            user_input = gr.Textbox(lines=1, label=\"Chat Message\")\n",
    "        with gr.Column(scale=1):\n",
    "            submit = gr.Button(\"Submit\")\n",
    "            clear = gr.ClearButton([user_input, chatbot, history])\n",
    "    submit.click(\n",
    "        chat,\n",
    "        inputs=[user_input, chatbot, history],\n",
    "        outputs=[user_input, chatbot, history],\n",
    "    )\n",
    "demo.launch(height=1000)"
   ]
  },
  {
   "cell_type": "code",
   "execution_count": null,
   "id": "c975e95c-c368-4046-aada-5e054f5b1f11",
   "metadata": {},
   "outputs": [],
   "source": []
  }
 ],
 "metadata": {
  "kernelspec": {
   "display_name": "Python 3 (ipykernel)",
   "language": "python",
   "name": "python3"
  },
  "language_info": {
   "codemirror_mode": {
    "name": "ipython",
    "version": 3
   },
   "file_extension": ".py",
   "mimetype": "text/x-python",
   "name": "python",
   "nbconvert_exporter": "python",
   "pygments_lexer": "ipython3",
   "version": "3.11.7"
  }
 },
 "nbformat": 4,
 "nbformat_minor": 5
}
